{
 "cells": [
  {
   "cell_type": "code",
   "execution_count": 1,
   "id": "9d451cb9-6120-4b08-b45f-fa2f89f1ce49",
   "metadata": {},
   "outputs": [],
   "source": [
    "import os\n",
    "import phoenix\n",
    "import phoenix as px\n",
    "import pandas as pd\n",
    "import openai\n",
    "import re\n",
    "import nest_asyncio\n",
    "nest_asyncio.apply()"
   ]
  },
  {
   "cell_type": "code",
   "execution_count": 2,
   "id": "a33f4d3a-4bc9-4e0d-a48b-2f84dcad569c",
   "metadata": {},
   "outputs": [
    {
     "name": "stderr",
     "output_type": "stream",
     "text": [
      "/opt/conda/lib/python3.10/site-packages/phoenix/utilities/client.py:60: UserWarning: The Phoenix server (10.11.0) and client (10.12.0) versions are mismatched and may have compatibility issues.\n",
      "  warnings.warn(\n"
     ]
    }
   ],
   "source": [
    "# 將 PHOENIX_COLLECTOR_ENDPOINT 指向本機實際 IP\n",
    "#os.environ[\"PHOENIX_COLLECTOR_ENDPOINT\"] = \"http://10.234.14.175:6006\" #學校\n",
    "os.environ[\"PHOENIX_COLLECTOR_ENDPOINT\"] = \"http://phoenix:6006\" #家\n",
    "client = px.Client()\n",
    "dataset = client.get_dataset(\n",
    "    name=\"only3-dataset\"\n",
    "    # ,version_id=\"RGF0YXNldFZlcnNpb246MTE=\"\n",
    ")"
   ]
  },
  {
   "cell_type": "code",
   "execution_count": null,
   "id": "84186a57-5efc-4869-898c-a5cdfc8a5195",
   "metadata": {},
   "outputs": [],
   "source": [
    "#df = dataset.as_dataframe()\n",
    "#print(df.columns)\n",
    "#df[\"input\"] = df[\"input\"].apply(lambda x: x['question'])\n",
    "#df[\"output\"] = df[\"output\"].apply(lambda x: x['respond'])\n",
    "#df[\"metadata\"] = df[\"metadata\"].apply(lambda x: x['reference'])\n"
   ]
  },
  {
   "cell_type": "code",
   "execution_count": 3,
   "id": "aa7edf29-74cc-4b5e-a61d-00ad2832770b",
   "metadata": {},
   "outputs": [],
   "source": [
    "export_records = [] #把資料存到資料表中\n",
    "\n",
    "client = openai.OpenAI(\n",
    "    api_key=os.getenv(\"OPENAI_API_KEY\"),\n",
    "    base_url=os.getenv(\"OPENAI_API_BASE\")\n",
    ")\n",
    "\n",
    "\n",
    "\n",
    "async def explain(example, prompt_template: str, model: str) -> str:\n",
    "#     now = datetime.now()\n",
    "#     time_str = now.strftime(\"%Y-%m-%d %H:%M:%S\")\n",
    "# #     global task_result\n",
    "# #     task_result = time_str\n",
    "    \n",
    "#     time.sleep(2)\n",
    "    \n",
    "#     return \"[TASK] \" + time_str\n",
    "\n",
    "    formatted_prompt_template = prompt_template.format(input_message=example.input[\"question\"],output_message=example.output[\"respond\"],reference_message=example.metadata[\"reference\"])\n",
    "    \n",
    "    formatted_prompt_template = formatted_prompt_template + \"\"\"\n",
    "\n",
    "# Example\n",
    "```json\n",
    "{\n",
    "  \"result\": \"事實\",\n",
    "  \"explaination\": \"水在標準大氣壓下的沸點是攝氏100度。\"\n",
    "}\n",
    "```\n",
    "\n",
    "```json\n",
    "{\n",
    "  \"result\": \"幻覺\",\n",
    "  \"explaination\": \"回答內容描述水的沸點是華氏100度，但應該是攝氏100度。\"\n",
    "}\n",
    "```\n",
    "\n",
    "\"\"\"\n",
    "    \n",
    "    # print(formatted_prompt_template)\n",
    "\n",
    "    res = client.chat.completions.create(\n",
    "        model=\"o1\",\n",
    "        temperature=0,\n",
    "        messages=[\n",
    "            {\"role\": \"user\", \"content\": formatted_prompt_template},\n",
    "        ],\n",
    "    )\n",
    "    assert res.choices\n",
    "    content = res.choices[0].message.content\n",
    "    \n",
    "    return extract_brace_content(content)"
   ]
  },
  {
   "cell_type": "code",
   "execution_count": 4,
   "id": "a5819caa-3b93-4478-b41a-6fe0ca7aadcf",
   "metadata": {},
   "outputs": [
    {
     "name": "stdout",
     "output_type": "stream",
     "text": [
      "根據你提供的文本「艾菲爾鐵塔位於法國巴黎。它建於 1889 年，作為 1889 年世界博覽會的入口拱門。」，我可以判斷「艾菲爾鐵塔位於法國巴黎」是 **事實**。  以下是我的判斷依據：  *\n",
      "**文本明確指出：** 文本的第一句話直接陳述「艾菲爾鐵塔位於法國巴黎」。 *   **廣為人知的事實：** 艾菲爾鐵塔是法國巴黎的著名地標，這是一個廣為人知的地理事實。 *\n",
      "**沒有矛盾資訊：** 文本中沒有任何資訊與艾菲爾鐵塔位於巴黎相矛盾。  因此，根據文本內容，以及普遍的常識，我可以肯定地判斷艾菲爾鐵塔位於法國巴黎是 **事實**，而非幻覺。\n"
     ]
    }
   ],
   "source": [
    "import textwrap\n",
    "from functools import partial\n",
    "\n",
    "# template = \"\"\"\n",
    "# 你是一個判斷事實真偽的專家，請根據{reference_message}的內容，判斷{output_message}對於{input_message}的回答中，是否有與事實不符的地方。\n",
    "\n",
    "# 以條列解釋你如何判斷為\"事實\"或\"幻覺\"\n",
    "# \"\"\"\n",
    "\n",
    "template_json = \"\"\"\n",
    "# Role\n",
    "你是一個判斷事實真偽的專家。\n",
    "\n",
    "# Task\n",
    "請根據{reference_message}的內容，判斷{output_message}對於{input_message}的回答中，是否有與事實不符的地方。\n",
    "\n",
    "# Output\n",
    "以JSON的型式，輸出以下資訊:\n",
    "- result: \"事實\"或\"幻覺\"\n",
    "- explaination: 你的解釋，以條列型式呈現，結合成一個字串。\n",
    "\"\"\"\n",
    "\n",
    "task = partial(explain, prompt_template=template_json, model=\"o1\")\n",
    "# print(dataset.examples)\n",
    "test_example = dataset[0]\n",
    "print(textwrap.fill(await task(test_example), width=100))"
   ]
  },
  {
   "cell_type": "code",
   "execution_count": 5,
   "id": "8bf3c536-8a51-4989-a7e1-42b89b958a21",
   "metadata": {},
   "outputs": [],
   "source": [
    "from datetime import datetime\n",
    "\n",
    "import json\n",
    "\n",
    "def judge(metadata, output, input, reference, expected) -> str:\n",
    "    try:\n",
    "        # 嘗試解析 JSON 格式\n",
    "        data = json.loads(output)\n",
    "    except json.JSONDecodeError:\n",
    "        # 若是單引號或非標準格式，轉換成可解析格式\n",
    "        input_str = input_str.replace(\"'\", '\"')\n",
    "        try:\n",
    "            data = json.loads(input_str)\n",
    "        except json.JSONDecodeError:\n",
    "            return None  # 無法解析\n",
    "    return data.get(\"result\")\n",
    "\n",
    "    # metadata, output, input, reference, expected.\n",
    "    # now = datetime.now()\n",
    "    # time_str = now.strftime(\"%Y-%m-%d %H:%M:%S\")\n",
    "    # return time_str\n",
    "#     print({\n",
    "#         \"metadata\": metadata,\n",
    "#         \"output\": output,\n",
    "#         \"input\": input,\n",
    "#         \"reference\": reference,\n",
    "#         \"expected\": expected,\n",
    "#     })\n",
    "    \n",
    "#     return \"[JUDGE]\" + task_result\n",
    "    # return output\n",
    "\n",
    "    # =========================\n",
    "    \n",
    "#     input_message = input[\"question\"]\n",
    "#     output_message = expected[\"respond\"]\n",
    "#     reference_message = metadata[\"reference\"]\n",
    "#     # print(input_message)\n",
    "#     # print(output_message)\n",
    "#     # print(reference_message)\n",
    "    \n",
    "#     MY_CUSTOM_TEMPLATE = f'''\n",
    "\n",
    "# [BEGIN DATA]\n",
    "# [Question]: {input_message}\n",
    "# [Response]: {output_message}\n",
    "# [Reference]: {reference_message}\n",
    "# [END DATA]\n",
    "\n",
    "# # 角色\n",
    "# 你是一個判斷事實真偽的專家，請根據[Reference]的內容，判斷[Response]對於[Question]的回答中，是否有與事實不符的地方。\n",
    "\n",
    "# # 輸出格式\n",
    "# \"事實\"或\"幻覺\"  \n",
    "\n",
    "# '''\n",
    "    \n",
    "#     # print(\"==============================\")\n",
    "#     # print(MY_CUSTOM_TEMPLATE)\n",
    "    \n",
    "#     res = client.chat.completions.create(\n",
    "#         model=\"o1\",\n",
    "#         temperature=0,\n",
    "#         messages=[\n",
    "#             {\"role\": \"user\", \"content\": MY_CUSTOM_TEMPLATE},\n",
    "#         ]\n",
    "#     )\n",
    "#     content = res.choices[0].message.content\n",
    "#     content = content.strip().lower()\n",
    "#     return content\n",
    "\n",
    "EVALUATORS = [judge]"
   ]
  },
  {
   "cell_type": "code",
   "execution_count": 6,
   "id": "3186605f-5a61-456d-b201-4964ad021975",
   "metadata": {},
   "outputs": [
    {
     "name": "stdout",
     "output_type": "stream",
     "text": [
      "🧪 Experiment started.\n",
      "📺 View dataset experiments: http://phoenix:6006/datasets/RGF0YXNldDoy/experiments\n",
      "🔗 View this experiment: http://phoenix:6006/datasets/RGF0YXNldDoy/compare?experimentId=RXhwZXJpbWVudDox\n"
     ]
    },
    {
     "data": {
      "application/vnd.jupyter.widget-view+json": {
       "model_id": "0fbc58e0689b4b779e8eb53f0d0dcf56",
       "version_major": 2,
       "version_minor": 0
      },
      "text/plain": [
       "running tasks |          | 0/3 (0.0%) | ⏳ 00:00<? | ?it/s"
      ]
     },
     "metadata": {},
     "output_type": "display_data"
    },
    {
     "name": "stdout",
     "output_type": "stream",
     "text": [
      "✅ Task runs completed.\n",
      "🧠 Evaluation started.\n"
     ]
    },
    {
     "data": {
      "application/vnd.jupyter.widget-view+json": {
       "model_id": "8f0904033c5f4738b227a3fda4a27b52",
       "version_major": 2,
       "version_minor": 0
      },
      "text/plain": [
       "running experiment evaluations |          | 0/3 (0.0%) | ⏳ 00:00<? | ?it/s"
      ]
     },
     "metadata": {},
     "output_type": "display_data"
    },
    {
     "name": "stdout",
     "output_type": "stream",
     "text": [
      "艾菲爾鐵塔位於哪裡？ \n",
      "根據你提供的內容「艾菲爾鐵塔位於法國巴黎。它建於 1889 年，作為 1889 年世界博覽會的入口拱門。」，以及你的問題「艾菲爾鐵塔位於法國巴黎。對於艾菲爾鐵塔位於哪裡？ 的回答中，是否有與事實不符的地方。」\n",
      "\n",
      "我的判斷是：**事實**。\n",
      "\n",
      "以下是我判斷的條列解釋：\n",
      "\n",
      "*   **內容明確指出：** 文本直接且明確地聲稱「艾菲爾鐵塔位於法國巴黎」。\n",
      "*   **普遍認知：** 艾菲爾鐵塔位於巴黎是廣為人知的地理事實，與歷史資料和實際情況相符。\n",
      "*   **沒有矛盾資訊：** 文本中沒有任何資訊與艾菲爾鐵塔位於巴黎的陳述相矛盾。\n",
      "*   **歷史背景佐證：** 文本提及艾菲爾鐵塔建於 1889 年世界博覽會，該博覽會確實於巴黎舉行，進一步佐證了艾菲爾鐵塔位於巴黎的說法。\n",
      "\n",
      "因此，根據提供的文本和普遍認知，艾菲爾鐵塔位於法國巴黎的說法是**真實的**，並不存在與事實不符的地方。\n",
      "艾菲爾鐵塔位於法國巴黎。它建於 1889 年，作為 1889 年世界博覽會的入口拱門。 \n",
      "世界上最長的河流是什麼？ \n",
      "好的，我來分析你提供的資訊，並判斷其中是否有與事實不符的地方。\n",
      "\n",
      "**判斷結果：** 部分正確，但有爭議。\n",
      "\n",
      "**判斷過程：**\n",
      "\n",
      "1.  **尼羅河向北流經非洲東北部，從布隆迪最遠的源頭流入地中海：** 這是大致正確的。尼羅河的源頭通常被認為位於非洲東部高原，最遠的源頭之一是位於布隆迪的卡蓋拉河。它確實向北流經東非、蘇丹和埃及，最終注入地中海。\n",
      "\n",
      "2.  **尼羅河全長約 6,650 公里（4,132 英里）：** 這個長度是過去常用的數據，但現在存在爭議。近年來的測量和研究表明，亞馬遜河的長度可能超過尼羅河。\n",
      "\n",
      "3.  **尼羅河是世界上最長的河流：** 這是一個有爭議的說法。長期以來，尼羅河被認為是世界上最長的河流。然而，近年來的研究表明，亞馬遜河可能更長。關於哪條河流更長，目前仍存在一些爭論，因為測量河流長度的定義和方法存在差異。\n",
      "\n",
      "**總結：**\n",
      "\n",
      "*   **事實：** 尼羅河流經非洲東北部，最終注入地中海。\n",
      "*   **部分事實/有爭議：** 尼羅河全長約 6,650 公里（4,132 英里）。這個長度數據在過去是準確的，但現在可能已被亞馬遜河超越。\n",
      "*   **幻覺/不準確：** 尼羅河絕對是世界上最長的河流。這個說法目前存在爭議，亞馬遜河可能是更長的河流。\n",
      "\n",
      "因此，根據目前的科學研究，說尼羅河是世界上最長的河流可能是不準確的，需要更謹慎的表述。\n",
      "尼羅河是世界上最長的河流。它向北流經非洲東北部，從布隆迪最遠的源頭流入地中海，全長約 6,650 公里（4,132 英里）。 \n"
     ]
    },
    {
     "name": "stderr",
     "output_type": "stream",
     "text": [
      "/opt/conda/lib/python3.10/site-packages/phoenix/utilities/client.py:60: UserWarning: The Phoenix server (10.11.0) and client (10.12.0) versions are mismatched and may have compatibility issues.\n",
      "  warnings.warn(\n"
     ]
    },
    {
     "name": "stdout",
     "output_type": "stream",
     "text": [
      "人體有幾塊骨頭？ \n",
      "根據你提供的文本：「人體有206塊骨頭。這些骨骼提供結構、保護器官、固定肌肉並儲存鈣。」 以及你的問題「成年人的身體通常有 256 塊骨頭」，我可以判斷出後者為**幻覺**。\n",
      "\n",
      "以下是我的判斷過程：\n",
      "\n",
      "*   **文本陳述：** 文本明確指出人體有206塊骨頭。\n",
      "*   **問題陳述：** 問題聲稱人體有256塊骨頭。\n",
      "*   **比較：** 256與206不符。\n",
      "*   **結論：** 由於問題中的骨骼數量與文本中提供的已知事實不符，因此可以判斷問題中的說法為**幻覺**。\n",
      "\n",
      "因此，對於人體有幾塊骨頭的正確答案是 **206** 塊。\n",
      "人體有206塊骨頭。這些骨骼提供結構、保護器官、固定肌肉並儲存鈣。 \n",
      "\n",
      "🔗 View this experiment: http://phoenix:6006/datasets/RGF0YXNldDoy/compare?experimentId=RXhwZXJpbWVudDox\n",
      "\n",
      "Experiment Summary (06/16/25 02:36 PM +0000)\n",
      "--------------------------------------------\n",
      "  evaluator  n  n_labels        top_2_labels\n",
      "0     judge  3         3  {'事實': 2, '幻覺': 1}\n",
      "\n",
      "Tasks Summary (06/16/25 02:36 PM +0000)\n",
      "---------------------------------------\n",
      "   n_examples  n_runs  n_errors\n",
      "0           3       3         0\n"
     ]
    }
   ],
   "source": [
    "from phoenix.experiments import run_experiment\n",
    "experiment= run_experiment(\n",
    "    dataset,\n",
    "    task,\n",
    "    experiment_name=\"explanation\",\n",
    "    experiment_metadata={\"vendor\": \"openai\", \"model\": \"o1\"},\n",
    "    evaluators=EVALUATORS,\n",
    ")"
   ]
  },
  {
   "cell_type": "code",
   "execution_count": null,
   "id": "9428c551-2fa7-48bf-a43a-ed4f92608b21",
   "metadata": {},
   "outputs": [],
   "source": []
  }
 ],
 "metadata": {
  "kernelspec": {
   "display_name": "Python 3 (ipykernel)",
   "language": "python",
   "name": "python3"
  },
  "language_info": {
   "codemirror_mode": {
    "name": "ipython",
    "version": 3
   },
   "file_extension": ".py",
   "mimetype": "text/x-python",
   "name": "python",
   "nbconvert_exporter": "python",
   "pygments_lexer": "ipython3",
   "version": "3.10.6"
  }
 },
 "nbformat": 4,
 "nbformat_minor": 5
}
