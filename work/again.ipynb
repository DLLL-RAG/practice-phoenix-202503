{
 "cells": [
  {
   "cell_type": "code",
   "execution_count": 94,
   "id": "9d451cb9-6120-4b08-b45f-fa2f89f1ce49",
   "metadata": {},
   "outputs": [],
   "source": [
    "import os\n",
    "import phoenix\n",
    "import phoenix as px\n",
    "import pandas as pd\n",
    "import openai\n",
    "import re\n",
    "import nest_asyncio\n",
    "nest_asyncio.apply()"
   ]
  },
  {
   "cell_type": "code",
   "execution_count": 95,
   "id": "a33f4d3a-4bc9-4e0d-a48b-2f84dcad569c",
   "metadata": {},
   "outputs": [],
   "source": [
    "# 將 PHOENIX_COLLECTOR_ENDPOINT 指向本機實際 IP\n",
    "#os.environ[\"PHOENIX_COLLECTOR_ENDPOINT\"] = \"http://10.234.14.175:6006\" #學校\n",
    "os.environ[\"PHOENIX_COLLECTOR_ENDPOINT\"] = \"http://192.168.1.122:6006\" #家\n",
    "client = px.Client()\n",
    "dataset = client.get_dataset(\n",
    "    name=\"only3-dataset\",\n",
    "    version_id=\"RGF0YXNldFZlcnNpb246MTE=\"\n",
    ")"
   ]
  },
  {
   "cell_type": "code",
   "execution_count": 96,
   "id": "84186a57-5efc-4869-898c-a5cdfc8a5195",
   "metadata": {},
   "outputs": [],
   "source": [
    "#df = dataset.as_dataframe()\n",
    "#print(df.columns)\n",
    "#df[\"input\"] = df[\"input\"].apply(lambda x: x['question'])\n",
    "#df[\"output\"] = df[\"output\"].apply(lambda x: x['respond'])\n",
    "#df[\"metadata\"] = df[\"metadata\"].apply(lambda x: x['reference'])\n"
   ]
  },
  {
   "cell_type": "code",
   "execution_count": 97,
   "id": "aa7edf29-74cc-4b5e-a61d-00ad2832770b",
   "metadata": {},
   "outputs": [],
   "source": [
    "export_records = [] #把資料存到資料表中\n",
    "\n",
    "client = openai.OpenAI(\n",
    "    api_key=os.getenv(\"OPENAI_API_KEY\"),\n",
    "    base_url=os.getenv(\"OPENAI_API_BASE\")\n",
    ")\n",
    "\n",
    "async def explain(example, prompt_template: str, model: str) -> str:\n",
    "    formatted_prompt_template = prompt_template.format(input_message=example.input[\"question\"],output_message=example.output[\"respond\"],reference_message=example.metadata[\"reference\"])\n",
    "    res = client.chat.completions.create(\n",
    "        model=\"o1\",\n",
    "        temperature=0,\n",
    "        messages=[\n",
    "            {\"role\": \"user\", \"content\": formatted_prompt_template},\n",
    "        ],\n",
    "    )\n",
    "    assert res.choices\n",
    "    return res.choices[0].message.content"
   ]
  },
  {
   "cell_type": "code",
   "execution_count": 98,
   "id": "a5819caa-3b93-4478-b41a-6fe0ca7aadcf",
   "metadata": {},
   "outputs": [
    {
     "name": "stdout",
     "output_type": "stream",
     "text": [
      "根據您提供的文本「艾菲爾鐵塔位於法國巴黎。它建於 1889 年，作為 1889 年世界博覽會的入口拱門。」，我判斷「艾菲爾鐵塔位於法國巴黎」為**事實**。  以下是我判斷的條列解釋：  *\n",
      "**文本直接陳述：** 文本開宗明義地指出「艾菲爾鐵塔位於法國巴黎」，這是一個明確的地理位置聲明。 *   **普遍認知：**\n",
      "艾菲爾鐵塔位於巴黎是全球公認的事實，且有大量證據支持（例如地圖、旅遊資訊、歷史記錄等）。 *   **文本內容一致性：**\n",
      "文本的後續描述（建造年份、博覽會）都與艾菲爾鐵塔在巴黎的歷史背景相符，沒有任何矛盾之處。 *   **缺乏幻覺指標：** 文本中沒有任何不合理、矛盾或缺乏證據支持的資訊，因此可以排除是幻覺。\n",
      "因此，基於文本內容和普遍認知，我確定「艾菲爾鐵塔位於法國巴黎」是**事實**，而對於艾菲爾鐵塔位於哪裡？的回答中**沒有與事實不符的地方**。\n"
     ]
    }
   ],
   "source": [
    "import textwrap\n",
    "from functools import partial\n",
    "\n",
    "template = \"\"\"\n",
    "你是一個判斷事實真偽的專家，請根據{reference_message}的內容，判斷{output_message}對於{input_message}的回答中，是否有與事實不符的地方。\n",
    "\n",
    "以條列解釋你如何判斷為\"事實\"或\"幻覺\"\n",
    "\"\"\"\n",
    "\n",
    "task = partial(explain, prompt_template=template, model=\"o1\")\n",
    "# print(dataset.examples)\n",
    "test_example = dataset[0]\n",
    "print(textwrap.fill(await task(test_example), width=100))"
   ]
  },
  {
   "cell_type": "code",
   "execution_count": 99,
   "id": "8bf3c536-8a51-4989-a7e1-42b89b958a21",
   "metadata": {},
   "outputs": [],
   "source": [
    "def judge(input, output, metadata) -> str:\n",
    "    input_message = input[\"question\"]\n",
    "    output_message = output\n",
    "    reference_message = metadata[\"reference\"]\n",
    "    print(input_message)\n",
    "    print(output_message)\n",
    "    print(reference_message)\n",
    "    \n",
    "    MY_CUSTOM_TEMPLATE = f'''\n",
    "\n",
    "[BEGIN DATA]\n",
    "[Question]: {input_message}\n",
    "[Response]: {output_message}\n",
    "[Reference]: {reference_message}\n",
    "[END DATA]\n",
    "\n",
    "# 角色\n",
    "你是一個判斷事實真偽的專家，請根據[Reference]的內容，判斷[Response]對於[Question]的回答中，是否有與事實不符的地方。\n",
    "\n",
    "# 輸出格式\n",
    "\"事實\"或\"幻覺\"  \n",
    "\n",
    "'''\n",
    "    \n",
    "    res = client.chat.completions.create(\n",
    "        model=\"o1\",\n",
    "        temperature=0,\n",
    "        messages=[\n",
    "            {\"role\": \"user\", \"content\": MY_CUSTOM_TEMPLATE},\n",
    "        ]\n",
    "    )\n",
    "    content = res.choices[0].message.content\n",
    "    content = content.strip().lower()\n",
    "    return content\n",
    "\n",
    "EVALUATORS = [judge]"
   ]
  },
  {
   "cell_type": "code",
   "execution_count": 100,
   "id": "3186605f-5a61-456d-b201-4964ad021975",
   "metadata": {},
   "outputs": [
    {
     "name": "stdout",
     "output_type": "stream",
     "text": [
      "🧪 Experiment started.\n",
      "📺 View dataset experiments: http://192.168.1.122:6006/datasets/RGF0YXNldDo5/experiments\n",
      "🔗 View this experiment: http://192.168.1.122:6006/datasets/RGF0YXNldDo5/compare?experimentId=RXhwZXJpbWVudDo2Mw==\n"
     ]
    },
    {
     "data": {
      "application/vnd.jupyter.widget-view+json": {
       "model_id": "8d24c623ac7b4d638729c6349a10a29d",
       "version_major": 2,
       "version_minor": 0
      },
      "text/plain": [
       "running tasks |          | 0/3 (0.0%) | ⏳ 00:00<? | ?it/s"
      ]
     },
     "metadata": {},
     "output_type": "display_data"
    },
    {
     "name": "stderr",
     "output_type": "stream",
     "text": [
      "/opt/conda/lib/python3.10/site-packages/phoenix/utilities/client.py:51: UserWarning: ⚠️⚠️ The Phoenix server (8.12.0) and client (9.5.0) versions are severely mismatched. Upgrade  either the client or server to ensure API compatibility ⚠️⚠️\n",
      "  warnings.warn(\n"
     ]
    },
    {
     "name": "stdout",
     "output_type": "stream",
     "text": [
      "✅ Task runs completed.\n",
      "🧠 Evaluation started.\n"
     ]
    },
    {
     "data": {
      "application/vnd.jupyter.widget-view+json": {
       "model_id": "cda219c39c8f4246bc2ca07b3ccd5a20",
       "version_major": 2,
       "version_minor": 0
      },
      "text/plain": [
       "running experiment evaluations |          | 0/3 (0.0%) | ⏳ 00:00<? | ?it/s"
      ]
     },
     "metadata": {},
     "output_type": "display_data"
    },
    {
     "name": "stdout",
     "output_type": "stream",
     "text": [
      "艾菲爾鐵塔位於哪裡？ \n",
      "根據提供的內容「艾菲爾鐵塔位於法國巴黎。它建於 1889 年，作為 1889 年世界博覽會的入口拱門。」，我判斷「艾菲爾鐵塔位於法國巴黎」是**事實**。\n",
      "\n",
      "以下是我的判斷依據：\n",
      "\n",
      "*   **直接陳述：** 文本直接陳述「艾菲爾鐵塔位於法國巴黎」，沒有任何含糊或否定語氣。\n",
      "*   **廣為人知的事實：** 艾菲爾鐵塔位於巴黎是全球廣為人知的地理事實，可以透過多種可靠來源（例如書籍、地圖、官方網站）驗證。\n",
      "*   **文本一致性：** 文本中關於艾菲爾鐵塔建造年份和目的的描述與歷史事實相符，進一步強化了其地理位置的真實性。\n",
      "\n",
      "因此，我沒有發現任何與事實不符的地方。\n",
      "艾菲爾鐵塔位於法國巴黎。它建於 1889 年，作為 1889 年世界博覽會的入口拱門。 \n",
      "世界上最長的河流是什麼？ \n",
      "好的，我來分析你提供的資訊，並判斷其中是否有與事實不符之處。\n",
      "\n",
      "**我的判斷：** 該資訊部分正確，部分有待商榷。\n",
      "\n",
      "**以下是我的條列式分析：**\n",
      "\n",
      "1.  **尼羅河向北流經非洲東北部，從布隆迪最遠的源頭流入地中海：** 這是**事實**。尼羅河的流向大致正確，源頭的描述也大致正確（雖然關於尼羅河源頭的爭議一直存在，但布隆迪的卡蓋拉河通常被認為是尼羅河最遠的源頭之一）。\n",
      "\n",
      "2.  **尼羅河全長約 6,650 公里（4,132 英里）：** 這是**幻覺** (不完全正確)。 雖然6,650公里是一個常見的尼羅河長度估計值，但最新的測量結果表明尼羅河的長度略短於亞馬遜河。目前普遍認為亞馬遜河才是世界上最長的河流。\n",
      "\n",
      "3.  **尼羅河是世界上最長的河流：** 這是**幻覺** (不正確)。根據目前最新的科學測量，亞馬遜河才是世界上最長的河流，長度約為6,992公里（4,345英里）。\n",
      "\n",
      "**總結：**\n",
      "\n",
      "你提供的資訊在描述尼羅河的流向和大致長度上是正確的，但在斷言尼羅河是世界上最長的河流這一點上是錯誤的。目前科學界普遍認為亞馬遜河才是世界上最長的河流。\n",
      "尼羅河是世界上最長的河流。它向北流經非洲東北部，從布隆迪最遠的源頭流入地中海，全長約 6,650 公里（4,132 英里）。 \n"
     ]
    },
    {
     "name": "stderr",
     "output_type": "stream",
     "text": [
      "/opt/conda/lib/python3.10/site-packages/phoenix/utilities/client.py:51: UserWarning: ⚠️⚠️ The Phoenix server (8.12.0) and client (9.5.0) versions are severely mismatched. Upgrade  either the client or server to ensure API compatibility ⚠️⚠️\n",
      "  warnings.warn(\n"
     ]
    },
    {
     "name": "stdout",
     "output_type": "stream",
     "text": [
      "人體有幾塊骨頭？ \n",
      "根據你提供的文本：「人體有206塊骨頭。這些骨骼提供結構、保護器官、固定肌肉並儲存鈣。」 以及你的問題，我來判斷「成年人的身體通常有 256 塊骨頭」是否為事實或幻覺：\n",
      "\n",
      "*   **文本基礎：** 文本明確指出人體有206塊骨頭。\n",
      "*   **對比分析：** 文本提供的資訊與「256塊骨頭」的說法不符。\n",
      "*   **判斷結果：** 因此，「成年人的身體通常有 256 塊骨頭」是**幻覺**。\n",
      "\n",
      "**條列解釋：**\n",
      "\n",
      "1.  **來源可信度：** 你提供的文本本身是關於人體骨骼的描述，可視為一個可信的來源。\n",
      "2.  **直接矛盾：** 文本直接聲明人體有206塊骨頭，而你的問題斷言有256塊，兩者直接矛盾。\n",
      "3.  **科學常識：** 206塊骨頭是醫學和生物學上公認的成年人骨骼數量。\n",
      "4.  **缺乏佐證：** 問題中沒有提供任何證據支持「256塊骨頭」的說法。\n",
      "\n",
      "因此，基於以上分析，我判斷「成年人的身體通常有 256 塊骨頭」是與事實不符的，屬於幻覺。\n",
      "人體有206塊骨頭。這些骨骼提供結構、保護器官、固定肌肉並儲存鈣。 \n",
      "\n",
      "🔗 View this experiment: http://192.168.1.122:6006/datasets/RGF0YXNldDo5/compare?experimentId=RXhwZXJpbWVudDo2Mw==\n",
      "\n",
      "Experiment Summary (06/15/25 06:16 PM +0000)\n",
      "--------------------------------------------\n",
      "  evaluator  n  n_labels        top_2_labels\n",
      "0     judge  3         3  {'事實': 2, '幻覺': 1}\n",
      "\n",
      "Tasks Summary (06/15/25 06:16 PM +0000)\n",
      "---------------------------------------\n",
      "   n_examples  n_runs  n_errors\n",
      "0           3       3         0\n"
     ]
    }
   ],
   "source": [
    "from phoenix.experiments import run_experiment\n",
    "experiment= run_experiment(\n",
    "    dataset,\n",
    "    task,\n",
    "    experiment_name=\"explanation\",\n",
    "    experiment_metadata={\"vendor\": \"openai\", \"model\": \"o1\"},\n",
    "    evaluators=EVALUATORS,\n",
    ")"
   ]
  },
  {
   "cell_type": "code",
   "execution_count": null,
   "id": "9428c551-2fa7-48bf-a43a-ed4f92608b21",
   "metadata": {},
   "outputs": [],
   "source": []
  }
 ],
 "metadata": {
  "kernelspec": {
   "display_name": "Python 3 (ipykernel)",
   "language": "python",
   "name": "python3"
  },
  "language_info": {
   "codemirror_mode": {
    "name": "ipython",
    "version": 3
   },
   "file_extension": ".py",
   "mimetype": "text/x-python",
   "name": "python",
   "nbconvert_exporter": "python",
   "pygments_lexer": "ipython3",
   "version": "3.10.6"
  }
 },
 "nbformat": 4,
 "nbformat_minor": 5
}
