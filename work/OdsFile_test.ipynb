{
 "cells": [
  {
   "cell_type": "code",
   "execution_count": 14,
   "id": "178472fd-42e4-487a-b66b-7ef87980714d",
   "metadata": {},
   "outputs": [
    {
     "name": "stdout",
     "output_type": "stream",
     "text": [
      "\u001b[33mWARNING: Ignoring invalid distribution -rize-phoenix (/opt/conda/lib/python3.10/site-packages)\u001b[0m\u001b[33m\n",
      "\u001b[0m\u001b[33mWARNING: Ignoring invalid distribution -rize-phoenix (/opt/conda/lib/python3.10/site-packages)\u001b[0m\u001b[33m\n",
      "\u001b[0mRequirement already satisfied: odfpy in /opt/conda/lib/python3.10/site-packages (1.4.1)\n",
      "Requirement already satisfied: defusedxml in /opt/conda/lib/python3.10/site-packages (from odfpy) (0.7.1)\n",
      "\u001b[33mWARNING: Ignoring invalid distribution -rize-phoenix (/opt/conda/lib/python3.10/site-packages)\u001b[0m\u001b[33m\n",
      "\u001b[0m\u001b[33mWARNING: Ignoring invalid distribution -rize-phoenix (/opt/conda/lib/python3.10/site-packages)\u001b[0m\u001b[33m\n",
      "\u001b[0m\u001b[33mWARNING: Ignoring invalid distribution -rize-phoenix (/opt/conda/lib/python3.10/site-packages)\u001b[0m\u001b[33m\n",
      "\u001b[0m\u001b[33mWARNING: Ignoring invalid distribution -rize-phoenix (/opt/conda/lib/python3.10/site-packages)\u001b[0m\u001b[33m\n",
      "\u001b[0m                                      input  \\\n",
      "0        Where is the Eiffel Tower located?   \n",
      "1      How long is the Great Wall of China?   \n",
      "2  What is the largest tropical rainforest?   \n",
      "3   Which is the highest mountain on Earth?   \n",
      "4   What is the longest river in the world?   \n",
      "\n",
      "                                              output  \\\n",
      "0      The Eiffel Tower is located in Paris, France.   \n",
      "1  The Great Wall of China is approximately 13,17...   \n",
      "2  The Amazon rainforest is the largest tropical ...   \n",
      "3  Mount Everest, standing at 29,029 feet (8,848 ...   \n",
      "4  The Nile River, at 6,650 kilometers (4,132 mil...   \n",
      "\n",
      "                                           reference  \n",
      "0  The Eiffel Tower is located in Paris, France. ...  \n",
      "1  The Great Wall of China is over 13,000 miles l...  \n",
      "2  The Amazon rainforest is the largest tropical ...  \n",
      "3  Mount Everest is the highest mountain on Earth...  \n",
      "4  The Nile is the longest river in the world. It...  \n"
     ]
    }
   ],
   "source": [
    "import pandas as pd\n",
    "\n",
    "df = pd.read_excel(\n",
    "    \"test.ods\", \n",
    "    engine=\"odf\",   # 讀取 ODS 檔案需要指定 engine='odf'\n",
    "    header=0        # 假設第一列就是欄位名稱\n",
    ")\n",
    "\n",
    "print(df.head())"
   ]
  },
  {
   "cell_type": "code",
   "execution_count": 15,
   "id": "6af2d76d-6b99-4ed3-a618-ee0ae4432c3e",
   "metadata": {},
   "outputs": [],
   "source": [
    "df.rename(columns={\n",
    "    \"原本問題欄位\": \"input\",\n",
    "    \"原本回答欄位\": \"output\",\n",
    "    \"原本正確答案欄位\": \"reference\"\n",
    "}, inplace=True)\n"
   ]
  },
  {
   "cell_type": "code",
   "execution_count": 16,
   "id": "ec5f92bb-70b3-4ece-b58e-3a40f7c46378",
   "metadata": {},
   "outputs": [
    {
     "name": "stdout",
     "output_type": "stream",
     "text": [
      "\u001b[33mWARNING: Ignoring invalid distribution -rize-phoenix (/opt/conda/lib/python3.10/site-packages)\u001b[0m\u001b[33m\n",
      "\u001b[0m\u001b[33mWARNING: Ignoring invalid distribution -rize-phoenix (/opt/conda/lib/python3.10/site-packages)\u001b[0m\u001b[33m\n",
      "\u001b[0mRequirement already satisfied: arize-phoenix in /opt/conda/lib/python3.10/site-packages (8.12.0)\n",
      "Collecting arize-phoenix\n",
      "  Using cached arize_phoenix-8.18.0-py3-none-any.whl (3.8 MB)\n",
      "Requirement already satisfied: strawberry-graphql>=0.262.0 in /opt/conda/lib/python3.10/site-packages (from arize-phoenix) (0.262.1)\n",
      "Requirement already satisfied: arize-phoenix-otel>=0.5.1 in /opt/conda/lib/python3.10/site-packages (from arize-phoenix) (0.8.0)\n",
      "Requirement already satisfied: httpx in /opt/conda/lib/python3.10/site-packages (from arize-phoenix) (0.27.2)\n",
      "Requirement already satisfied: sqlalchemy[asyncio]<3,>=2.0.4 in /opt/conda/lib/python3.10/site-packages (from arize-phoenix) (2.0.38)\n",
      "Requirement already satisfied: wrapt>=1.17.2 in /opt/conda/lib/python3.10/site-packages (from arize-phoenix) (1.17.2)\n",
      "Requirement already satisfied: aiosqlite in /opt/conda/lib/python3.10/site-packages (from arize-phoenix) (0.21.0)\n",
      "Requirement already satisfied: uvicorn in /opt/conda/lib/python3.10/site-packages (from arize-phoenix) (0.34.0)\n",
      "Requirement already satisfied: pydantic>=2.1.0 in /opt/conda/lib/python3.10/site-packages (from arize-phoenix) (2.10.6)\n",
      "Requirement already satisfied: starlette in /opt/conda/lib/python3.10/site-packages (from arize-phoenix) (0.46.1)\n",
      "Requirement already satisfied: scipy in /opt/conda/lib/python3.10/site-packages (from arize-phoenix) (1.9.1)\n",
      "Requirement already satisfied: tqdm in /opt/conda/lib/python3.10/site-packages (from arize-phoenix) (4.67.1)\n",
      "Requirement already satisfied: sqlean-py>=3.45.1 in /opt/conda/lib/python3.10/site-packages (from arize-phoenix) (3.47.0)\n",
      "Requirement already satisfied: jinja2 in /opt/conda/lib/python3.10/site-packages (from arize-phoenix) (3.1.2)\n",
      "Requirement already satisfied: authlib in /opt/conda/lib/python3.10/site-packages (from arize-phoenix) (1.5.1)\n",
      "Requirement already satisfied: typing-extensions>=4.6 in /opt/conda/lib/python3.10/site-packages (from arize-phoenix) (4.12.2)\n",
      "Requirement already satisfied: email-validator in /opt/conda/lib/python3.10/site-packages (from arize-phoenix) (2.2.0)\n",
      "Requirement already satisfied: psutil in /opt/conda/lib/python3.10/site-packages (from arize-phoenix) (5.9.2)\n",
      "Requirement already satisfied: python-multipart in /opt/conda/lib/python3.10/site-packages (from arize-phoenix) (0.0.20)\n",
      "Requirement already satisfied: arize-phoenix-client in /opt/conda/lib/python3.10/site-packages (from arize-phoenix) (1.1.0)\n",
      "Requirement already satisfied: opentelemetry-proto>=1.12.0 in /opt/conda/lib/python3.10/site-packages (from arize-phoenix) (1.30.0)\n",
      "Requirement already satisfied: arize-phoenix-evals>=0.13.1 in /opt/conda/lib/python3.10/site-packages (from arize-phoenix) (0.20.3)\n",
      "Requirement already satisfied: cachetools in /opt/conda/lib/python3.10/site-packages (from arize-phoenix) (5.5.2)\n",
      "Requirement already satisfied: pyarrow in /opt/conda/lib/python3.10/site-packages (from arize-phoenix) (19.0.1)\n",
      "Requirement already satisfied: fastapi in /opt/conda/lib/python3.10/site-packages (from arize-phoenix) (0.115.11)\n",
      "Requirement already satisfied: openinference-semantic-conventions>=0.1.12 in /opt/conda/lib/python3.10/site-packages (from arize-phoenix) (0.1.14)\n",
      "Requirement already satisfied: grpcio in /opt/conda/lib/python3.10/site-packages (from arize-phoenix) (1.70.0)\n",
      "Requirement already satisfied: numpy!=2.0.0 in /opt/conda/lib/python3.10/site-packages (from arize-phoenix) (1.23.3)\n",
      "Requirement already satisfied: opentelemetry-semantic-conventions in /opt/conda/lib/python3.10/site-packages (from arize-phoenix) (0.51b0)\n",
      "Requirement already satisfied: protobuf<6.0,>=3.20.2 in /opt/conda/lib/python3.10/site-packages (from arize-phoenix) (5.29.3)\n",
      "Requirement already satisfied: openinference-instrumentation>=0.1.12 in /opt/conda/lib/python3.10/site-packages (from arize-phoenix) (0.1.23)\n",
      "Requirement already satisfied: opentelemetry-sdk in /opt/conda/lib/python3.10/site-packages (from arize-phoenix) (1.30.0)\n",
      "Requirement already satisfied: grpc-interceptor in /opt/conda/lib/python3.10/site-packages (from arize-phoenix) (0.15.4)\n",
      "Requirement already satisfied: pandas>=1.0 in /opt/conda/lib/python3.10/site-packages (from arize-phoenix) (1.5.0)\n",
      "Requirement already satisfied: websockets in /opt/conda/lib/python3.10/site-packages (from arize-phoenix) (15.0.1)\n",
      "Requirement already satisfied: aioitertools in /opt/conda/lib/python3.10/site-packages (from arize-phoenix) (0.12.0)\n",
      "Requirement already satisfied: opentelemetry-exporter-otlp in /opt/conda/lib/python3.10/site-packages (from arize-phoenix) (1.30.0)\n",
      "Requirement already satisfied: scikit-learn in /opt/conda/lib/python3.10/site-packages (from arize-phoenix) (1.1.2)\n",
      "Requirement already satisfied: alembic<2,>=1.3.0 in /opt/conda/lib/python3.10/site-packages (from arize-phoenix) (1.8.1)\n",
      "Requirement already satisfied: Mako in /opt/conda/lib/python3.10/site-packages (from alembic<2,>=1.3.0->arize-phoenix) (1.2.3)\n",
      "Requirement already satisfied: opentelemetry-api in /opt/conda/lib/python3.10/site-packages (from openinference-instrumentation>=0.1.12->arize-phoenix) (1.30.0)\n",
      "Requirement already satisfied: python-dateutil>=2.8.1 in /opt/conda/lib/python3.10/site-packages (from pandas>=1.0->arize-phoenix) (2.8.2)\n",
      "Requirement already satisfied: pytz>=2020.1 in /opt/conda/lib/python3.10/site-packages (from pandas>=1.0->arize-phoenix) (2022.4)\n",
      "Requirement already satisfied: annotated-types>=0.6.0 in /opt/conda/lib/python3.10/site-packages (from pydantic>=2.1.0->arize-phoenix) (0.7.0)\n",
      "Requirement already satisfied: pydantic-core==2.27.2 in /opt/conda/lib/python3.10/site-packages (from pydantic>=2.1.0->arize-phoenix) (2.27.2)\n",
      "Requirement already satisfied: greenlet!=0.4.17 in /opt/conda/lib/python3.10/site-packages (from sqlalchemy[asyncio]<3,>=2.0.4->arize-phoenix) (1.1.3)\n",
      "Requirement already satisfied: graphql-core<3.4.0,>=3.2.0 in /opt/conda/lib/python3.10/site-packages (from strawberry-graphql>=0.262.0->arize-phoenix) (3.2.6)\n",
      "Requirement already satisfied: cryptography in /opt/conda/lib/python3.10/site-packages (from authlib->arize-phoenix) (38.0.1)\n",
      "Requirement already satisfied: idna>=2.0.0 in /opt/conda/lib/python3.10/site-packages (from email-validator->arize-phoenix) (3.4)\n",
      "Requirement already satisfied: dnspython>=2.0.0 in /opt/conda/lib/python3.10/site-packages (from email-validator->arize-phoenix) (2.7.0)\n",
      "Requirement already satisfied: anyio<5,>=3.6.2 in /opt/conda/lib/python3.10/site-packages (from starlette->arize-phoenix) (4.8.0)\n",
      "Requirement already satisfied: sniffio in /opt/conda/lib/python3.10/site-packages (from httpx->arize-phoenix) (1.3.0)\n",
      "Requirement already satisfied: certifi in /opt/conda/lib/python3.10/site-packages (from httpx->arize-phoenix) (2022.9.24)\n",
      "Requirement already satisfied: httpcore==1.* in /opt/conda/lib/python3.10/site-packages (from httpx->arize-phoenix) (1.0.7)\n",
      "Requirement already satisfied: h11<0.15,>=0.13 in /opt/conda/lib/python3.10/site-packages (from httpcore==1.*->httpx->arize-phoenix) (0.14.0)\n",
      "Requirement already satisfied: MarkupSafe>=2.0 in /opt/conda/lib/python3.10/site-packages (from jinja2->arize-phoenix) (2.1.1)\n",
      "Requirement already satisfied: opentelemetry-exporter-otlp-proto-http==1.30.0 in /opt/conda/lib/python3.10/site-packages (from opentelemetry-exporter-otlp->arize-phoenix) (1.30.0)\n",
      "Requirement already satisfied: opentelemetry-exporter-otlp-proto-grpc==1.30.0 in /opt/conda/lib/python3.10/site-packages (from opentelemetry-exporter-otlp->arize-phoenix) (1.30.0)\n",
      "Requirement already satisfied: googleapis-common-protos~=1.52 in /opt/conda/lib/python3.10/site-packages (from opentelemetry-exporter-otlp-proto-grpc==1.30.0->opentelemetry-exporter-otlp->arize-phoenix) (1.69.1)\n",
      "Requirement already satisfied: opentelemetry-exporter-otlp-proto-common==1.30.0 in /opt/conda/lib/python3.10/site-packages (from opentelemetry-exporter-otlp-proto-grpc==1.30.0->opentelemetry-exporter-otlp->arize-phoenix) (1.30.0)\n",
      "Requirement already satisfied: deprecated>=1.2.6 in /opt/conda/lib/python3.10/site-packages (from opentelemetry-exporter-otlp-proto-grpc==1.30.0->opentelemetry-exporter-otlp->arize-phoenix) (1.2.18)\n",
      "Requirement already satisfied: requests~=2.7 in /opt/conda/lib/python3.10/site-packages (from opentelemetry-exporter-otlp-proto-http==1.30.0->opentelemetry-exporter-otlp->arize-phoenix) (2.32.3)\n",
      "Requirement already satisfied: importlib-metadata<=8.5.0,>=6.0 in /opt/conda/lib/python3.10/site-packages (from opentelemetry-api->openinference-instrumentation>=0.1.12->arize-phoenix) (8.5.0)\n",
      "Requirement already satisfied: joblib>=1.0.0 in /opt/conda/lib/python3.10/site-packages (from scikit-learn->arize-phoenix) (1.2.0)\n",
      "Requirement already satisfied: threadpoolctl>=2.0.0 in /opt/conda/lib/python3.10/site-packages (from scikit-learn->arize-phoenix) (3.1.0)\n",
      "Requirement already satisfied: click>=7.0 in /opt/conda/lib/python3.10/site-packages (from uvicorn->arize-phoenix) (8.1.3)\n",
      "Requirement already satisfied: exceptiongroup>=1.0.2 in /opt/conda/lib/python3.10/site-packages (from anyio<5,>=3.6.2->starlette->arize-phoenix) (1.2.2)\n",
      "Requirement already satisfied: six>=1.5 in /opt/conda/lib/python3.10/site-packages (from python-dateutil>=2.8.1->pandas>=1.0->arize-phoenix) (1.16.0)\n",
      "Requirement already satisfied: cffi>=1.12 in /opt/conda/lib/python3.10/site-packages (from cryptography->authlib->arize-phoenix) (1.15.1)\n",
      "Requirement already satisfied: pycparser in /opt/conda/lib/python3.10/site-packages (from cffi>=1.12->cryptography->authlib->arize-phoenix) (2.21)\n",
      "Requirement already satisfied: zipp>=3.20 in /opt/conda/lib/python3.10/site-packages (from importlib-metadata<=8.5.0,>=6.0->opentelemetry-api->openinference-instrumentation>=0.1.12->arize-phoenix) (3.21.0)\n",
      "Requirement already satisfied: urllib3<3,>=1.21.1 in /opt/conda/lib/python3.10/site-packages (from requests~=2.7->opentelemetry-exporter-otlp-proto-http==1.30.0->opentelemetry-exporter-otlp->arize-phoenix) (1.26.11)\n",
      "Requirement already satisfied: charset-normalizer<4,>=2 in /opt/conda/lib/python3.10/site-packages (from requests~=2.7->opentelemetry-exporter-otlp-proto-http==1.30.0->opentelemetry-exporter-otlp->arize-phoenix) (2.1.1)\n",
      "\u001b[33mWARNING: Ignoring invalid distribution -rize-phoenix (/opt/conda/lib/python3.10/site-packages)\u001b[0m\u001b[33m\n",
      "\u001b[0mInstalling collected packages: arize-phoenix\n",
      "  Attempting uninstall: arize-phoenix\n",
      "\u001b[33m    WARNING: Ignoring invalid distribution -rize-phoenix (/opt/conda/lib/python3.10/site-packages)\u001b[0m\u001b[33m\n",
      "\u001b[0m    Found existing installation: arize-phoenix 8.12.0\n",
      "    Uninstalling arize-phoenix-8.12.0:\n",
      "\u001b[31mERROR: Could not install packages due to an OSError: [Errno 13] Permission denied: 'IP_NOTICE'\n",
      "Consider using the `--user` option or check the permissions.\n",
      "\u001b[0m\u001b[31m\n",
      "\u001b[0m\u001b[33mWARNING: Ignoring invalid distribution -rize-phoenix (/opt/conda/lib/python3.10/site-packages)\u001b[0m\u001b[33m\n",
      "\u001b[0m\u001b[33mWARNING: Ignoring invalid distribution -rize-phoenix (/opt/conda/lib/python3.10/site-packages)\u001b[0m\u001b[33m\n",
      "\u001b[0m\u001b[33mWARNING: Ignoring invalid distribution -rize-phoenix (/opt/conda/lib/python3.10/site-packages)\u001b[0m\u001b[33m\n",
      "\u001b[0m"
     ]
    }
   ],
   "source": [
    "!pip install --upgrade arize-phoenix"
   ]
  },
  {
   "cell_type": "code",
   "execution_count": 17,
   "id": "15822961-34e1-4cd4-ad4c-5d0370a090e1",
   "metadata": {},
   "outputs": [],
   "source": [
    "# 假設 ODS 的三欄分別是 A, B, C\n",
    "df.rename(columns={\n",
    "    \"A\": \"input\", \n",
    "    \"B\": \"output\", \n",
    "    \"C\": \"reference\"\n",
    "}, inplace=True)\n"
   ]
  },
  {
   "cell_type": "code",
   "execution_count": 18,
   "id": "71331911-eee6-42bd-917d-04aa674e9b3b",
   "metadata": {},
   "outputs": [
    {
     "name": "stdout",
     "output_type": "stream",
     "text": [
      "📤 Uploading dataset...\n",
      "💾 Examples uploaded: http://phoenix:6006/datasets/RGF0YXNldDo2/examples\n",
      "🗄️ Dataset version ID: RGF0YXNldFZlcnNpb246OA==\n"
     ]
    }
   ],
   "source": [
    "import phoenix as px\n",
    "\n",
    "client = px.Client(endpoint=\"http://phoenix:6006\")\n",
    "dataset = client.upload_dataset(\n",
    "    dataframe=df,\n",
    "    dataset_name=\"my-chinese-ods-dataset\",\n",
    "    input_keys=[\"input\"],\n",
    "    output_keys=[\"output\"],\n",
    "    metadata_keys=[\"reference\"]  # 將 reference 欄位視為 metadata\n",
    ")\n"
   ]
  }
 ],
 "metadata": {
  "kernelspec": {
   "display_name": "Python 3 (ipykernel)",
   "language": "python",
   "name": "python3"
  },
  "language_info": {
   "codemirror_mode": {
    "name": "ipython",
    "version": 3
   },
   "file_extension": ".py",
   "mimetype": "text/x-python",
   "name": "python",
   "nbconvert_exporter": "python",
   "pygments_lexer": "ipython3",
   "version": "3.10.6"
  }
 },
 "nbformat": 4,
 "nbformat_minor": 5
}
