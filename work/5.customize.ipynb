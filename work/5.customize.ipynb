{
 "cells": [
  {
   "cell_type": "code",
   "execution_count": 1,
   "id": "389fcae9-ef18-49b6-9709-d1b4cd995943",
   "metadata": {},
   "outputs": [
    {
     "name": "stderr",
     "output_type": "stream",
     "text": [
      "/opt/conda/lib/python3.10/site-packages/phoenix/utilities/client.py:51: UserWarning: ⚠️⚠️ The Phoenix server (8.12.0) and client (9.5.0) versions are severely mismatched. Upgrade  either the client or server to ensure API compatibility ⚠️⚠️\n",
      "  warnings.warn(\n"
     ]
    }
   ],
   "source": [
    "import os\n",
    "import phoenix as px\n",
    "\n",
    "# 將 PHOENIX_COLLECTOR_ENDPOINT 指向本機實際 IP\n",
    "os.environ[\"PHOENIX_COLLECTOR_ENDPOINT\"] = \"http://192.168.1.122:6006\"\n",
    "\n",
    "client = px.Client()\n",
    "dataset = client.get_dataset(\n",
    "    name=\"my-chinese-ods-dataset\",\n",
    "    version_id=\"RGF0YXNldFZlcnNpb246OQ==\"\n",
    ")"
   ]
  },
  {
   "cell_type": "code",
   "execution_count": 2,
   "id": "df7ed3d9-4178-43fc-9146-d1ce9205b090",
   "metadata": {},
   "outputs": [
    {
     "name": "stdout",
     "output_type": "stream",
     "text": [
      "9.5.0\n"
     ]
    }
   ],
   "source": [
    "import phoenix\n",
    "print(phoenix.__version__)"
   ]
  },
  {
   "cell_type": "code",
   "execution_count": 3,
   "id": "cb16d056-e708-42cc-b97c-72aa7ad20092",
   "metadata": {},
   "outputs": [
    {
     "name": "stdout",
     "output_type": "stream",
     "text": [
      "Dataset(id='RGF0YXNldDo3', version_id='RGF0YXNldFZlcnNpb246OQ==')\n"
     ]
    }
   ],
   "source": [
    "print(dataset)"
   ]
  },
  {
   "cell_type": "code",
   "execution_count": 4,
   "id": "7241a7df-9fb9-48de-964e-0fa04751585c",
   "metadata": {},
   "outputs": [
    {
     "name": "stdout",
     "output_type": "stream",
     "text": [
      "['__annotations__', '__class__', '__dataclass_fields__', '__dataclass_params__', '__delattr__', '__dict__', '__dir__', '__doc__', '__eq__', '__format__', '__ge__', '__getattribute__', '__getitem__', '__gt__', '__hash__', '__init__', '__init_subclass__', '__iter__', '__le__', '__len__', '__lt__', '__match_args__', '__module__', '__ne__', '__new__', '__post_init__', '__reduce__', '__reduce_ex__', '__repr__', '__setattr__', '__sizeof__', '__str__', '__subclasshook__', '__weakref__', '_keys', 'as_dataframe', 'examples', 'from_dict', 'id', 'version_id']\n"
     ]
    }
   ],
   "source": [
    "print(dir(dataset))"
   ]
  },
  {
   "cell_type": "code",
   "execution_count": 5,
   "id": "49d31ec3-6f6a-4ebd-b5f8-14604ea91050",
   "metadata": {},
   "outputs": [
    {
     "name": "stdout",
     "output_type": "stream",
     "text": [
      "                                                 input  \\\n",
      "example_id                                               \n",
      "RGF0YXNldEV4YW1wbGU6NTA=      {'input': '艾菲爾鐵塔位於哪裡？ '}   \n",
      "RGF0YXNldEV4YW1wbGU6NTE=       {'input': '中國的長城有多長？ '}   \n",
      "RGF0YXNldEV4YW1wbGU6NTI=     {'input': '最大的熱帶雨林是什麼？ '}   \n",
      "RGF0YXNldEV4YW1wbGU6NTM=    {'input': '地球上最高的山是哪一座？ '}   \n",
      "RGF0YXNldEV4YW1wbGU6NTQ=    {'input': '世界上最長的河流是什麼？ '}   \n",
      "RGF0YXNldEV4YW1wbGU6NTU=       {'input': '蒙娜麗莎是誰畫的？ '}   \n",
      "RGF0YXNldEV4YW1wbGU6NTY=        {'input': '人體有幾塊骨頭？ '}   \n",
      "RGF0YXNldEV4YW1wbGU6NTc=  {'input': '太陽系中最大的行星是哪一顆？ '}   \n",
      "RGF0YXNldEV4YW1wbGU6NTg=  {'input': '《羅密歐與茱麗葉》是誰寫的？ '}   \n",
      "RGF0YXNldEV4YW1wbGU6NTk=  {'input': '第一次登月是什麼時候發生的？ '}   \n",
      "\n",
      "                                                                     output  \\\n",
      "example_id                                                                    \n",
      "RGF0YXNldEV4YW1wbGU6NTA=                        {'output': '艾菲爾鐵塔位於法國巴黎。 '}   \n",
      "RGF0YXNldEV4YW1wbGU6NTE=       {'output': '中國的長城長約 13,171 英里（21,196 公里）。 '}   \n",
      "RGF0YXNldEV4YW1wbGU6NTI=   {'output': '亞馬遜雨林是世界上最大的熱帶雨林。它是世界上動植物種類最多的家園。 '}   \n",
      "RGF0YXNldEV4YW1wbGU6NTM=  {'output': '珠穆朗瑪峰海拔 29,029 英尺（8,848 公尺），是地球上最高...   \n",
      "RGF0YXNldEV4YW1wbGU6NTQ=  {'output': '尼羅河全長 6,650 公里（4,132 英里），是世界上最長的河流...   \n",
      "RGF0YXNldEV4YW1wbGU6NTU=     {'output': '《蒙娜麗莎》是義大利文藝復興時期藝術家李奧納多·達文西的作品。 '}   \n",
      "RGF0YXNldEV4YW1wbGU6NTY=                  {'output': '成年人的身體通常有 256 塊骨頭。 '}   \n",
      "RGF0YXNldEV4YW1wbGU6NTc=                     {'output': '木星是我們太陽系中最大的行星。 '}   \n",
      "RGF0YXNldEV4YW1wbGU6NTg=             {'output': '戲劇《羅密歐與茱麗葉》是威廉·莎士比亞創作的。 '}   \n",
      "RGF0YXNldEV4YW1wbGU6NTk=           {'output': '第一次登月發生在 1969 年 7 月 20 日。 '}   \n",
      "\n",
      "                                                                   metadata  \n",
      "example_id                                                                   \n",
      "RGF0YXNldEV4YW1wbGU6NTA=  {'reference': '艾菲爾鐵塔位於法國巴黎。它建於 1889 年，作為 1889 ...  \n",
      "RGF0YXNldEV4YW1wbGU6NTE=  {'reference': '中國的長城長達 13,000 多英里。它是中國各個朝代歷經多個...  \n",
      "RGF0YXNldEV4YW1wbGU6NTI=  {'reference': '亞馬遜雨林是世界上最大的熱帶雨林。它覆蓋了巴西西北部的大部分地...  \n",
      "RGF0YXNldEV4YW1wbGU6NTM=  {'reference': '珠穆朗瑪峰是地球上最高的山峰。它位於喜馬拉雅山馬哈蘭古爾喜馬拉...  \n",
      "RGF0YXNldEV4YW1wbGU6NTQ=  {'reference': '尼羅河是世界上最長的河流。它向北流經非洲東北部，從布隆迪最遠的...  \n",
      "RGF0YXNldEV4YW1wbGU6NTU=  {'reference': '《蒙娜麗莎》是李奧納多達文西畫的。它被認為是義大利文藝復興時期...  \n",
      "RGF0YXNldEV4YW1wbGU6NTY=  {'reference': '人體有206塊骨頭。這些骨骼提供結構、保護器官、固定肌肉並儲存...  \n",
      "RGF0YXNldEV4YW1wbGU6NTc=  {'reference': '木星是我們太陽系中最大的行星。它是一顆氣態巨行星，質量是太陽系...  \n",
      "RGF0YXNldEV4YW1wbGU6NTg=  {'reference': '威廉·莎士比亞寫了《羅密歐與茱麗葉》。這是一場關於兩個不幸的年...  \n",
      "RGF0YXNldEV4YW1wbGU6NTk=  {'reference': '第一次登月發生在 1969 年。 1969 年 7 月 20 ...  \n"
     ]
    }
   ],
   "source": [
    "print(dataset.as_dataframe())"
   ]
  },
  {
   "cell_type": "code",
   "execution_count": 6,
   "id": "03c979ad-59b0-4b6c-8422-12a21bfe5db7",
   "metadata": {},
   "outputs": [
    {
     "name": "stdout",
     "output_type": "stream",
     "text": [
      "Index(['input', 'output', 'metadata'], dtype='object')\n"
     ]
    }
   ],
   "source": [
    "df = dataset.as_dataframe()\n",
    "print(df.columns)"
   ]
  },
  {
   "cell_type": "code",
   "execution_count": 7,
   "id": "3e50329a-9afe-424d-a0d4-bd8dc40c6621",
   "metadata": {},
   "outputs": [],
   "source": [
    "df[\"input\"] = df[\"input\"].apply(lambda x: x['input'])\n",
    "df[\"output\"] = df[\"output\"].apply(lambda x: x['output'])\n"
   ]
  },
  {
   "cell_type": "code",
   "execution_count": 8,
   "id": "b27210db-151d-4675-8b92-5e59fe8858c8",
   "metadata": {},
   "outputs": [],
   "source": [
    "MY_CUSTOM_TEMPLATE = '''\n",
    "    You are evaluating whether the output mentions any person's name, such as common first names, full names, or references to individuals.\n",
    "    [BEGIN DATA]\n",
    "    ************\n",
    "    [Question]: {input}\n",
    "    ************\n",
    "    [Response]: {output}\n",
    "    [END DATA]\n",
    "\n",
    "\n",
    "    Please focus on the tone of the response.\n",
    "    Your answer must be single word, either \"yes\" or \"no\"\n",
    "    '''"
   ]
  },
  {
   "cell_type": "code",
   "execution_count": 8,
   "id": "d02da826-0783-4990-8322-5d9bfb7903c8",
   "metadata": {},
   "outputs": [
    {
     "name": "stdout",
     "output_type": "stream",
     "text": [
      "有\n"
     ]
    }
   ],
   "source": [
    "import openai\n",
    "import os\n",
    "from phoenix.evals import llm_classify, OpenAIModel\n",
    "\n",
    "client = openai.OpenAI(\n",
    "    api_key=os.getenv(\"OPENAI_API_KEY\"),\n",
    "    base_url=os.getenv(\"OPENAI_API_BASE\")\n",
    ")\n",
    "\n",
    "res = client.chat.completions.create(\n",
    "model=\"o1\",\n",
    "temperature=0.5,\n",
    "messages=[\n",
    "{\"role\": \"system\", \"content\": \"RAG系統的output評估器\"},\n",
    "{\"role\": \"user\", \"content\": \"RAG系統output:《蒙娜麗莎》是義大利文藝復興時期藝術家李奧納多·達文西的作品，請告訴我這個回應中有無出現人名，你只能回答有或沒有\"},\n",
    "]\n",
    ")\n",
    "print(res.choices[0].message.content)\n"
   ]
  },
  {
   "cell_type": "code",
   "execution_count": 10,
   "id": "9189f4d9-199a-47e5-a2f8-2e184336b09b",
   "metadata": {},
   "outputs": [
    {
     "name": "stderr",
     "output_type": "stream",
     "text": [
      "🐌!! If running inside a notebook, patching the event loop with nest_asyncio will allow asynchronous eval submission, and is significantly faster. To patch the event loop, run `nest_asyncio.apply()`.\n"
     ]
    },
    {
     "data": {
      "application/vnd.jupyter.widget-view+json": {
       "model_id": "70955b566d4f4306b107cb458343142a",
       "version_major": 2,
       "version_minor": 0
      },
      "text/plain": [
       "llm_classify |          | 0/10 (0.0%) | ⏳ 00:00<? | ?it/s"
      ]
     },
     "metadata": {},
     "output_type": "display_data"
    }
   ],
   "source": [
    "import openai\n",
    "import os\n",
    "from phoenix.evals import llm_classify, OpenAIModel\n",
    "\n",
    "rails = ['yes', 'no']\n",
    "\n",
    "model = OpenAIModel(\n",
    "    model=\"o1\",\n",
    "    temperature=0.5,\n",
    "    api_key=os.getenv(\"OPENAI_API_KEY\"),     # 你的API Key\n",
    "    base_url=os.getenv(\"OPENAI_API_BASE\")    # 你的 Base URL\n",
    ")\n",
    "\n",
    "# 在外面跑 llm_classify（批次對整個df做分類）\n",
    "positive_eval = llm_classify(\n",
    "    data=df,\n",
    "    template=MY_CUSTOM_TEMPLATE,\n",
    "    model=model,\n",
    "    rails=rails,\n",
    "    concurrency=5\n",
    ")\n"
   ]
  },
  {
   "cell_type": "code",
   "execution_count": 9,
   "id": "b3158b78-2d1b-4c39-97a5-5ddfa293045d",
   "metadata": {},
   "outputs": [
    {
     "ename": "NameError",
     "evalue": "name 'positive_eval' is not defined",
     "output_type": "error",
     "traceback": [
      "\u001b[0;31m---------------------------------------------------------------------------\u001b[0m",
      "\u001b[0;31mNameError\u001b[0m                                 Traceback (most recent call last)",
      "Cell \u001b[0;32mIn [9], line 1\u001b[0m\n\u001b[0;32m----> 1\u001b[0m \u001b[38;5;28mprint\u001b[39m(\u001b[43mpositive_eval\u001b[49m\u001b[38;5;241m.\u001b[39mlabel)\n",
      "\u001b[0;31mNameError\u001b[0m: name 'positive_eval' is not defined"
     ]
    }
   ],
   "source": [
    "print(positive_eval.label)"
   ]
  },
  {
   "cell_type": "code",
   "execution_count": 12,
   "id": "e87dca65-33a0-429e-88a1-363cee117387",
   "metadata": {},
   "outputs": [
    {
     "ename": "NameError",
     "evalue": "name 'positive_eval' is not defined",
     "output_type": "error",
     "traceback": [
      "\u001b[0;31m---------------------------------------------------------------------------\u001b[0m",
      "\u001b[0;31mNameError\u001b[0m                                 Traceback (most recent call last)",
      "Cell \u001b[0;32mIn [12], line 1\u001b[0m\n\u001b[0;32m----> 1\u001b[0m labels_mapping \u001b[38;5;241m=\u001b[39m \u001b[43mpositive_eval\u001b[49m[\u001b[38;5;124m\"\u001b[39m\u001b[38;5;124mlabel\u001b[39m\u001b[38;5;124m\"\u001b[39m]\u001b[38;5;241m.\u001b[39mto_dict()\n\u001b[1;32m      2\u001b[0m \u001b[38;5;28mprint\u001b[39m(labels_mapping)\n",
      "\u001b[0;31mNameError\u001b[0m: name 'positive_eval' is not defined"
     ]
    }
   ],
   "source": [
    "labels_mapping = positive_eval[\"label\"].to_dict()\n",
    "print(labels_mapping)"
   ]
  },
  {
   "cell_type": "code",
   "execution_count": 9,
   "id": "d39aa61d-12b6-469d-b984-a8a0eff4c40b",
   "metadata": {},
   "outputs": [],
   "source": [
    "from phoenix.experiments.types import Example\n",
    "\n",
    "def my_task(example: Example) -> str:\n",
    "    return example\n",
    "    # return {\"a\": 1, \"b\": 2}"
   ]
  },
  {
   "cell_type": "code",
   "execution_count": 14,
   "id": "7b510dfd-ac27-4f2d-a4b3-f007703e8937",
   "metadata": {},
   "outputs": [],
   "source": [
    "client = openai.OpenAI(\n",
    "    api_key=os.getenv(\"OPENAI_API_KEY\"),\n",
    "    base_url=os.getenv(\"OPENAI_API_BASE\")\n",
    ")\n",
    "\n",
    "# Define an evaluator.\n",
    "def name_appear(input, output) -> str:      \n",
    "    output_message = output[\"output\"][\"output\"]\n",
    "    print(output_message)    \n",
    "    \n",
    "    MY_CUSTOM_TEMPLATE = f'''\n",
    "You are evaluating whether the output mentions any person's name, such as common first names, full names, or references to individuals.\n",
    "[BEGIN DATA]\n",
    "[Response]: {output_message}\n",
    "[END DATA]\n",
    "\n",
    "\n",
    "Please focus on the tone of the response.\n",
    "Your answer must be single word, either \"yes\" or \"no\"\n",
    "'''\n",
    "    \n",
    "    # print(MY_CUSTOM_TEMPLATE)\n",
    "    \n",
    "    res = client.chat.completions.create(\n",
    "        model=\"o1\",\n",
    "        temperature=0,\n",
    "        messages=[\n",
    "            {\"role\": \"user\", \"content\": MY_CUSTOM_TEMPLATE},\n",
    "        ]\n",
    "    )\n",
    "    \n",
    "    content = res.choices[0].message.content\n",
    "    print(content)\n",
    "    content = content.strip().lower() \n",
    "    \n",
    "    return content \n",
    "    \n",
    "    \n",
    "def hallucination_test(input, output) -> str:\n",
    "    print(input)\n",
    "    # print(output)    \n",
    "    input_message = input[\"input\"]\n",
    "    print(input_message)\n",
    "    \n",
    "    output_message = output[\"output\"][\"output\"]\n",
    "    print(output_message)    \n",
    "    \n",
    "    MY_CUSTOM_TEMPLATE = f'''\n",
    "\n",
    "[BEGIN DATA]\n",
    "[Question]: {input_message}\n",
    "[Response]: {output_message}\n",
    "[END DATA]\n",
    "\n",
    "請判斷[Response]回答[Question]的內容中，是否有與事實不符的地方。\n",
    "如果有，則回答 \"幻覺\"；沒有幻覺的話，則回答 \"事實\"。\n",
    "\n",
    "不要其他說明，必須回答單詞即可。\n",
    "'''\n",
    "    \n",
    "    # print(MY_CUSTOM_TEMPLATE)\n",
    "    \n",
    "    res = client.chat.completions.create(\n",
    "        model=\"o1\",\n",
    "        temperature=0,\n",
    "        messages=[\n",
    "            {\"role\": \"user\", \"content\": MY_CUSTOM_TEMPLATE},\n",
    "        ]\n",
    "    )\n",
    "    \n",
    "    content = res.choices[0].message.content\n",
    "    print(content)\n",
    "    content = content.strip().lower() \n",
    "    \n",
    "    return content\n",
    "    # return \"yes\" if res.choices[0].message.content == \"yes\" else \"no\" \n",
    "    \n",
    "    \n",
    "# Store the evaluators for later use\n",
    "evaluators = [name_appear, hallucination_test]"
   ]
  },
  {
   "cell_type": "code",
   "execution_count": 15,
   "id": "862e9890-a245-4800-a281-00e655418e52",
   "metadata": {},
   "outputs": [
    {
     "name": "stderr",
     "output_type": "stream",
     "text": [
      "/opt/conda/lib/python3.10/site-packages/phoenix/utilities/client.py:51: UserWarning: ⚠️⚠️ The Phoenix server (8.12.0) and client (9.5.0) versions are severely mismatched. Upgrade  either the client or server to ensure API compatibility ⚠️⚠️\n",
      "  warnings.warn(\n",
      "🐌!! If running inside a notebook, patching the event loop with nest_asyncio will allow asynchronous eval submission, and is significantly faster. To patch the event loop, run `nest_asyncio.apply()`.\n"
     ]
    },
    {
     "name": "stdout",
     "output_type": "stream",
     "text": [
      "🧪 Experiment started.\n",
      "📺 View dataset experiments: http://192.168.1.122:6006/datasets/RGF0YXNldDo3/experiments\n",
      "🔗 View this experiment: http://192.168.1.122:6006/datasets/RGF0YXNldDo3/compare?experimentId=RXhwZXJpbWVudDozOA==\n"
     ]
    },
    {
     "data": {
      "application/vnd.jupyter.widget-view+json": {
       "model_id": "54877ef3b2fb4278a5f65ef8fcc486e7",
       "version_major": 2,
       "version_minor": 0
      },
      "text/plain": [
       "running tasks |          | 0/10 (0.0%) | ⏳ 00:00<? | ?it/s"
      ]
     },
     "metadata": {},
     "output_type": "display_data"
    },
    {
     "name": "stderr",
     "output_type": "stream",
     "text": [
      "/opt/conda/lib/python3.10/site-packages/phoenix/utilities/client.py:51: UserWarning: ⚠️⚠️ The Phoenix server (8.12.0) and client (9.5.0) versions are severely mismatched. Upgrade  either the client or server to ensure API compatibility ⚠️⚠️\n",
      "  warnings.warn(\n",
      "🐌!! If running inside a notebook, patching the event loop with nest_asyncio will allow asynchronous eval submission, and is significantly faster. To patch the event loop, run `nest_asyncio.apply()`.\n"
     ]
    },
    {
     "name": "stdout",
     "output_type": "stream",
     "text": [
      "✅ Task runs completed.\n",
      "🧠 Evaluation started.\n"
     ]
    },
    {
     "data": {
      "application/vnd.jupyter.widget-view+json": {
       "model_id": "2a422c7f077d425b85cdf438089aee51",
       "version_major": 2,
       "version_minor": 0
      },
      "text/plain": [
       "running experiment evaluations |          | 0/20 (0.0%) | ⏳ 00:00<? | ?it/s"
      ]
     },
     "metadata": {},
     "output_type": "display_data"
    },
    {
     "name": "stdout",
     "output_type": "stream",
     "text": [
      "艾菲爾鐵塔位於法國巴黎。 \n",
      "no\n",
      "{'input': '艾菲爾鐵塔位於哪裡？ '}\n",
      "艾菲爾鐵塔位於哪裡？ \n",
      "艾菲爾鐵塔位於法國巴黎。 \n"
     ]
    },
    {
     "name": "stderr",
     "output_type": "stream",
     "text": [
      "/opt/conda/lib/python3.10/site-packages/phoenix/utilities/client.py:51: UserWarning: ⚠️⚠️ The Phoenix server (8.12.0) and client (9.5.0) versions are severely mismatched. Upgrade  either the client or server to ensure API compatibility ⚠️⚠️\n",
      "  warnings.warn(\n"
     ]
    },
    {
     "name": "stdout",
     "output_type": "stream",
     "text": [
      "事實\n",
      "中國的長城長約 13,171 英里（21,196 公里）。 \n",
      "no\n",
      "{'input': '中國的長城有多長？ '}\n",
      "中國的長城有多長？ \n",
      "中國的長城長約 13,171 英里（21,196 公里）。 \n",
      "事實\n",
      "亞馬遜雨林是世界上最大的熱帶雨林。它是世界上動植物種類最多的家園。 \n",
      "no\n",
      "{'input': '最大的熱帶雨林是什麼？ '}\n",
      "最大的熱帶雨林是什麼？ \n",
      "亞馬遜雨林是世界上最大的熱帶雨林。它是世界上動植物種類最多的家園。 \n",
      "事實\n",
      "珠穆朗瑪峰海拔 29,029 英尺（8,848 公尺），是地球上最高的山峰。 \n",
      "no\n",
      "{'input': '地球上最高的山是哪一座？ '}\n",
      "地球上最高的山是哪一座？ \n",
      "珠穆朗瑪峰海拔 29,029 英尺（8,848 公尺），是地球上最高的山峰。 \n",
      "事實\n",
      "尼羅河全長 6,650 公里（4,132 英里），是世界上最長的河流。 \n",
      "no\n",
      "{'input': '世界上最長的河流是什麼？ '}\n",
      "世界上最長的河流是什麼？ \n",
      "尼羅河全長 6,650 公里（4,132 英里），是世界上最長的河流。 \n",
      "幻覺\n",
      "《蒙娜麗莎》是義大利文藝復興時期藝術家李奧納多·達文西的作品。 \n",
      "yes\n",
      "{'input': '蒙娜麗莎是誰畫的？ '}\n",
      "蒙娜麗莎是誰畫的？ \n",
      "《蒙娜麗莎》是義大利文藝復興時期藝術家李奧納多·達文西的作品。 \n",
      "事實\n",
      "成年人的身體通常有 256 塊骨頭。 \n",
      "no\n",
      "{'input': '人體有幾塊骨頭？ '}\n",
      "人體有幾塊骨頭？ \n",
      "成年人的身體通常有 256 塊骨頭。 \n",
      "幻覺\n",
      "木星是我們太陽系中最大的行星。 \n",
      "no\n",
      "{'input': '太陽系中最大的行星是哪一顆？ '}\n",
      "太陽系中最大的行星是哪一顆？ \n",
      "木星是我們太陽系中最大的行星。 \n",
      "事實\n",
      "戲劇《羅密歐與茱麗葉》是威廉·莎士比亞創作的。 \n",
      "yes\n",
      "{'input': '《羅密歐與茱麗葉》是誰寫的？ '}\n",
      "《羅密歐與茱麗葉》是誰寫的？ \n",
      "戲劇《羅密歐與茱麗葉》是威廉·莎士比亞創作的。 \n",
      "事實\n",
      "第一次登月發生在 1969 年 7 月 20 日。 \n",
      "no\n",
      "{'input': '第一次登月是什麼時候發生的？ '}\n",
      "第一次登月是什麼時候發生的？ \n",
      "第一次登月發生在 1969 年 7 月 20 日。 \n",
      "事實\n",
      "\n",
      "🔗 View this experiment: http://192.168.1.122:6006/datasets/RGF0YXNldDo3/compare?experimentId=RXhwZXJpbWVudDozOA==\n",
      "\n",
      "Experiment Summary (05/18/25 12:37 PM +0000)\n",
      "--------------------------------------------\n",
      "            evaluator   n  n_labels         top_2_labels\n",
      "0  hallucination_test  10        10   {'事實': 8, '幻覺': 2}\n",
      "1         name_appear  10        10  {'no': 8, 'yes': 2}\n",
      "\n",
      "Tasks Summary (05/18/25 12:37 PM +0000)\n",
      "---------------------------------------\n",
      "   n_examples  n_runs  n_errors\n",
      "0          10      10         0\n"
     ]
    }
   ],
   "source": [
    "# Run an experiment\n",
    "from phoenix.experiments import run_experiment\n",
    "\n",
    "experiment = run_experiment(dataset, my_task, evaluators=evaluators)"
   ]
  },
  {
   "cell_type": "code",
   "execution_count": 10,
   "id": "6b97cf16-168e-4bf2-a69e-d892f2de6962",
   "metadata": {},
   "outputs": [],
   "source": [
    "df[\"metadata\"] = df[\"metadata\"].apply(lambda x: x['reference'])\n"
   ]
  },
  {
   "cell_type": "code",
   "execution_count": 20,
   "id": "b2d63046-b114-40e8-bb00-94d7f618d8d7",
   "metadata": {},
   "outputs": [],
   "source": [
    "client = openai.OpenAI(\n",
    "    api_key=os.getenv(\"OPENAI_API_KEY\"),\n",
    "    base_url=os.getenv(\"OPENAI_API_BASE\")\n",
    ")\n",
    "\n",
    "def metadata_test(input, output, metadata) -> str:\n",
    "    input_message = input[\"input\"]\n",
    "    output_message = output[\"output\"][\"output\"]\n",
    "    reference_message = metadata[\"reference\"]\n",
    "    print(input_message)\n",
    "    print(output_message)\n",
    "    print(reference_message)\n",
    "    \n",
    "    MY_CUSTOM_TEMPLATE = f'''\n",
    "\n",
    "[BEGIN DATA]\n",
    "[Question]: {input_message}\n",
    "[Response]: {output_message}\n",
    "[Reference]: {reference_message}\n",
    "[END DATA]\n",
    "\n",
    "請根據[Reference]的內容，判斷[Response]對於[Question]的回答中，是否有與事實不符的地方。\n",
    "如果有，則回答 \"幻覺\"；沒有幻覺的話，則回答 \"事實\"。\n",
    "\n",
    "不要其他說明，必須回答單詞即可。\n",
    "'''\n",
    "    \n",
    "    res = client.chat.completions.create(\n",
    "        model=\"o1\",\n",
    "        temperature=0,\n",
    "        messages=[\n",
    "            {\"role\": \"user\", \"content\": MY_CUSTOM_TEMPLATE},\n",
    "        ]\n",
    "    )\n",
    "    \n",
    "    content = res.choices[0].message.content\n",
    "    print(content)\n",
    "    content = content.strip().lower() \n",
    "    \n",
    "    return content\n",
    "    # return \"yes\" if res.choices[0].message.content == \"yes\" else \"no\" \n",
    "    \n",
    "    \n",
    "# Store the evaluators for later use\n",
    "evaluators = [metadata_test]"
   ]
  },
  {
   "cell_type": "code",
   "execution_count": 21,
   "id": "40eb6f3d-49a7-478d-a9af-76db6e321ac8",
   "metadata": {},
   "outputs": [
    {
     "name": "stderr",
     "output_type": "stream",
     "text": [
      "/opt/conda/lib/python3.10/site-packages/phoenix/utilities/client.py:51: UserWarning: ⚠️⚠️ The Phoenix server (8.12.0) and client (9.5.0) versions are severely mismatched. Upgrade  either the client or server to ensure API compatibility ⚠️⚠️\n",
      "  warnings.warn(\n",
      "🐌!! If running inside a notebook, patching the event loop with nest_asyncio will allow asynchronous eval submission, and is significantly faster. To patch the event loop, run `nest_asyncio.apply()`.\n"
     ]
    },
    {
     "name": "stdout",
     "output_type": "stream",
     "text": [
      "🧪 Experiment started.\n",
      "📺 View dataset experiments: http://192.168.1.122:6006/datasets/RGF0YXNldDo3/experiments\n",
      "🔗 View this experiment: http://192.168.1.122:6006/datasets/RGF0YXNldDo3/compare?experimentId=RXhwZXJpbWVudDo0MQ==\n"
     ]
    },
    {
     "data": {
      "application/vnd.jupyter.widget-view+json": {
       "model_id": "06598244d8574495a95172afcba40a9c",
       "version_major": 2,
       "version_minor": 0
      },
      "text/plain": [
       "running tasks |          | 0/10 (0.0%) | ⏳ 00:00<? | ?it/s"
      ]
     },
     "metadata": {},
     "output_type": "display_data"
    },
    {
     "name": "stderr",
     "output_type": "stream",
     "text": [
      "/opt/conda/lib/python3.10/site-packages/phoenix/utilities/client.py:51: UserWarning: ⚠️⚠️ The Phoenix server (8.12.0) and client (9.5.0) versions are severely mismatched. Upgrade  either the client or server to ensure API compatibility ⚠️⚠️\n",
      "  warnings.warn(\n",
      "🐌!! If running inside a notebook, patching the event loop with nest_asyncio will allow asynchronous eval submission, and is significantly faster. To patch the event loop, run `nest_asyncio.apply()`.\n"
     ]
    },
    {
     "name": "stdout",
     "output_type": "stream",
     "text": [
      "✅ Task runs completed.\n",
      "🧠 Evaluation started.\n"
     ]
    },
    {
     "data": {
      "application/vnd.jupyter.widget-view+json": {
       "model_id": "2f49df1bd6554d74b309e9a1502c1584",
       "version_major": 2,
       "version_minor": 0
      },
      "text/plain": [
       "running experiment evaluations |          | 0/10 (0.0%) | ⏳ 00:00<? | ?it/s"
      ]
     },
     "metadata": {},
     "output_type": "display_data"
    },
    {
     "name": "stdout",
     "output_type": "stream",
     "text": [
      "艾菲爾鐵塔位於哪裡？ \n",
      "艾菲爾鐵塔位於法國巴黎。 \n",
      "艾菲爾鐵塔位於法國巴黎。它建於 1889 年，作為 1889 年世界博覽會的入口拱門。 \n",
      "事實\n",
      "中國的長城有多長？ \n",
      "中國的長城長約 13,171 英里（21,196 公里）。 \n",
      "中國的長城長達 13,000 多英里。它是中國各個朝代歷經多個世紀而建造的，旨在抵禦遊牧民族的入侵。 \n"
     ]
    },
    {
     "name": "stderr",
     "output_type": "stream",
     "text": [
      "/opt/conda/lib/python3.10/site-packages/phoenix/utilities/client.py:51: UserWarning: ⚠️⚠️ The Phoenix server (8.12.0) and client (9.5.0) versions are severely mismatched. Upgrade  either the client or server to ensure API compatibility ⚠️⚠️\n",
      "  warnings.warn(\n"
     ]
    },
    {
     "name": "stdout",
     "output_type": "stream",
     "text": [
      "事實\n",
      "最大的熱帶雨林是什麼？ \n",
      "亞馬遜雨林是世界上最大的熱帶雨林。它是世界上動植物種類最多的家園。 \n",
      "亞馬遜雨林是世界上最大的熱帶雨林。它覆蓋了巴西西北部的大部分地區，並延伸到哥倫比亞、秘魯和其他南美國家。 \n",
      "事實\n",
      "地球上最高的山是哪一座？ \n",
      "珠穆朗瑪峰海拔 29,029 英尺（8,848 公尺），是地球上最高的山峰。 \n",
      "珠穆朗瑪峰是地球上最高的山峰。它位於喜馬拉雅山馬哈蘭古爾喜馬拉雅山脈，橫跨尼泊爾和西藏邊界。 \n",
      "事實\n",
      "世界上最長的河流是什麼？ \n",
      "尼羅河全長 6,650 公里（4,132 英里），是世界上最長的河流。 \n",
      "尼羅河是世界上最長的河流。它向北流經非洲東北部，從布隆迪最遠的源頭流入地中海，全長約 6,650 公里（4,132 英里）。 \n",
      "事實\n",
      "蒙娜麗莎是誰畫的？ \n",
      "《蒙娜麗莎》是義大利文藝復興時期藝術家李奧納多·達文西的作品。 \n",
      "《蒙娜麗莎》是李奧納多達文西畫的。它被認為是義大利文藝復興時期的典型傑作，並被描述為「世界上最著名、訪問量最大、被書寫最多、被傳頌最多、被模仿最多的藝術作品」。 \n",
      "事實\n",
      "人體有幾塊骨頭？ \n",
      "成年人的身體通常有 256 塊骨頭。 \n",
      "人體有206塊骨頭。這些骨骼提供結構、保護器官、固定肌肉並儲存鈣。 \n",
      "幻覺\n",
      "太陽系中最大的行星是哪一顆？ \n",
      "木星是我們太陽系中最大的行星。 \n",
      "木星是我們太陽系中最大的行星。它是一顆氣態巨行星，質量是太陽系中所有其他行星質量總和的兩倍半以上。 \n",
      "事實\n",
      "《羅密歐與茱麗葉》是誰寫的？ \n",
      "戲劇《羅密歐與茱麗葉》是威廉·莎士比亞創作的。 \n",
      "威廉·莎士比亞寫了《羅密歐與茱麗葉》。這是一場關於兩個不幸的年輕戀人的悲劇，他們的死亡最終使他們不和的家庭和解。 \n",
      "事實\n",
      "第一次登月是什麼時候發生的？ \n",
      "第一次登月發生在 1969 年 7 月 20 日。 \n",
      "第一次登月發生在 1969 年。 1969 年 7 月 20 日，美國太空人尼爾阿姆斯壯和埃德溫「巴茲」奧爾德林作為阿波羅 11 號任務的一部分，成為第一批登陸月球的人類。 \n",
      "事實\n",
      "\n",
      "🔗 View this experiment: http://192.168.1.122:6006/datasets/RGF0YXNldDo3/compare?experimentId=RXhwZXJpbWVudDo0MQ==\n",
      "\n",
      "Experiment Summary (05/18/25 12:51 PM +0000)\n",
      "--------------------------------------------\n",
      "       evaluator   n  n_labels        top_2_labels\n",
      "0  metadata_test  10        10  {'事實': 9, '幻覺': 1}\n",
      "\n",
      "Tasks Summary (05/18/25 12:51 PM +0000)\n",
      "---------------------------------------\n",
      "   n_examples  n_runs  n_errors\n",
      "0          10      10         0\n"
     ]
    }
   ],
   "source": [
    "# Run an experiment\n",
    "from phoenix.experiments import run_experiment\n",
    "\n",
    "experiment = run_experiment(dataset, my_task, evaluators=evaluators)"
   ]
  },
  {
   "cell_type": "code",
   "execution_count": 27,
   "id": "4e40de38-4a2f-4919-b5fa-4db00b755717",
   "metadata": {},
   "outputs": [
    {
     "name": "stderr",
     "output_type": "stream",
     "text": [
      "/opt/conda/lib/python3.10/site-packages/phoenix/utilities/client.py:51: UserWarning: ⚠️⚠️ The Phoenix server (8.12.0) and client (9.5.0) versions are severely mismatched. Upgrade  either the client or server to ensure API compatibility ⚠️⚠️\n",
      "  warnings.warn(\n",
      "🐌!! If running inside a notebook, patching the event loop with nest_asyncio will allow asynchronous eval submission, and is significantly faster. To patch the event loop, run `nest_asyncio.apply()`.\n"
     ]
    },
    {
     "name": "stdout",
     "output_type": "stream",
     "text": [
      "🧪 Experiment started.\n",
      "📺 View dataset experiments: http://192.168.1.122:6006/datasets/RGF0YXNldDo3/experiments\n",
      "🔗 View this experiment: http://192.168.1.122:6006/datasets/RGF0YXNldDo3/compare?experimentId=RXhwZXJpbWVudDo0Mg==\n"
     ]
    },
    {
     "data": {
      "application/vnd.jupyter.widget-view+json": {
       "model_id": "c428df3248264580b4b59b3ecf00885f",
       "version_major": 2,
       "version_minor": 0
      },
      "text/plain": [
       "running tasks |          | 0/10 (0.0%) | ⏳ 00:00<? | ?it/s"
      ]
     },
     "metadata": {},
     "output_type": "display_data"
    },
    {
     "name": "stderr",
     "output_type": "stream",
     "text": [
      "/opt/conda/lib/python3.10/site-packages/phoenix/utilities/client.py:51: UserWarning: ⚠️⚠️ The Phoenix server (8.12.0) and client (9.5.0) versions are severely mismatched. Upgrade  either the client or server to ensure API compatibility ⚠️⚠️\n",
      "  warnings.warn(\n",
      "🐌!! If running inside a notebook, patching the event loop with nest_asyncio will allow asynchronous eval submission, and is significantly faster. To patch the event loop, run `nest_asyncio.apply()`.\n"
     ]
    },
    {
     "name": "stdout",
     "output_type": "stream",
     "text": [
      "✅ Task runs completed.\n",
      "🧠 Evaluation started.\n"
     ]
    },
    {
     "data": {
      "application/vnd.jupyter.widget-view+json": {
       "model_id": "1dc4dec557db4fe78285abcb51ad1488",
       "version_major": 2,
       "version_minor": 0
      },
      "text/plain": [
       "running experiment evaluations |          | 0/10 (0.0%) | ⏳ 00:00<? | ?it/s"
      ]
     },
     "metadata": {},
     "output_type": "display_data"
    },
    {
     "name": "stdout",
     "output_type": "stream",
     "text": [
      "艾菲爾鐵塔位於哪裡？ \n",
      "艾菲爾鐵塔位於法國巴黎。 \n",
      "艾菲爾鐵塔位於法國巴黎。它建於 1889 年，作為 1889 年世界博覽會的入口拱門。 \n",
      "事實\n",
      "中國的長城有多長？ \n",
      "中國的長城長約 13,171 英里（21,196 公里）。 \n",
      "中國的長城長達 13,000 多英里。它是中國各個朝代歷經多個世紀而建造的，旨在抵禦遊牧民族的入侵。 \n"
     ]
    },
    {
     "name": "stderr",
     "output_type": "stream",
     "text": [
      "/opt/conda/lib/python3.10/site-packages/phoenix/utilities/client.py:51: UserWarning: ⚠️⚠️ The Phoenix server (8.12.0) and client (9.5.0) versions are severely mismatched. Upgrade  either the client or server to ensure API compatibility ⚠️⚠️\n",
      "  warnings.warn(\n"
     ]
    },
    {
     "name": "stdout",
     "output_type": "stream",
     "text": [
      "事實\n",
      "最大的熱帶雨林是什麼？ \n",
      "亞馬遜雨林是世界上最大的熱帶雨林。它是世界上動植物種類最多的家園。 \n",
      "亞馬遜雨林是世界上最大的熱帶雨林。它覆蓋了巴西西北部的大部分地區，並延伸到哥倫比亞、秘魯和其他南美國家。 \n",
      "事實\n",
      "地球上最高的山是哪一座？ \n",
      "珠穆朗瑪峰海拔 29,029 英尺（8,848 公尺），是地球上最高的山峰。 \n",
      "珠穆朗瑪峰是地球上最高的山峰。它位於喜馬拉雅山馬哈蘭古爾喜馬拉雅山脈，橫跨尼泊爾和西藏邊界。 \n",
      "事實\n",
      "世界上最長的河流是什麼？ \n",
      "尼羅河全長 6,650 公里（4,132 英里），是世界上最長的河流。 \n",
      "尼羅河是世界上最長的河流。它向北流經非洲東北部，從布隆迪最遠的源頭流入地中海，全長約 6,650 公里（4,132 英里）。 \n",
      "事實\n",
      "蒙娜麗莎是誰畫的？ \n",
      "《蒙娜麗莎》是義大利文藝復興時期藝術家李奧納多·達文西的作品。 \n",
      "《蒙娜麗莎》是李奧納多達文西畫的。它被認為是義大利文藝復興時期的典型傑作，並被描述為「世界上最著名、訪問量最大、被書寫最多、被傳頌最多、被模仿最多的藝術作品」。 \n",
      "事實\n",
      "人體有幾塊骨頭？ \n",
      "成年人的身體通常有 256 塊骨頭。 \n",
      "人體有206塊骨頭。這些骨骼提供結構、保護器官、固定肌肉並儲存鈣。 \n",
      "幻覺\n",
      "太陽系中最大的行星是哪一顆？ \n",
      "木星是我們太陽系中最大的行星。 \n",
      "木星是我們太陽系中最大的行星。它是一顆氣態巨行星，質量是太陽系中所有其他行星質量總和的兩倍半以上。 \n",
      "事實\n",
      "《羅密歐與茱麗葉》是誰寫的？ \n",
      "戲劇《羅密歐與茱麗葉》是威廉·莎士比亞創作的。 \n",
      "威廉·莎士比亞寫了《羅密歐與茱麗葉》。這是一場關於兩個不幸的年輕戀人的悲劇，他們的死亡最終使他們不和的家庭和解。 \n",
      "事實\n",
      "第一次登月是什麼時候發生的？ \n",
      "第一次登月發生在 1969 年 7 月 20 日。 \n",
      "第一次登月發生在 1969 年。 1969 年 7 月 20 日，美國太空人尼爾阿姆斯壯和埃德溫「巴茲」奧爾德林作為阿波羅 11 號任務的一部分，成為第一批登陸月球的人類。 \n",
      "事實\n",
      "\n",
      "🔗 View this experiment: http://192.168.1.122:6006/datasets/RGF0YXNldDo3/compare?experimentId=RXhwZXJpbWVudDo0Mg==\n",
      "\n",
      "Experiment Summary (05/18/25 01:34 PM +0000)\n",
      "--------------------------------------------\n",
      "       evaluator   n  n_labels        top_2_labels\n",
      "0  metadata_test  10        10  {'事實': 9, '幻覺': 1}\n",
      "\n",
      "Tasks Summary (05/18/25 01:34 PM +0000)\n",
      "---------------------------------------\n",
      "   n_examples  n_runs  n_errors\n",
      "0          10      10         0\n"
     ]
    }
   ],
   "source": [
    "#輸出成資料表測試\n",
    "import pandas as pd\n",
    "\n",
    "export_records = []\n",
    "\n",
    "\n",
    "\n",
    "\n",
    "client = openai.OpenAI(\n",
    "    api_key=os.getenv(\"OPENAI_API_KEY\"),\n",
    "    base_url=os.getenv(\"OPENAI_API_BASE\")\n",
    ")\n",
    "\n",
    "def metadata_test(input, output, metadata) -> str:\n",
    "    input_message = input[\"input\"]\n",
    "    output_message = output[\"output\"][\"output\"]\n",
    "    reference_message = metadata[\"reference\"]\n",
    "    print(input_message)\n",
    "    print(output_message)\n",
    "    print(reference_message)\n",
    "    \n",
    "    MY_CUSTOM_TEMPLATE = f'''\n",
    "\n",
    "[BEGIN DATA]\n",
    "[Question]: {input_message}\n",
    "[Response]: {output_message}\n",
    "[Reference]: {reference_message}\n",
    "[END DATA]\n",
    "\n",
    "請根據[Reference]的內容，判斷[Response]對於[Question]的回答中，是否有與事實不符的地方。\n",
    "如果有，則回答 \"幻覺\"；沒有幻覺的話，則回答 \"事實\"。\n",
    "\n",
    "不要其他說明，必須回答單詞即可。\n",
    "'''\n",
    "    \n",
    "    res = client.chat.completions.create(\n",
    "        model=\"o1\",\n",
    "        temperature=0,\n",
    "        messages=[\n",
    "            {\"role\": \"user\", \"content\": MY_CUSTOM_TEMPLATE},\n",
    "        ]\n",
    "    )\n",
    "    \n",
    "    content = res.choices[0].message.content\n",
    "    print(content)\n",
    "    content = content.strip().lower() \n",
    "    \n",
    "    # 收集結果\n",
    "    export_records.append({\n",
    "        \"input\": input_message,\n",
    "        \"output\": output_message,\n",
    "        \"reference\": reference_message,\n",
    "        \"判斷結果\": content\n",
    "    })\n",
    "    \n",
    "    \n",
    "    return content\n",
    "    # return \"yes\" if res.choices[0].message.content == \"yes\" else \"no\" \n",
    "    \n",
    "    \n",
    "# Store the evaluators for later use\n",
    "evaluators = [metadata_test]\n",
    "\n",
    "# Run an experiment\n",
    "from phoenix.experiments import run_experiment\n",
    "\n",
    "experiment = run_experiment(dataset, my_task, evaluators=evaluators)\n",
    "\n",
    "# 儲存成 .ods 檔案\n",
    "df = pd.DataFrame(export_records)\n",
    "df.to_excel(\"hallucination_results.ods\", engine=\"odf\", index=False)\n"
   ]
  },
  {
   "cell_type": "code",
   "execution_count": 15,
   "id": "c67cbbd5-f070-4b6a-b626-4513d5555484",
   "metadata": {},
   "outputs": [
    {
     "name": "stderr",
     "output_type": "stream",
     "text": [
      "/opt/conda/lib/python3.10/site-packages/phoenix/utilities/client.py:51: UserWarning: ⚠️⚠️ The Phoenix server (8.12.0) and client (9.5.0) versions are severely mismatched. Upgrade  either the client or server to ensure API compatibility ⚠️⚠️\n",
      "  warnings.warn(\n",
      "🐌!! If running inside a notebook, patching the event loop with nest_asyncio will allow asynchronous eval submission, and is significantly faster. To patch the event loop, run `nest_asyncio.apply()`.\n"
     ]
    },
    {
     "name": "stdout",
     "output_type": "stream",
     "text": [
      "🧪 Experiment started.\n",
      "📺 View dataset experiments: http://192.168.1.122:6006/datasets/RGF0YXNldDo3/experiments\n",
      "🔗 View this experiment: http://192.168.1.122:6006/datasets/RGF0YXNldDo3/compare?experimentId=RXhwZXJpbWVudDo0Mw==\n"
     ]
    },
    {
     "data": {
      "application/vnd.jupyter.widget-view+json": {
       "model_id": "b6d2819cc1e64fc5acb03f29a24ab208",
       "version_major": 2,
       "version_minor": 0
      },
      "text/plain": [
       "running tasks |          | 0/10 (0.0%) | ⏳ 00:00<? | ?it/s"
      ]
     },
     "metadata": {},
     "output_type": "display_data"
    },
    {
     "name": "stderr",
     "output_type": "stream",
     "text": [
      "/opt/conda/lib/python3.10/site-packages/phoenix/utilities/client.py:51: UserWarning: ⚠️⚠️ The Phoenix server (8.12.0) and client (9.5.0) versions are severely mismatched. Upgrade  either the client or server to ensure API compatibility ⚠️⚠️\n",
      "  warnings.warn(\n",
      "🐌!! If running inside a notebook, patching the event loop with nest_asyncio will allow asynchronous eval submission, and is significantly faster. To patch the event loop, run `nest_asyncio.apply()`.\n"
     ]
    },
    {
     "name": "stdout",
     "output_type": "stream",
     "text": [
      "✅ Task runs completed.\n",
      "🧠 Evaluation started.\n"
     ]
    },
    {
     "data": {
      "application/vnd.jupyter.widget-view+json": {
       "model_id": "f8165cee31484a79946d7d2dbe9aa735",
       "version_major": 2,
       "version_minor": 0
      },
      "text/plain": [
       "running experiment evaluations |          | 0/10 (0.0%) | ⏳ 00:00<? | ?it/s"
      ]
     },
     "metadata": {},
     "output_type": "display_data"
    },
    {
     "name": "stdout",
     "output_type": "stream",
     "text": [
      "艾菲爾鐵塔位於哪裡？ \n",
      "艾菲爾鐵塔位於法國巴黎。 \n",
      "艾菲爾鐵塔位於法國巴黎。它建於 1889 年，作為 1889 年世界博覽會的入口拱門。 \n",
      "事實。\n",
      "\n",
      "**解釋：**\n",
      "\n",
      "[Response] (艾菲爾鐵塔位於法國巴黎) 與 [Reference] (艾菲爾鐵塔位於法國巴黎) 中的資訊完全一致。 [Reference] 明確指出艾菲爾鐵塔位於法國巴黎，而 [Response] 正確地重複了這一資訊。 因此，[Response] 沒有與事實不符的地方，不存在幻覺。\n",
      "中國的長城有多長？ \n",
      "中國的長城長約 13,171 英里（21,196 公里）。 \n",
      "中國的長城長達 13,000 多英里。它是中國各個朝代歷經多個世紀而建造的，旨在抵禦遊牧民族的入侵。 \n"
     ]
    },
    {
     "name": "stderr",
     "output_type": "stream",
     "text": [
      "/opt/conda/lib/python3.10/site-packages/phoenix/utilities/client.py:51: UserWarning: ⚠️⚠️ The Phoenix server (8.12.0) and client (9.5.0) versions are severely mismatched. Upgrade  either the client or server to ensure API compatibility ⚠️⚠️\n",
      "  warnings.warn(\n"
     ]
    },
    {
     "name": "stdout",
     "output_type": "stream",
     "text": [
      "事實。\n",
      "\n",
      "**解釋：**\n",
      "\n",
      "[Reference] 指出長城長達 13,000 多英里。 [Response] 提供的長度是 13,171 英里（21,196 公里），這個數值在“13,000 多英里”的範圍內，因此沒有與事實不符之處。 雖然數值更精確，但並非幻覺，而是更詳細的資訊。\n",
      "最大的熱帶雨林是什麼？ \n",
      "亞馬遜雨林是世界上最大的熱帶雨林。它是世界上動植物種類最多的家園。 \n",
      "亞馬遜雨林是世界上最大的熱帶雨林。它覆蓋了巴西西北部的大部分地區，並延伸到哥倫比亞、秘魯和其他南美國家。 \n",
      "事實。\n",
      "\n",
      "**解釋:**\n",
      "\n",
      "[Response] 說亞馬遜雨林是世界上最大的熱帶雨林，並且是動植物種類最多的家園。 [Reference] 證實了亞馬遜雨林是世界上最大的熱帶雨林，並提供了其地理覆蓋範圍的細節。雖然 [Reference] 沒有直接提及動植物種類最多，但這是一個廣為人知的關於亞馬遜雨林的普遍認知，且與 [Reference] 的描述相符。 因此，[Response] 的回答與 [Reference] 提供的資訊一致，沒有任何與事實不符的地方。\n",
      "地球上最高的山是哪一座？ \n",
      "珠穆朗瑪峰海拔 29,029 英尺（8,848 公尺），是地球上最高的山峰。 \n",
      "珠穆朗瑪峰是地球上最高的山峰。它位於喜馬拉雅山馬哈蘭古爾喜馬拉雅山脈，橫跨尼泊爾和西藏邊界。 \n",
      "事實。\n",
      "\n",
      "**解釋：**\n",
      "\n",
      "[Reference] 明確指出珠穆朗瑪峰是地球上最高的山峰，並且給出了其海拔高度。 [Response] 也正確地回答了珠穆朗瑪峰是地球上最高的山峰，並給出了與 [Reference] 相同的海拔高度。 因此，[Response] 的回答與 [Reference] 中的事實完全一致，不存在幻覺。\n",
      "世界上最長的河流是什麼？ \n",
      "尼羅河全長 6,650 公里（4,132 英里），是世界上最長的河流。 \n",
      "尼羅河是世界上最長的河流。它向北流經非洲東北部，從布隆迪最遠的源頭流入地中海，全長約 6,650 公里（4,132 英里）。 \n",
      "事實\n",
      "\n",
      "**解釋:**\n",
      "\n",
      "[Response] 說尼羅河全長 6,650 公里（4,132 英里）是世界上最長的河流。 [Reference] 也明確指出尼羅河是世界上最長的河流，並且長度約為 6,650 公里（4,132 英里）。 因此，[Response] 的內容與 [Reference] 中的事實完全一致，沒有任何幻覺。\n",
      "蒙娜麗莎是誰畫的？ \n",
      "《蒙娜麗莎》是義大利文藝復興時期藝術家李奧納多·達文西的作品。 \n",
      "《蒙娜麗莎》是李奧納多達文西畫的。它被認為是義大利文藝復興時期的典型傑作，並被描述為「世界上最著名、訪問量最大、被書寫最多、被傳頌最多、被模仿最多的藝術作品」。 \n",
      "事實。\n",
      "\n",
      "**解釋：**\n",
      "\n",
      "[Reference] 明確指出《蒙娜麗莎》是李奧納多·達文西畫的。 [Response] 也正確地回答了《蒙娜麗莎》是李奧納多·達文西的作品。 因此，[Response] 的回答與 [Reference] 的內容相符，不存在幻覺。\n",
      "人體有幾塊骨頭？ \n",
      "成年人的身體通常有 256 塊骨頭。 \n",
      "人體有206塊骨頭。這些骨骼提供結構、保護器官、固定肌肉並儲存鈣。 \n",
      "幻覺\n",
      "\n",
      "**解釋:**\n",
      "\n",
      "[Reference] 明確指出人體有 206 塊骨頭，而 [Response] 卻回答成年人有 256 塊骨頭。 兩者數字不符，因此 [Response] 產生了幻覺，回答了錯誤的資訊。\n",
      "太陽系中最大的行星是哪一顆？ \n",
      "木星是我們太陽系中最大的行星。 \n",
      "木星是我們太陽系中最大的行星。它是一顆氣態巨行星，質量是太陽系中所有其他行星質量總和的兩倍半以上。 \n",
      "事實\n",
      "\n",
      "**解釋:**\n",
      "\n",
      "[Referece] 明確指出木星是太陽系中最大的行星，而 [Response] 的回答也正是「木星是我們太陽系中最大的行星」。 因此，[Response] 的回答與 [Referece] 的內容完全一致，沒有任何與事實不符的地方。\n",
      "《羅密歐與茱麗葉》是誰寫的？ \n",
      "戲劇《羅密歐與茱麗葉》是威廉·莎士比亞創作的。 \n",
      "威廉·莎士比亞寫了《羅密歐與茱麗葉》。這是一場關於兩個不幸的年輕戀人的悲劇，他們的死亡最終使他們不和的家庭和解。 \n",
      "事實。\n",
      "\n",
      "**解釋：**\n",
      "\n",
      "[Reference] 明確指出威廉·莎士比亞寫了《羅密歐與茱麗葉》。[Response] 也正確地回答了威廉·莎士比亞是《羅密歐與茱麗葉》的作者。 因此，[Response] 的回答與 [Reference] 中的事實相符，沒有幻覺。\n",
      "第一次登月是什麼時候發生的？ \n",
      "第一次登月發生在 1969 年 7 月 20 日。 \n",
      "第一次登月發生在 1969 年。 1969 年 7 月 20 日，美國太空人尼爾阿姆斯壯和埃德溫「巴茲」奧爾德林作為阿波羅 11 號任務的一部分，成為第一批登陸月球的人類。 \n",
      "事實。\n",
      "\n",
      "**解釋：**\n",
      "\n",
      "[Response] 回答 \"第一次登月發生在 1969 年 7 月 20 日。\" 與 [Reference] 中 \"1969 年 7 月 20 日，美國太空人尼爾阿姆斯壯和埃德溫「巴茲」奧爾德林...成為第一批登陸月球的人類\" 的信息完全一致。 因此，[Response] 並沒有與事實不符的地方，沒有產生幻覺。\n",
      "\n",
      "🔗 View this experiment: http://192.168.1.122:6006/datasets/RGF0YXNldDo3/compare?experimentId=RXhwZXJpbWVudDo0Mw==\n",
      "\n",
      "Experiment Summary (05/19/25 09:34 AM +0000)\n",
      "--------------------------------------------\n",
      "      evaluator   n  n_labels  \\\n",
      "0  explain_test  10        10   \n",
      "\n",
      "                                        top_2_labels  \n",
      "0  {'事實。\n",
      "\n",
      "**解釋：**\n",
      "\n",
      "[response] (艾菲爾鐵塔位於法國巴黎) 與 [re...  \n",
      "\n",
      "Tasks Summary (05/19/25 09:34 AM +0000)\n",
      "---------------------------------------\n",
      "   n_examples  n_runs  n_errors\n",
      "0          10      10         0\n"
     ]
    }
   ],
   "source": [
    "import pandas as pd\n",
    "\n",
    "export_records = []\n",
    "\n",
    "\n",
    "\n",
    "\n",
    "client = openai.OpenAI(\n",
    "    api_key=os.getenv(\"OPENAI_API_KEY\"),\n",
    "    base_url=os.getenv(\"OPENAI_API_BASE\")\n",
    ")\n",
    "\n",
    "def explain_test(input, output, metadata) -> str:\n",
    "    input_message = input[\"input\"]\n",
    "    output_message = output[\"output\"][\"output\"]\n",
    "    reference_message = metadata[\"reference\"]\n",
    "    print(input_message)\n",
    "    print(output_message)\n",
    "    print(reference_message)\n",
    "    \n",
    "    MY_CUSTOM_TEMPLATE = f'''\n",
    "\n",
    "[BEGIN DATA]\n",
    "[Question]: {input_message}\n",
    "[Response]: {output_message}\n",
    "[Reference]: {reference_message}\n",
    "[END DATA]\n",
    "\n",
    "請根據[Reference]的內容，判斷[Response]對於[Question]的回答中，是否有與事實不符的地方。\n",
    "如果有，則回答 \"幻覺\"；沒有幻覺的話，則回答 \"事實\"。\n",
    "\n",
    "並解釋為何判斷為事實或幻覺。\n",
    "'''\n",
    "    \n",
    "    res = client.chat.completions.create(\n",
    "        model=\"o1\",\n",
    "        temperature=0,\n",
    "        messages=[\n",
    "            {\"role\": \"user\", \"content\": MY_CUSTOM_TEMPLATE},\n",
    "        ]\n",
    "    )\n",
    "    \n",
    "    content = res.choices[0].message.content\n",
    "    print(content)\n",
    "    content = content.strip().lower() \n",
    "    \n",
    "    # 收集結果\n",
    "    export_records.append({\n",
    "        \"input\": input_message,\n",
    "        \"output\": output_message,\n",
    "        \"reference\": reference_message,\n",
    "        \"判斷結果\": content\n",
    "    })\n",
    "    \n",
    "    \n",
    "    return content\n",
    "    # return \"yes\" if res.choices[0].message.content == \"yes\" else \"no\" \n",
    "    \n",
    "    \n",
    "# Store the evaluators for later use\n",
    "evaluators = [explain_test]\n",
    "\n",
    "# Run an experiment\n",
    "from phoenix.experiments import run_experiment\n",
    "\n",
    "experiment = run_experiment(dataset, my_task, evaluators=evaluators)\n",
    "\n",
    "# 儲存成 .ods 檔案\n",
    "df = pd.DataFrame(export_records)\n",
    "df.to_excel(\"explain_results.ods\", engine=\"odf\", index=False)\n"
   ]
  },
  {
   "cell_type": "code",
   "execution_count": 12,
   "id": "ea3409dd-7f4b-4909-aafa-0f723edc2e89",
   "metadata": {},
   "outputs": [
    {
     "name": "stderr",
     "output_type": "stream",
     "text": [
      "/opt/conda/lib/python3.10/site-packages/phoenix/utilities/client.py:51: UserWarning: ⚠️⚠️ The Phoenix server (8.12.0) and client (9.5.0) versions are severely mismatched. Upgrade  either the client or server to ensure API compatibility ⚠️⚠️\n",
      "  warnings.warn(\n",
      "🐌!! If running inside a notebook, patching the event loop with nest_asyncio will allow asynchronous eval submission, and is significantly faster. To patch the event loop, run `nest_asyncio.apply()`.\n"
     ]
    },
    {
     "name": "stdout",
     "output_type": "stream",
     "text": [
      "🧪 Experiment started.\n",
      "📺 View dataset experiments: http://192.168.1.122:6006/datasets/RGF0YXNldDo3/experiments\n",
      "🔗 View this experiment: http://192.168.1.122:6006/datasets/RGF0YXNldDo3/compare?experimentId=RXhwZXJpbWVudDo0NA==\n"
     ]
    },
    {
     "data": {
      "application/vnd.jupyter.widget-view+json": {
       "model_id": "3a6541dad69a41f0b8ad2cbfcec30633",
       "version_major": 2,
       "version_minor": 0
      },
      "text/plain": [
       "running tasks |          | 0/10 (0.0%) | ⏳ 00:00<? | ?it/s"
      ]
     },
     "metadata": {},
     "output_type": "display_data"
    },
    {
     "name": "stderr",
     "output_type": "stream",
     "text": [
      "/opt/conda/lib/python3.10/site-packages/phoenix/utilities/client.py:51: UserWarning: ⚠️⚠️ The Phoenix server (8.12.0) and client (9.5.0) versions are severely mismatched. Upgrade  either the client or server to ensure API compatibility ⚠️⚠️\n",
      "  warnings.warn(\n",
      "🐌!! If running inside a notebook, patching the event loop with nest_asyncio will allow asynchronous eval submission, and is significantly faster. To patch the event loop, run `nest_asyncio.apply()`.\n"
     ]
    },
    {
     "name": "stdout",
     "output_type": "stream",
     "text": [
      "✅ Task runs completed.\n",
      "🧠 Evaluation started.\n"
     ]
    },
    {
     "data": {
      "application/vnd.jupyter.widget-view+json": {
       "model_id": "57ff55b08cc24735acae1f99027cadd8",
       "version_major": 2,
       "version_minor": 0
      },
      "text/plain": [
       "running experiment evaluations |          | 0/10 (0.0%) | ⏳ 00:00<? | ?it/s"
      ]
     },
     "metadata": {},
     "output_type": "display_data"
    },
    {
     "name": "stdout",
     "output_type": "stream",
     "text": [
      "艾菲爾鐵塔位於哪裡？ \n",
      "艾菲爾鐵塔位於法國巴黎。 \n",
      "艾菲爾鐵塔位於法國巴黎。它建於 1889 年，作為 1889 年世界博覽會的入口拱門。 \n",
      "事實\n",
      "\n",
      "* **[Response]** 聲稱艾菲爾鐵塔位於法國巴黎。\n",
      "* **[Reference]** 也明確指出艾菲爾鐵塔位於法國巴黎。\n",
      "\n",
      "因此，[Response] 的回答與 [Reference] 的內容一致，沒有任何與事實不符的地方。\n",
      "中國的長城有多長？ \n",
      "中國的長城長約 13,171 英里（21,196 公里）。 \n",
      "中國的長城長達 13,000 多英里。它是中國各個朝代歷經多個世紀而建造的，旨在抵禦遊牧民族的入侵。 \n"
     ]
    },
    {
     "name": "stderr",
     "output_type": "stream",
     "text": [
      "/opt/conda/lib/python3.10/site-packages/phoenix/utilities/client.py:51: UserWarning: ⚠️⚠️ The Phoenix server (8.12.0) and client (9.5.0) versions are severely mismatched. Upgrade  either the client or server to ensure API compatibility ⚠️⚠️\n",
      "  warnings.warn(\n"
     ]
    },
    {
     "name": "stdout",
     "output_type": "stream",
     "text": [
      "事實\n",
      "\n",
      "* **Reference** 指出長城長度超過 13,000 英里。\n",
      "* **Response** 提供的長度為 13,171 英里（21,196 公里），符合 **Reference** 中“13,000 多英里”的描述，並且提供了更精確的數字。\n",
      "* 因此，**Response** 的回答與 **Reference** 的內容一致，沒有與事實不符的地方。\n",
      "最大的熱帶雨林是什麼？ \n",
      "亞馬遜雨林是世界上最大的熱帶雨林。它是世界上動植物種類最多的家園。 \n",
      "亞馬遜雨林是世界上最大的熱帶雨林。它覆蓋了巴西西北部的大部分地區，並延伸到哥倫比亞、秘魯和其他南美國家。 \n",
      "事實\n",
      "\n",
      "* **[Response] 聲稱亞馬遜雨林是世界上最大的熱帶雨林。** [Reference] 也明確指出「亞馬遜雨林是世界上最大的熱帶雨林」。\n",
      "* **[Response] 提及亞馬遜雨林是動植物種類最多的家園。** 雖然 [Reference] 沒有直接說明「種類最多」，但提到亞馬遜雨林覆蓋了巴西及其他南美國家的大部分地區，暗示其生態系統的豐富度，因此可以視為符合事實。\n",
      "* **[Response] 的回答整體上與 [Reference] 的內容一致，沒有任何與事實不符之處。**\n",
      "地球上最高的山是哪一座？ \n",
      "珠穆朗瑪峰海拔 29,029 英尺（8,848 公尺），是地球上最高的山峰。 \n",
      "珠穆朗瑪峰是地球上最高的山峰。它位於喜馬拉雅山馬哈蘭古爾喜馬拉雅山脈，橫跨尼泊爾和西藏邊界。 \n",
      "事實\n",
      "\n",
      "* **Reference** 明確指出珠穆朗瑪峰是地球上最高的山峰。\n",
      "* **Response** 的回答與 **Reference** 的陳述一致，指出珠穆朗瑪峰是地球上最高的山峰，並提供了高度信息（29,029 英尺/8,848 公尺）。\n",
      "* 回答中提供的珠穆朗瑪峰高度與普遍認知相符。\n",
      "* 回答中提及珠穆朗瑪峰位於喜馬拉雅山脈，與 **Reference** 的描述相符。\n",
      "\n",
      "因此，**Response** 的回答沒有與 **Reference** 的內容相悖，是基於事實的。\n",
      "世界上最長的河流是什麼？ \n",
      "尼羅河全長 6,650 公里（4,132 英里），是世界上最長的河流。 \n",
      "尼羅河是世界上最長的河流。它向北流經非洲東北部，從布隆迪最遠的源頭流入地中海，全長約 6,650 公里（4,132 英里）。 \n",
      "事實\n",
      "\n",
      "* **河流名稱正確：** [Response] 提到尼羅河，與 [Reference] 中指出的世界上最長的河流一致。\n",
      "* **長度一致：** [Response] 提供的尼羅河長度 6,650 公里（4,132 英里）與 [Reference] 中提供的長度約 6,650 公里（4,132 英里）相符。\n",
      "* **信息來源一致：** [Response] 提供的資訊直接來自 [Reference] 中關於尼羅河的描述。\n",
      "\n",
      "因此，[Response] 準確地回答了 [Question]，並且沒有與 [Reference] 中的事實不符之處。\n",
      "蒙娜麗莎是誰畫的？ \n",
      "《蒙娜麗莎》是義大利文藝復興時期藝術家李奧納多·達文西的作品。 \n",
      "《蒙娜麗莎》是李奧納多達文西畫的。它被認為是義大利文藝復興時期的典型傑作，並被描述為「世界上最著名、訪問量最大、被書寫最多、被傳頌最多、被模仿最多的藝術作品」。 \n",
      "事實\n",
      "\n",
      "* **[Response] 說：「《蒙娜麗莎》是義大利文藝復興時期藝術家李奧納多·達文西的作品。」**\n",
      "* **[Reference] 說：「《蒙娜麗莎》是李奧納多達文西畫的。」**\n",
      "\n",
      "[Response] 的說法與 [Reference] 的內容完全一致，因此沒有幻覺。\n",
      "人體有幾塊骨頭？ \n",
      "成年人的身體通常有 256 塊骨頭。 \n",
      "人體有206塊骨頭。這些骨骼提供結構、保護器官、固定肌肉並儲存鈣。 \n",
      "幻覺\n",
      "\n",
      "理由：\n",
      "\n",
      "*   **參考資料明確指出人體有 206 塊骨頭。**\n",
      "*   **回應給出的答案是 256 塊骨頭，與參考資料中的 206 塊骨頭不符。** 因此，回應存在與事實不符的資訊，構成幻覺。\n",
      "太陽系中最大的行星是哪一顆？ \n",
      "木星是我們太陽系中最大的行星。 \n",
      "木星是我們太陽系中最大的行星。它是一顆氣態巨行星，質量是太陽系中所有其他行星質量總和的兩倍半以上。 \n",
      "事實\n",
      "\n",
      "* **Reference 明確指出木星是太陽系中最大的行星。**\n",
      "* **Response 的回答與 Reference 的內容完全一致。** 因此，Response 沒有任何與事實不符的地方。\n",
      "《羅密歐與茱麗葉》是誰寫的？ \n",
      "戲劇《羅密歐與茱麗葉》是威廉·莎士比亞創作的。 \n",
      "威廉·莎士比亞寫了《羅密歐與茱麗葉》。這是一場關於兩個不幸的年輕戀人的悲劇，他們的死亡最終使他們不和的家庭和解。 \n",
      "事實\n",
      "\n",
      "* **[Reference] 明確指出威廉·莎士比亞寫了《羅密歐與茱麗葉》。**\n",
      "* **[Response] 也正確地指出威廉·莎士比亞創作了《羅密歐與茱麗葉》。**\n",
      "\n",
      "因此，[Response] 的回答與 [Reference] 中的事實相符，不存在幻覺。\n",
      "第一次登月是什麼時候發生的？ \n",
      "第一次登月發生在 1969 年 7 月 20 日。 \n",
      "第一次登月發生在 1969 年。 1969 年 7 月 20 日，美國太空人尼爾阿姆斯壯和埃德溫「巴茲」奧爾德林作為阿波羅 11 號任務的一部分，成為第一批登陸月球的人類。 \n",
      "事實\n",
      "\n",
      "* **[Response]** 說「第一次登月發生在 1969 年 7 月 20 日」，而 **[Reference]** 也明確指出「1969 年 7 月 20 日，美國太空人尼爾阿姆斯壯和埃德溫「巴茲」奧爾德林成為第一批登陸月球的人類。」\n",
      "* **[Reference]** 提供了支持 **[Response]** 準確性的證據，確認了登月日期。\n",
      "* 因此，**[Response]** 的回答與 **[Reference]** 的內容完全一致，沒有任何與事實不符的地方。\n",
      "\n",
      "🔗 View this experiment: http://192.168.1.122:6006/datasets/RGF0YXNldDo3/compare?experimentId=RXhwZXJpbWVudDo0NA==\n",
      "\n",
      "Experiment Summary (05/20/25 04:08 AM +0000)\n",
      "--------------------------------------------\n",
      "    evaluator   n  n_labels                                       top_2_labels\n",
      "0  explain_V2  10        10  {'事實\n",
      "\n",
      "* **[response]** 聲稱艾菲爾鐵塔位於法國巴黎。\n",
      "* **[ref...\n",
      "\n",
      "Tasks Summary (05/20/25 04:07 AM +0000)\n",
      "---------------------------------------\n",
      "   n_examples  n_runs  n_errors\n",
      "0          10      10         0\n"
     ]
    }
   ],
   "source": [
    "import pandas as pd\n",
    "\n",
    "export_records = []\n",
    "\n",
    "\n",
    "\n",
    "\n",
    "client = openai.OpenAI(\n",
    "    api_key=os.getenv(\"OPENAI_API_KEY\"),\n",
    "    base_url=os.getenv(\"OPENAI_API_BASE\")\n",
    ")\n",
    "\n",
    "def explain_V2(input, output, metadata) -> str:\n",
    "    input_message = input[\"input\"]\n",
    "    output_message = output[\"output\"][\"output\"]\n",
    "    reference_message = metadata[\"reference\"]\n",
    "    print(input_message)\n",
    "    print(output_message)\n",
    "    print(reference_message)\n",
    "    \n",
    "    MY_CUSTOM_TEMPLATE = f'''\n",
    "\n",
    "[BEGIN DATA]\n",
    "[Question]: {input_message}\n",
    "[Response]: {output_message}\n",
    "[Reference]: {reference_message}\n",
    "[END DATA]\n",
    "\n",
    "# 角色\n",
    "\n",
    "你是一個判斷事實真偽的專家，請根據[Reference]的內容，判斷[Response]對於[Question]的回答中，是否有與事實不符的地方。\n",
    "\n",
    "# 輸出\n",
    "\n",
    "如果有，則回答 \"幻覺\"；沒有幻覺的話，則回答 \"事實\"，並以條列式解釋為何你判斷為\"事實\"或\"幻覺\"。\n",
    "'''\n",
    "    \n",
    "    res = client.chat.completions.create(\n",
    "        model=\"o1\",\n",
    "        temperature=0,\n",
    "        messages=[\n",
    "            {\"role\": \"user\", \"content\": MY_CUSTOM_TEMPLATE},\n",
    "        ]\n",
    "    )\n",
    "    \n",
    "    content = res.choices[0].message.content\n",
    "    print(content)\n",
    "    content = content.strip().lower() \n",
    "    \n",
    "    # 收集結果\n",
    "    export_records.append({\n",
    "        \"input\": input_message,\n",
    "        \"output\": output_message,\n",
    "        \"reference\": reference_message,\n",
    "        \"判斷結果\": content\n",
    "    })\n",
    "    \n",
    "    \n",
    "    return content\n",
    "    # return \"yes\" if res.choices[0].message.content == \"yes\" else \"no\" \n",
    "    \n",
    "    \n",
    "# Store the evaluators for later use\n",
    "evaluators = [explain_V2]\n",
    "\n",
    "# Run an experiment\n",
    "from phoenix.experiments import run_experiment\n",
    "\n",
    "experiment = run_experiment(dataset, my_task, evaluators=evaluators)\n",
    "\n",
    "# 儲存成 .ods 檔案\n",
    "df = pd.DataFrame(export_records)\n",
    "df.to_excel(\"explain_results.ods\", engine=\"odf\", index=False)\n"
   ]
  },
  {
   "cell_type": "code",
   "execution_count": null,
   "id": "2b72426e-cfbe-4346-8f6d-faff978b5da4",
   "metadata": {},
   "outputs": [],
   "source": []
  },
  {
   "cell_type": "code",
   "execution_count": null,
   "id": "36f41a99-e76a-45f5-99ab-3c7663e6b17c",
   "metadata": {},
   "outputs": [],
   "source": []
  },
  {
   "cell_type": "code",
   "execution_count": null,
   "id": "2dc620c2-1ea7-47b9-a5dd-2951f7544ed4",
   "metadata": {},
   "outputs": [],
   "source": []
  },
  {
   "cell_type": "code",
   "execution_count": null,
   "id": "6faa9728-a475-4286-8928-bf2d04abc538",
   "metadata": {},
   "outputs": [],
   "source": []
  },
  {
   "cell_type": "code",
   "execution_count": null,
   "id": "769d4578-ca44-4ae6-82f6-d7a3ff28321d",
   "metadata": {},
   "outputs": [],
   "source": []
  }
 ],
 "metadata": {
  "kernelspec": {
   "display_name": "Python 3 (ipykernel)",
   "language": "python",
   "name": "python3"
  },
  "language_info": {
   "codemirror_mode": {
    "name": "ipython",
    "version": 3
   },
   "file_extension": ".py",
   "mimetype": "text/x-python",
   "name": "python",
   "nbconvert_exporter": "python",
   "pygments_lexer": "ipython3",
   "version": "3.10.6"
  }
 },
 "nbformat": 4,
 "nbformat_minor": 5
}
