{
 "cells": [
  {
   "cell_type": "code",
   "execution_count": 1,
   "id": "9d451cb9-6120-4b08-b45f-fa2f89f1ce49",
   "metadata": {},
   "outputs": [],
   "source": [
    "import os\n",
    "import phoenix\n",
    "import phoenix as px\n",
    "import pandas as pd\n",
    "import openai\n",
    "import re\n",
    "import nest_asyncio\n",
    "nest_asyncio.apply()"
   ]
  },
  {
   "cell_type": "code",
   "execution_count": 2,
   "id": "a33f4d3a-4bc9-4e0d-a48b-2f84dcad569c",
   "metadata": {},
   "outputs": [
    {
     "name": "stderr",
     "output_type": "stream",
     "text": [
      "/opt/conda/lib/python3.10/site-packages/phoenix/utilities/client.py:60: UserWarning: The Phoenix server (10.11.0) and client (10.12.0) versions are mismatched and may have compatibility issues.\n",
      "  warnings.warn(\n"
     ]
    }
   ],
   "source": [
    "# 將 PHOENIX_COLLECTOR_ENDPOINT 指向本機實際 IP\n",
    "#os.environ[\"PHOENIX_COLLECTOR_ENDPOINT\"] = \"http://10.234.14.175:6006\" #學校\n",
    "os.environ[\"PHOENIX_COLLECTOR_ENDPOINT\"] = \"http://phoenix:6006\" #家\n",
    "client = px.Client()\n",
    "dataset = client.get_dataset(\n",
    "    name=\"only3-dataset\"\n",
    "    # ,version_id=\"RGF0YXNldFZlcnNpb246MTE=\"\n",
    ")"
   ]
  },
  {
   "cell_type": "code",
   "execution_count": 3,
   "id": "34d8c363-d021-4144-8679-2c313d05db7e",
   "metadata": {},
   "outputs": [],
   "source": [
    "from google import genai\n",
    "\n",
    "gemini_client = genai.Client(api_key=os.getenv(\"GEMINI_API_KEY\"))\n",
    "gemini_model = \"gemini-2.0-flash\"\n",
    "\n",
    "\n",
    "def ask_gemini(contents):\n",
    "    response = gemini_client.models.generate_content(\n",
    "        model=gemini_model, contents=contents\n",
    "    )\n",
    "    return response.text    "
   ]
  },
  {
   "cell_type": "code",
   "execution_count": 9,
   "id": "3859ae28-079c-4122-9d1d-2b02ed591d42",
   "metadata": {},
   "outputs": [],
   "source": [
    "def extract_brace_content_with_braces(s):\n",
    "    start = s.find('{')\n",
    "    end = s.rfind('}')\n",
    "    if start != -1 and end != -1 and start < end:\n",
    "        return s[start:end + 1]\n",
    "    return None"
   ]
  },
  {
   "cell_type": "code",
   "execution_count": 10,
   "id": "aa7edf29-74cc-4b5e-a61d-00ad2832770b",
   "metadata": {},
   "outputs": [],
   "source": [
    "export_records = [] #把資料存到資料表中\n",
    "\n",
    "async def explain(example, prompt_template: str, model: str) -> str:\n",
    "#     now = datetime.now()\n",
    "#     time_str = now.strftime(\"%Y-%m-%d %H:%M:%S\")\n",
    "# #     global task_result\n",
    "# #     task_result = time_str\n",
    "    \n",
    "#     time.sleep(2)\n",
    "    \n",
    "#     return \"[TASK] \" + time_str\n",
    "\n",
    "    formatted_prompt_template = prompt_template.format(input_message=example.input[\"question\"],output_message=example.output[\"respond\"],reference_message=example.metadata[\"reference\"])\n",
    "    \n",
    "    formatted_prompt_template = formatted_prompt_template + \"\"\"\n",
    "\n",
    "# Example\n",
    "```json\n",
    "{\n",
    "  \"result\": \"事實\",\n",
    "  \"explaination\": \"水在標準大氣壓下的沸點是攝氏100度。\"\n",
    "}\n",
    "```\n",
    "\n",
    "```json\n",
    "{\n",
    "  \"result\": \"幻覺\",\n",
    "  \"explaination\": \"回答內容描述水的沸點是華氏100度，但應該是攝氏100度。\"\n",
    "}\n",
    "```\n",
    "\n",
    "\"\"\"\n",
    "    \n",
    "    content = ask_gemini(formatted_prompt_template)\n",
    "    \n",
    "    return extract_brace_content_with_braces(content)"
   ]
  },
  {
   "cell_type": "code",
   "execution_count": 11,
   "id": "a5819caa-3b93-4478-b41a-6fe0ca7aadcf",
   "metadata": {},
   "outputs": [
    {
     "name": "stdout",
     "output_type": "stream",
     "text": [
      "{   \"result\": \"事實\",   \"explaination\": \"艾菲爾鐵塔確實位於法國巴黎。\" }\n"
     ]
    }
   ],
   "source": [
    "import textwrap\n",
    "from functools import partial\n",
    "\n",
    "# template = \"\"\"\n",
    "# 你是一個判斷事實真偽的專家，請根據{reference_message}的內容，判斷{output_message}對於{input_message}的回答中，是否有與事實不符的地方。\n",
    "\n",
    "# 以條列解釋你如何判斷為\"事實\"或\"幻覺\"\n",
    "# \"\"\"\n",
    "\n",
    "template_json = \"\"\"\n",
    "# Role\n",
    "你是一個判斷事實真偽的專家。\n",
    "\n",
    "# Task\n",
    "請根據{reference_message}的內容，判斷{output_message}對於{input_message}的回答中，是否有與事實不符的地方。\n",
    "\n",
    "# Output\n",
    "以JSON的型式，輸出以下資訊:\n",
    "- result: \"事實\"或\"幻覺\"\n",
    "- explaination: 你的解釋，以條列型式呈現，結合成一個字串。\n",
    "\"\"\"\n",
    "\n",
    "task = partial(explain, prompt_template=template_json, model=\"o1\")\n",
    "# print(dataset.examples)\n",
    "test_example = dataset[0]\n",
    "print(textwrap.fill(await task(test_example), width=100))"
   ]
  },
  {
   "cell_type": "code",
   "execution_count": 12,
   "id": "8bf3c536-8a51-4989-a7e1-42b89b958a21",
   "metadata": {},
   "outputs": [],
   "source": [
    "from datetime import datetime\n",
    "\n",
    "import json\n",
    "\n",
    "def judge(metadata, output, input, reference, expected) -> str:\n",
    "    try:\n",
    "        # 嘗試解析 JSON 格式\n",
    "        data = json.loads(output)\n",
    "    except json.JSONDecodeError:\n",
    "        # 若是單引號或非標準格式，轉換成可解析格式\n",
    "        input_str = input_str.replace(\"'\", '\"')\n",
    "        try:\n",
    "            data = json.loads(input_str)\n",
    "        except json.JSONDecodeError:\n",
    "            return None  # 無法解析\n",
    "    return data.get(\"result\")\n",
    "\n",
    "    # metadata, output, input, reference, expected.\n",
    "    # now = datetime.now()\n",
    "    # time_str = now.strftime(\"%Y-%m-%d %H:%M:%S\")\n",
    "    # return time_str\n",
    "#     print({\n",
    "#         \"metadata\": metadata,\n",
    "#         \"output\": output,\n",
    "#         \"input\": input,\n",
    "#         \"reference\": reference,\n",
    "#         \"expected\": expected,\n",
    "#     })\n",
    "    \n",
    "#     return \"[JUDGE]\" + task_result\n",
    "    # return output\n",
    "\n",
    "    # =========================\n",
    "    \n",
    "#     input_message = input[\"question\"]\n",
    "#     output_message = expected[\"respond\"]\n",
    "#     reference_message = metadata[\"reference\"]\n",
    "#     # print(input_message)\n",
    "#     # print(output_message)\n",
    "#     # print(reference_message)\n",
    "    \n",
    "#     MY_CUSTOM_TEMPLATE = f'''\n",
    "\n",
    "# [BEGIN DATA]\n",
    "# [Question]: {input_message}\n",
    "# [Response]: {output_message}\n",
    "# [Reference]: {reference_message}\n",
    "# [END DATA]\n",
    "\n",
    "# # 角色\n",
    "# 你是一個判斷事實真偽的專家，請根據[Reference]的內容，判斷[Response]對於[Question]的回答中，是否有與事實不符的地方。\n",
    "\n",
    "# # 輸出格式\n",
    "# \"事實\"或\"幻覺\"  \n",
    "\n",
    "# '''\n",
    "    \n",
    "#     # print(\"==============================\")\n",
    "#     # print(MY_CUSTOM_TEMPLATE)\n",
    "    \n",
    "#     res = client.chat.completions.create(\n",
    "#         model=\"o1\",\n",
    "#         temperature=0,\n",
    "#         messages=[\n",
    "#             {\"role\": \"user\", \"content\": MY_CUSTOM_TEMPLATE},\n",
    "#         ]\n",
    "#     )\n",
    "#     content = res.choices[0].message.content\n",
    "#     content = content.strip().lower()\n",
    "#     return content\n",
    "\n",
    "EVALUATORS = [judge]"
   ]
  },
  {
   "cell_type": "code",
   "execution_count": 13,
   "id": "3186605f-5a61-456d-b201-4964ad021975",
   "metadata": {},
   "outputs": [
    {
     "name": "stdout",
     "output_type": "stream",
     "text": [
      "🧪 Experiment started.\n",
      "📺 View dataset experiments: http://phoenix:6006/datasets/RGF0YXNldDoy/experiments\n",
      "🔗 View this experiment: http://phoenix:6006/datasets/RGF0YXNldDoy/compare?experimentId=RXhwZXJpbWVudDoy\n"
     ]
    },
    {
     "data": {
      "application/vnd.jupyter.widget-view+json": {
       "model_id": "c59c291b76334c8f92a5ff758c382dcf",
       "version_major": 2,
       "version_minor": 0
      },
      "text/plain": [
       "running tasks |          | 0/3 (0.0%) | ⏳ 00:00<? | ?it/s"
      ]
     },
     "metadata": {},
     "output_type": "display_data"
    },
    {
     "name": "stdout",
     "output_type": "stream",
     "text": [
      "✅ Task runs completed.\n",
      "🧠 Evaluation started.\n"
     ]
    },
    {
     "data": {
      "application/vnd.jupyter.widget-view+json": {
       "model_id": "32ca2f31c1334b6e88196d63af2e2fbb",
       "version_major": 2,
       "version_minor": 0
      },
      "text/plain": [
       "running experiment evaluations |          | 0/3 (0.0%) | ⏳ 00:00<? | ?it/s"
      ]
     },
     "metadata": {},
     "output_type": "display_data"
    },
    {
     "name": "stderr",
     "output_type": "stream",
     "text": [
      "/opt/conda/lib/python3.10/site-packages/phoenix/utilities/client.py:60: UserWarning: The Phoenix server (10.11.0) and client (10.12.0) versions are mismatched and may have compatibility issues.\n",
      "  warnings.warn(\n"
     ]
    },
    {
     "name": "stdout",
     "output_type": "stream",
     "text": [
      "\n",
      "🔗 View this experiment: http://phoenix:6006/datasets/RGF0YXNldDoy/compare?experimentId=RXhwZXJpbWVudDoy\n",
      "\n",
      "Experiment Summary (06/16/25 09:30 PM +0000)\n",
      "--------------------------------------------\n",
      "  evaluator  n  n_labels        top_2_labels\n",
      "0     judge  3         3  {'事實': 2, '幻覺': 1}\n",
      "\n",
      "Tasks Summary (06/16/25 09:30 PM +0000)\n",
      "---------------------------------------\n",
      "   n_examples  n_runs  n_errors\n",
      "0           3       3         0\n"
     ]
    }
   ],
   "source": [
    "from phoenix.experiments import run_experiment\n",
    "experiment= run_experiment(\n",
    "    dataset,\n",
    "    task,\n",
    "    experiment_name=\"explanation\",\n",
    "    experiment_metadata={\"vendor\": \"openai\", \"model\": \"o1\"},\n",
    "    evaluators=EVALUATORS,\n",
    ")"
   ]
  },
  {
   "cell_type": "code",
   "execution_count": null,
   "id": "9428c551-2fa7-48bf-a43a-ed4f92608b21",
   "metadata": {},
   "outputs": [],
   "source": []
  }
 ],
 "metadata": {
  "kernelspec": {
   "display_name": "Python 3 (ipykernel)",
   "language": "python",
   "name": "python3"
  },
  "language_info": {
   "codemirror_mode": {
    "name": "ipython",
    "version": 3
   },
   "file_extension": ".py",
   "mimetype": "text/x-python",
   "name": "python",
   "nbconvert_exporter": "python",
   "pygments_lexer": "ipython3",
   "version": "3.10.6"
  }
 },
 "nbformat": 4,
 "nbformat_minor": 5
}
