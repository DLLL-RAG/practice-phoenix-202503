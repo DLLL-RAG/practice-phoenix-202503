{
 "cells": [
  {
   "cell_type": "code",
   "execution_count": 1,
   "id": "389fcae9-ef18-49b6-9709-d1b4cd995943",
   "metadata": {},
   "outputs": [
    {
     "name": "stderr",
     "output_type": "stream",
     "text": [
      "/opt/conda/lib/python3.10/site-packages/phoenix/utilities/client.py:60: UserWarning: The Phoenix server (8.12.0) and client (8.27.1) versions are mismatched and may have compatibility issues.\n",
      "  warnings.warn(\n"
     ]
    }
   ],
   "source": [
    "import os\n",
    "import phoenix as px\n",
    "\n",
    "# 將 PHOENIX_COLLECTOR_ENDPOINT 指向本機實際 IP\n",
    "os.environ[\"PHOENIX_COLLECTOR_ENDPOINT\"] = \"http://192.168.1.122:6006\"\n",
    "\n",
    "client = px.Client()\n",
    "dataset = client.get_dataset(\n",
    "    name=\"my-chinese-ods-dataset\",\n",
    "    version_id=\"RGF0YXNldFZlcnNpb246OQ==\"\n",
    ")"
   ]
  },
  {
   "cell_type": "code",
   "execution_count": 2,
   "id": "df7ed3d9-4178-43fc-9146-d1ce9205b090",
   "metadata": {},
   "outputs": [
    {
     "name": "stdout",
     "output_type": "stream",
     "text": [
      "8.27.1\n"
     ]
    }
   ],
   "source": [
    "import phoenix\n",
    "print(phoenix.__version__)"
   ]
  },
  {
   "cell_type": "code",
   "execution_count": 3,
   "id": "cb16d056-e708-42cc-b97c-72aa7ad20092",
   "metadata": {},
   "outputs": [
    {
     "name": "stdout",
     "output_type": "stream",
     "text": [
      "Dataset(id='RGF0YXNldDo3', version_id='RGF0YXNldFZlcnNpb246OQ==')\n"
     ]
    }
   ],
   "source": [
    "print(dataset)"
   ]
  },
  {
   "cell_type": "code",
   "execution_count": 4,
   "id": "7241a7df-9fb9-48de-964e-0fa04751585c",
   "metadata": {},
   "outputs": [
    {
     "name": "stdout",
     "output_type": "stream",
     "text": [
      "['__annotations__', '__class__', '__dataclass_fields__', '__dataclass_params__', '__delattr__', '__dict__', '__dir__', '__doc__', '__eq__', '__format__', '__ge__', '__getattribute__', '__getitem__', '__gt__', '__hash__', '__init__', '__init_subclass__', '__iter__', '__le__', '__len__', '__lt__', '__match_args__', '__module__', '__ne__', '__new__', '__post_init__', '__reduce__', '__reduce_ex__', '__repr__', '__setattr__', '__sizeof__', '__str__', '__subclasshook__', '__weakref__', '_keys', 'as_dataframe', 'examples', 'from_dict', 'id', 'version_id']\n"
     ]
    }
   ],
   "source": [
    "print(dir(dataset))"
   ]
  },
  {
   "cell_type": "code",
   "execution_count": 5,
   "id": "49d31ec3-6f6a-4ebd-b5f8-14604ea91050",
   "metadata": {},
   "outputs": [
    {
     "name": "stdout",
     "output_type": "stream",
     "text": [
      "                                                 input  \\\n",
      "example_id                                               \n",
      "RGF0YXNldEV4YW1wbGU6NTA=      {'input': '艾菲爾鐵塔位於哪裡？ '}   \n",
      "RGF0YXNldEV4YW1wbGU6NTE=       {'input': '中國的長城有多長？ '}   \n",
      "RGF0YXNldEV4YW1wbGU6NTI=     {'input': '最大的熱帶雨林是什麼？ '}   \n",
      "RGF0YXNldEV4YW1wbGU6NTM=    {'input': '地球上最高的山是哪一座？ '}   \n",
      "RGF0YXNldEV4YW1wbGU6NTQ=    {'input': '世界上最長的河流是什麼？ '}   \n",
      "RGF0YXNldEV4YW1wbGU6NTU=       {'input': '蒙娜麗莎是誰畫的？ '}   \n",
      "RGF0YXNldEV4YW1wbGU6NTY=        {'input': '人體有幾塊骨頭？ '}   \n",
      "RGF0YXNldEV4YW1wbGU6NTc=  {'input': '太陽系中最大的行星是哪一顆？ '}   \n",
      "RGF0YXNldEV4YW1wbGU6NTg=  {'input': '《羅密歐與茱麗葉》是誰寫的？ '}   \n",
      "RGF0YXNldEV4YW1wbGU6NTk=  {'input': '第一次登月是什麼時候發生的？ '}   \n",
      "\n",
      "                                                                     output  \\\n",
      "example_id                                                                    \n",
      "RGF0YXNldEV4YW1wbGU6NTA=                        {'output': '艾菲爾鐵塔位於法國巴黎。 '}   \n",
      "RGF0YXNldEV4YW1wbGU6NTE=       {'output': '中國的長城長約 13,171 英里（21,196 公里）。 '}   \n",
      "RGF0YXNldEV4YW1wbGU6NTI=   {'output': '亞馬遜雨林是世界上最大的熱帶雨林。它是世界上動植物種類最多的家園。 '}   \n",
      "RGF0YXNldEV4YW1wbGU6NTM=  {'output': '珠穆朗瑪峰海拔 29,029 英尺（8,848 公尺），是地球上最高...   \n",
      "RGF0YXNldEV4YW1wbGU6NTQ=  {'output': '尼羅河全長 6,650 公里（4,132 英里），是世界上最長的河流...   \n",
      "RGF0YXNldEV4YW1wbGU6NTU=     {'output': '《蒙娜麗莎》是義大利文藝復興時期藝術家李奧納多·達文西的作品。 '}   \n",
      "RGF0YXNldEV4YW1wbGU6NTY=                  {'output': '成年人的身體通常有 256 塊骨頭。 '}   \n",
      "RGF0YXNldEV4YW1wbGU6NTc=                     {'output': '木星是我們太陽系中最大的行星。 '}   \n",
      "RGF0YXNldEV4YW1wbGU6NTg=             {'output': '戲劇《羅密歐與茱麗葉》是威廉·莎士比亞創作的。 '}   \n",
      "RGF0YXNldEV4YW1wbGU6NTk=           {'output': '第一次登月發生在 1969 年 7 月 20 日。 '}   \n",
      "\n",
      "                                                                   metadata  \n",
      "example_id                                                                   \n",
      "RGF0YXNldEV4YW1wbGU6NTA=  {'reference': '艾菲爾鐵塔位於法國巴黎。它建於 1889 年，作為 1889 ...  \n",
      "RGF0YXNldEV4YW1wbGU6NTE=  {'reference': '中國的長城長達 13,000 多英里。它是中國各個朝代歷經多個...  \n",
      "RGF0YXNldEV4YW1wbGU6NTI=  {'reference': '亞馬遜雨林是世界上最大的熱帶雨林。它覆蓋了巴西西北部的大部分地...  \n",
      "RGF0YXNldEV4YW1wbGU6NTM=  {'reference': '珠穆朗瑪峰是地球上最高的山峰。它位於喜馬拉雅山馬哈蘭古爾喜馬拉...  \n",
      "RGF0YXNldEV4YW1wbGU6NTQ=  {'reference': '尼羅河是世界上最長的河流。它向北流經非洲東北部，從布隆迪最遠的...  \n",
      "RGF0YXNldEV4YW1wbGU6NTU=  {'reference': '《蒙娜麗莎》是李奧納多達文西畫的。它被認為是義大利文藝復興時期...  \n",
      "RGF0YXNldEV4YW1wbGU6NTY=  {'reference': '人體有206塊骨頭。這些骨骼提供結構、保護器官、固定肌肉並儲存...  \n",
      "RGF0YXNldEV4YW1wbGU6NTc=  {'reference': '木星是我們太陽系中最大的行星。它是一顆氣態巨行星，質量是太陽系...  \n",
      "RGF0YXNldEV4YW1wbGU6NTg=  {'reference': '威廉·莎士比亞寫了《羅密歐與茱麗葉》。這是一場關於兩個不幸的年...  \n",
      "RGF0YXNldEV4YW1wbGU6NTk=  {'reference': '第一次登月發生在 1969 年。 1969 年 7 月 20 ...  \n"
     ]
    }
   ],
   "source": [
    "print(dataset.as_dataframe())"
   ]
  },
  {
   "cell_type": "code",
   "execution_count": 6,
   "id": "03c979ad-59b0-4b6c-8422-12a21bfe5db7",
   "metadata": {},
   "outputs": [
    {
     "name": "stdout",
     "output_type": "stream",
     "text": [
      "Index(['input', 'output', 'metadata'], dtype='object')\n"
     ]
    }
   ],
   "source": [
    "df = dataset.as_dataframe()\n",
    "print(df.columns)"
   ]
  },
  {
   "cell_type": "code",
   "execution_count": 7,
   "id": "3e50329a-9afe-424d-a0d4-bd8dc40c6621",
   "metadata": {},
   "outputs": [],
   "source": [
    "df[\"input\"] = df[\"input\"].apply(lambda x: x['input'])\n",
    "df[\"output\"] = df[\"output\"].apply(lambda x: x['output'])\n"
   ]
  },
  {
   "cell_type": "code",
   "execution_count": 8,
   "id": "b27210db-151d-4675-8b92-5e59fe8858c8",
   "metadata": {},
   "outputs": [],
   "source": [
    "MY_CUSTOM_TEMPLATE = '''\n",
    "    You are evaluating whether the output mentions any person's name, such as common first names, full names, or references to individuals.\n",
    "    [BEGIN DATA]\n",
    "    ************\n",
    "    [Question]: {input}\n",
    "    ************\n",
    "    [Response]: {output}\n",
    "    [END DATA]\n",
    "\n",
    "\n",
    "    Please focus on the tone of the response.\n",
    "    Your answer must be single word, either \"yes\" or \"no\"\n",
    "    '''"
   ]
  },
  {
   "cell_type": "code",
   "execution_count": 9,
   "id": "d02da826-0783-4990-8322-5d9bfb7903c8",
   "metadata": {},
   "outputs": [
    {
     "name": "stdout",
     "output_type": "stream",
     "text": [
      "有\n"
     ]
    }
   ],
   "source": [
    "import openai\n",
    "import os\n",
    "from phoenix.evals import llm_classify, OpenAIModel\n",
    "\n",
    "client = openai.OpenAI(\n",
    "    api_key=os.getenv(\"OPENAI_API_KEY\"),\n",
    "    base_url=os.getenv(\"OPENAI_API_BASE\")\n",
    ")\n",
    "\n",
    "res = client.chat.completions.create(\n",
    "model=\"o1\",\n",
    "temperature=0.5,\n",
    "messages=[\n",
    "{\"role\": \"system\", \"content\": \"RAG系統的output評估器\"},\n",
    "{\"role\": \"user\", \"content\": \"RAG系統output:《蒙娜麗莎》是義大利文藝復興時期藝術家李奧納多·達文西的作品，請告訴我這個回應中有無出現人名，你只能回答有或沒有\"},\n",
    "]\n",
    ")\n",
    "print(res.choices[0].message.content)\n"
   ]
  },
  {
   "cell_type": "code",
   "execution_count": 10,
   "id": "9189f4d9-199a-47e5-a2f8-2e184336b09b",
   "metadata": {},
   "outputs": [
    {
     "name": "stderr",
     "output_type": "stream",
     "text": [
      "🐌!! If running inside a notebook, patching the event loop with nest_asyncio will allow asynchronous eval submission, and is significantly faster. To patch the event loop, run `nest_asyncio.apply()`.\n"
     ]
    },
    {
     "data": {
      "application/vnd.jupyter.widget-view+json": {
       "model_id": "3ab1358984a645859398faae6b029f53",
       "version_major": 2,
       "version_minor": 0
      },
      "text/plain": [
       "llm_classify |          | 0/10 (0.0%) | ⏳ 00:00<? | ?it/s"
      ]
     },
     "metadata": {},
     "output_type": "display_data"
    }
   ],
   "source": [
    "import openai\n",
    "import os\n",
    "from phoenix.evals import llm_classify, OpenAIModel\n",
    "\n",
    "rails = ['yes', 'no']\n",
    "\n",
    "model = OpenAIModel(\n",
    "    model=\"o1\",\n",
    "    temperature=0.5,\n",
    "    api_key=os.getenv(\"OPENAI_API_KEY\"),     # 你的API Key\n",
    "    base_url=os.getenv(\"OPENAI_API_BASE\")    # 你的 Base URL\n",
    ")\n",
    "\n",
    "# 在外面跑 llm_classify（批次對整個df做分類）\n",
    "positive_eval = llm_classify(\n",
    "    data=df,\n",
    "    template=MY_CUSTOM_TEMPLATE,\n",
    "    model=model,\n",
    "    rails=rails,\n",
    "    concurrency=5\n",
    ")\n"
   ]
  },
  {
   "cell_type": "code",
   "execution_count": 14,
   "id": "b3158b78-2d1b-4c39-97a5-5ddfa293045d",
   "metadata": {},
   "outputs": [
    {
     "name": "stdout",
     "output_type": "stream",
     "text": [
      "example_id\n",
      "RGF0YXNldEV4YW1wbGU6NTA=     no\n",
      "RGF0YXNldEV4YW1wbGU6NTE=     no\n",
      "RGF0YXNldEV4YW1wbGU6NTI=     no\n",
      "RGF0YXNldEV4YW1wbGU6NTM=     no\n",
      "RGF0YXNldEV4YW1wbGU6NTQ=     no\n",
      "RGF0YXNldEV4YW1wbGU6NTU=    yes\n",
      "RGF0YXNldEV4YW1wbGU6NTY=     no\n",
      "RGF0YXNldEV4YW1wbGU6NTc=     no\n",
      "RGF0YXNldEV4YW1wbGU6NTg=    yes\n",
      "RGF0YXNldEV4YW1wbGU6NTk=     no\n",
      "Name: label, dtype: object\n"
     ]
    }
   ],
   "source": [
    "print(positive_eval.label)"
   ]
  },
  {
   "cell_type": "code",
   "execution_count": 15,
   "id": "e87dca65-33a0-429e-88a1-363cee117387",
   "metadata": {},
   "outputs": [
    {
     "name": "stdout",
     "output_type": "stream",
     "text": [
      "{'RGF0YXNldEV4YW1wbGU6NTA=': 'no', 'RGF0YXNldEV4YW1wbGU6NTE=': 'no', 'RGF0YXNldEV4YW1wbGU6NTI=': 'no', 'RGF0YXNldEV4YW1wbGU6NTM=': 'no', 'RGF0YXNldEV4YW1wbGU6NTQ=': 'no', 'RGF0YXNldEV4YW1wbGU6NTU=': 'yes', 'RGF0YXNldEV4YW1wbGU6NTY=': 'no', 'RGF0YXNldEV4YW1wbGU6NTc=': 'no', 'RGF0YXNldEV4YW1wbGU6NTg=': 'yes', 'RGF0YXNldEV4YW1wbGU6NTk=': 'no'}\n"
     ]
    }
   ],
   "source": [
    "labels_mapping = positive_eval[\"label\"].to_dict()\n",
    "print(labels_mapping)"
   ]
  },
  {
   "cell_type": "code",
   "execution_count": 58,
   "id": "d39aa61d-12b6-469d-b984-a8a0eff4c40b",
   "metadata": {},
   "outputs": [],
   "source": [
    "from phoenix.experiments.types import Example\n",
    "\n",
    "def my_task(example: Example) -> str:\n",
    "    return example\n",
    "    # return {\"a\": 1, \"b\": 2}"
   ]
  },
  {
   "cell_type": "code",
   "execution_count": 56,
   "id": "7b510dfd-ac27-4f2d-a4b3-f007703e8937",
   "metadata": {},
   "outputs": [],
   "source": [
    "client = openai.OpenAI(\n",
    "    api_key=os.getenv(\"OPENAI_API_KEY\"),\n",
    "    base_url=os.getenv(\"OPENAI_API_BASE\")\n",
    ")\n",
    "\n",
    "# Define an evaluator. This just an example.\n",
    "def exact_match(input, output) -> str:\n",
    "    #return 1.0 if output is f\"Hello {input}\" else 1.0\n",
    "    # print(input)\n",
    "    # print(output)    \n",
    "    output_message = output[\"output\"][\"output\"]\n",
    "    print(output_message)    \n",
    "    \n",
    "    MY_CUSTOM_TEMPLATE = f'''\n",
    "You are evaluating whether the output mentions any person's name, such as common first names, full names, or references to individuals.\n",
    "[BEGIN DATA]\n",
    "[Response]: {output_message}\n",
    "[END DATA]\n",
    "\n",
    "\n",
    "Please focus on the tone of the response.\n",
    "Your answer must be single word, either \"yes\" or \"no\"\n",
    "'''\n",
    "    \n",
    "    # print(MY_CUSTOM_TEMPLATE)\n",
    "    \n",
    "    res = client.chat.completions.create(\n",
    "        model=\"o1\",\n",
    "        temperature=0,\n",
    "        messages=[\n",
    "            {\"role\": \"user\", \"content\": MY_CUSTOM_TEMPLATE},\n",
    "        ]\n",
    "    )\n",
    "    \n",
    "    content = res.choices[0].message.content\n",
    "    print(content)\n",
    "    content = content.strip().lower() \n",
    "    \n",
    "    return content\n",
    "    # return \"yes\" if res.choices[0].message.content == \"yes\" else \"no\" \n",
    "    \n",
    "    \n",
    "def hallucination_test(input, output) -> str:\n",
    "    print(input)\n",
    "    # print(output)    \n",
    "    input_message = input[\"input\"]\n",
    "    print(input_message)\n",
    "    \n",
    "    output_message = output[\"output\"][\"output\"]\n",
    "    print(output_message)    \n",
    "    \n",
    "    MY_CUSTOM_TEMPLATE = f'''\n",
    "\n",
    "[BEGIN DATA]\n",
    "[Question]: {input_message}\n",
    "[Response]: {output_message}\n",
    "[END DATA]\n",
    "\n",
    "請判斷[Response]回答[Question]的內容中，是否有與事實不符的地方。\n",
    "如果有，則回答 \"幻覺\"；沒有幻覺的話，則回答 \"事實\"。\n",
    "\n",
    "不要其他說明，必須回答單詞即可。\n",
    "'''\n",
    "    \n",
    "    # print(MY_CUSTOM_TEMPLATE)\n",
    "    \n",
    "    res = client.chat.completions.create(\n",
    "        model=\"o1\",\n",
    "        temperature=0,\n",
    "        messages=[\n",
    "            {\"role\": \"user\", \"content\": MY_CUSTOM_TEMPLATE},\n",
    "        ]\n",
    "    )\n",
    "    \n",
    "    content = res.choices[0].message.content\n",
    "    print(content)\n",
    "    content = content.strip().lower() \n",
    "    \n",
    "    return content\n",
    "    # return \"yes\" if res.choices[0].message.content == \"yes\" else \"no\" \n",
    "    \n",
    "    \n",
    "# Store the evaluators for later use\n",
    "evaluators = [exact_match, hallucination_test]"
   ]
  },
  {
   "cell_type": "code",
   "execution_count": 59,
   "id": "862e9890-a245-4800-a281-00e655418e52",
   "metadata": {},
   "outputs": [
    {
     "name": "stderr",
     "output_type": "stream",
     "text": [
      "/opt/conda/lib/python3.10/site-packages/phoenix/utilities/client.py:60: UserWarning: The Phoenix server (8.12.0) and client (8.27.1) versions are mismatched and may have compatibility issues.\n",
      "  warnings.warn(\n",
      "🐌!! If running inside a notebook, patching the event loop with nest_asyncio will allow asynchronous eval submission, and is significantly faster. To patch the event loop, run `nest_asyncio.apply()`.\n"
     ]
    },
    {
     "name": "stdout",
     "output_type": "stream",
     "text": [
      "🧪 Experiment started.\n",
      "📺 View dataset experiments: http://192.168.1.122:6006/datasets/RGF0YXNldDo3/experiments\n",
      "🔗 View this experiment: http://192.168.1.122:6006/datasets/RGF0YXNldDo3/compare?experimentId=RXhwZXJpbWVudDozMQ==\n"
     ]
    },
    {
     "data": {
      "application/vnd.jupyter.widget-view+json": {
       "model_id": "3a9e4fa8c4fc45e1b3912a8d80fbf022",
       "version_major": 2,
       "version_minor": 0
      },
      "text/plain": [
       "running tasks |          | 0/10 (0.0%) | ⏳ 00:00<? | ?it/s"
      ]
     },
     "metadata": {},
     "output_type": "display_data"
    },
    {
     "name": "stderr",
     "output_type": "stream",
     "text": [
      "🐌!! If running inside a notebook, patching the event loop with nest_asyncio will allow asynchronous eval submission, and is significantly faster. To patch the event loop, run `nest_asyncio.apply()`.\n"
     ]
    },
    {
     "name": "stdout",
     "output_type": "stream",
     "text": [
      "✅ Task runs completed.\n",
      "🧠 Evaluation started.\n"
     ]
    },
    {
     "data": {
      "application/vnd.jupyter.widget-view+json": {
       "model_id": "f144a58b2c8c475ab9018152bca6de56",
       "version_major": 2,
       "version_minor": 0
      },
      "text/plain": [
       "running experiment evaluations |          | 0/20 (0.0%) | ⏳ 00:00<? | ?it/s"
      ]
     },
     "metadata": {},
     "output_type": "display_data"
    },
    {
     "name": "stderr",
     "output_type": "stream",
     "text": [
      "/opt/conda/lib/python3.10/site-packages/phoenix/utilities/client.py:60: UserWarning: The Phoenix server (8.12.0) and client (8.27.1) versions are mismatched and may have compatibility issues.\n",
      "  warnings.warn(\n"
     ]
    },
    {
     "name": "stdout",
     "output_type": "stream",
     "text": [
      "\u001b[91mTraceback (most recent call last):\n",
      "  File \"/opt/conda/lib/python3.10/site-packages/phoenix/experiments/functions.py\", line 503, in sync_evaluate_run\n",
      "    result = evaluator.evaluate(\n",
      "  File \"/opt/conda/lib/python3.10/site-packages/phoenix/experiments/evaluators/utils.py\", line 215, in evaluate\n",
      "    result = func(*bound_signature.args, **bound_signature.kwargs)\n",
      "  File \"/tmp/ipykernel_57/1245691075.py\", line 11, in exact_match\n",
      "    output_message = output[\"output\"][\"output\"]\n",
      "KeyError: 'output'\n",
      "\n",
      "The above exception was the direct cause of the following exception:\n",
      "\n",
      "RuntimeError: evaluator failed for example id 'RGF0YXNldEV4YW1wbGU6NTA=', repetition 1\n",
      "\u001b[0m\n",
      "Retries exhausted after 1 attempts: Client error '422 Unprocessable Entity' for url 'http://192.168.1.122:6006/v1/experiment_evaluations'\n",
      "For more information check: https://developer.mozilla.org/en-US/docs/Web/HTTP/Status/422\n",
      "{'input': '艾菲爾鐵塔位於哪裡？ '}\n",
      "艾菲爾鐵塔位於哪裡？ \n",
      "\u001b[91mTraceback (most recent call last):\n",
      "  File \"/opt/conda/lib/python3.10/site-packages/phoenix/experiments/functions.py\", line 503, in sync_evaluate_run\n",
      "    result = evaluator.evaluate(\n",
      "  File \"/opt/conda/lib/python3.10/site-packages/phoenix/experiments/evaluators/utils.py\", line 215, in evaluate\n",
      "    result = func(*bound_signature.args, **bound_signature.kwargs)\n",
      "  File \"/tmp/ipykernel_57/1245691075.py\", line 49, in hallucination_test\n",
      "    output_message = output[\"output\"][\"output\"]\n",
      "KeyError: 'output'\n",
      "\n",
      "The above exception was the direct cause of the following exception:\n",
      "\n",
      "RuntimeError: evaluator failed for example id 'RGF0YXNldEV4YW1wbGU6NTA=', repetition 1\n",
      "\u001b[0m\n",
      "Retries exhausted after 1 attempts: Client error '422 Unprocessable Entity' for url 'http://192.168.1.122:6006/v1/experiment_evaluations'\n",
      "For more information check: https://developer.mozilla.org/en-US/docs/Web/HTTP/Status/422\n",
      "\u001b[91mTraceback (most recent call last):\n",
      "  File \"/opt/conda/lib/python3.10/site-packages/phoenix/experiments/functions.py\", line 503, in sync_evaluate_run\n",
      "    result = evaluator.evaluate(\n",
      "  File \"/opt/conda/lib/python3.10/site-packages/phoenix/experiments/evaluators/utils.py\", line 215, in evaluate\n",
      "    result = func(*bound_signature.args, **bound_signature.kwargs)\n",
      "  File \"/tmp/ipykernel_57/1245691075.py\", line 11, in exact_match\n",
      "    output_message = output[\"output\"][\"output\"]\n",
      "KeyError: 'output'\n",
      "\n",
      "The above exception was the direct cause of the following exception:\n",
      "\n",
      "RuntimeError: evaluator failed for example id 'RGF0YXNldEV4YW1wbGU6NTE=', repetition 1\n",
      "\u001b[0m\n",
      "Retries exhausted after 1 attempts: Client error '422 Unprocessable Entity' for url 'http://192.168.1.122:6006/v1/experiment_evaluations'\n",
      "For more information check: https://developer.mozilla.org/en-US/docs/Web/HTTP/Status/422\n",
      "{'input': '中國的長城有多長？ '}\n",
      "中國的長城有多長？ \n",
      "\u001b[91mTraceback (most recent call last):\n",
      "  File \"/opt/conda/lib/python3.10/site-packages/phoenix/experiments/functions.py\", line 503, in sync_evaluate_run\n",
      "    result = evaluator.evaluate(\n",
      "  File \"/opt/conda/lib/python3.10/site-packages/phoenix/experiments/evaluators/utils.py\", line 215, in evaluate\n",
      "    result = func(*bound_signature.args, **bound_signature.kwargs)\n",
      "  File \"/tmp/ipykernel_57/1245691075.py\", line 49, in hallucination_test\n",
      "    output_message = output[\"output\"][\"output\"]\n",
      "KeyError: 'output'\n",
      "\n",
      "The above exception was the direct cause of the following exception:\n",
      "\n",
      "RuntimeError: evaluator failed for example id 'RGF0YXNldEV4YW1wbGU6NTE=', repetition 1\n",
      "\u001b[0m\n",
      "Retries exhausted after 1 attempts: Client error '422 Unprocessable Entity' for url 'http://192.168.1.122:6006/v1/experiment_evaluations'\n",
      "For more information check: https://developer.mozilla.org/en-US/docs/Web/HTTP/Status/422\n",
      "\u001b[91mTraceback (most recent call last):\n",
      "  File \"/opt/conda/lib/python3.10/site-packages/phoenix/experiments/functions.py\", line 503, in sync_evaluate_run\n",
      "    result = evaluator.evaluate(\n",
      "  File \"/opt/conda/lib/python3.10/site-packages/phoenix/experiments/evaluators/utils.py\", line 215, in evaluate\n",
      "    result = func(*bound_signature.args, **bound_signature.kwargs)\n",
      "  File \"/tmp/ipykernel_57/1245691075.py\", line 11, in exact_match\n",
      "    output_message = output[\"output\"][\"output\"]\n",
      "KeyError: 'output'\n",
      "\n",
      "The above exception was the direct cause of the following exception:\n",
      "\n",
      "RuntimeError: evaluator failed for example id 'RGF0YXNldEV4YW1wbGU6NTI=', repetition 1\n",
      "\u001b[0m\n",
      "Retries exhausted after 1 attempts: Client error '422 Unprocessable Entity' for url 'http://192.168.1.122:6006/v1/experiment_evaluations'\n",
      "For more information check: https://developer.mozilla.org/en-US/docs/Web/HTTP/Status/422\n",
      "{'input': '最大的熱帶雨林是什麼？ '}\n",
      "最大的熱帶雨林是什麼？ \n",
      "\u001b[91mTraceback (most recent call last):\n",
      "  File \"/opt/conda/lib/python3.10/site-packages/phoenix/experiments/functions.py\", line 503, in sync_evaluate_run\n",
      "    result = evaluator.evaluate(\n",
      "  File \"/opt/conda/lib/python3.10/site-packages/phoenix/experiments/evaluators/utils.py\", line 215, in evaluate\n",
      "    result = func(*bound_signature.args, **bound_signature.kwargs)\n",
      "  File \"/tmp/ipykernel_57/1245691075.py\", line 49, in hallucination_test\n",
      "    output_message = output[\"output\"][\"output\"]\n",
      "KeyError: 'output'\n",
      "\n",
      "The above exception was the direct cause of the following exception:\n",
      "\n",
      "RuntimeError: evaluator failed for example id 'RGF0YXNldEV4YW1wbGU6NTI=', repetition 1\n",
      "\u001b[0m\n",
      "Retries exhausted after 1 attempts: Client error '422 Unprocessable Entity' for url 'http://192.168.1.122:6006/v1/experiment_evaluations'\n",
      "For more information check: https://developer.mozilla.org/en-US/docs/Web/HTTP/Status/422\n",
      "\u001b[91mTraceback (most recent call last):\n",
      "  File \"/opt/conda/lib/python3.10/site-packages/phoenix/experiments/functions.py\", line 503, in sync_evaluate_run\n",
      "    result = evaluator.evaluate(\n",
      "  File \"/opt/conda/lib/python3.10/site-packages/phoenix/experiments/evaluators/utils.py\", line 215, in evaluate\n",
      "    result = func(*bound_signature.args, **bound_signature.kwargs)\n",
      "  File \"/tmp/ipykernel_57/1245691075.py\", line 11, in exact_match\n",
      "    output_message = output[\"output\"][\"output\"]\n",
      "KeyError: 'output'\n",
      "\n",
      "The above exception was the direct cause of the following exception:\n",
      "\n",
      "RuntimeError: evaluator failed for example id 'RGF0YXNldEV4YW1wbGU6NTM=', repetition 1\n",
      "\u001b[0m\n",
      "Retries exhausted after 1 attempts: Client error '422 Unprocessable Entity' for url 'http://192.168.1.122:6006/v1/experiment_evaluations'\n",
      "For more information check: https://developer.mozilla.org/en-US/docs/Web/HTTP/Status/422\n",
      "{'input': '地球上最高的山是哪一座？ '}\n",
      "地球上最高的山是哪一座？ \n",
      "\u001b[91mTraceback (most recent call last):\n",
      "  File \"/opt/conda/lib/python3.10/site-packages/phoenix/experiments/functions.py\", line 503, in sync_evaluate_run\n",
      "    result = evaluator.evaluate(\n",
      "  File \"/opt/conda/lib/python3.10/site-packages/phoenix/experiments/evaluators/utils.py\", line 215, in evaluate\n",
      "    result = func(*bound_signature.args, **bound_signature.kwargs)\n",
      "  File \"/tmp/ipykernel_57/1245691075.py\", line 49, in hallucination_test\n",
      "    output_message = output[\"output\"][\"output\"]\n",
      "KeyError: 'output'\n",
      "\n",
      "The above exception was the direct cause of the following exception:\n",
      "\n",
      "RuntimeError: evaluator failed for example id 'RGF0YXNldEV4YW1wbGU6NTM=', repetition 1\n",
      "\u001b[0m\n",
      "Retries exhausted after 1 attempts: Client error '422 Unprocessable Entity' for url 'http://192.168.1.122:6006/v1/experiment_evaluations'\n",
      "For more information check: https://developer.mozilla.org/en-US/docs/Web/HTTP/Status/422\n",
      "\u001b[91mTraceback (most recent call last):\n",
      "  File \"/opt/conda/lib/python3.10/site-packages/phoenix/experiments/functions.py\", line 503, in sync_evaluate_run\n",
      "    result = evaluator.evaluate(\n",
      "  File \"/opt/conda/lib/python3.10/site-packages/phoenix/experiments/evaluators/utils.py\", line 215, in evaluate\n",
      "    result = func(*bound_signature.args, **bound_signature.kwargs)\n",
      "  File \"/tmp/ipykernel_57/1245691075.py\", line 11, in exact_match\n",
      "    output_message = output[\"output\"][\"output\"]\n",
      "KeyError: 'output'\n",
      "\n",
      "The above exception was the direct cause of the following exception:\n",
      "\n",
      "RuntimeError: evaluator failed for example id 'RGF0YXNldEV4YW1wbGU6NTQ=', repetition 1\n",
      "\u001b[0m\n",
      "Retries exhausted after 1 attempts: Client error '422 Unprocessable Entity' for url 'http://192.168.1.122:6006/v1/experiment_evaluations'\n",
      "For more information check: https://developer.mozilla.org/en-US/docs/Web/HTTP/Status/422\n",
      "{'input': '世界上最長的河流是什麼？ '}\n",
      "世界上最長的河流是什麼？ \n",
      "\u001b[91mTraceback (most recent call last):\n",
      "  File \"/opt/conda/lib/python3.10/site-packages/phoenix/experiments/functions.py\", line 503, in sync_evaluate_run\n",
      "    result = evaluator.evaluate(\n",
      "  File \"/opt/conda/lib/python3.10/site-packages/phoenix/experiments/evaluators/utils.py\", line 215, in evaluate\n",
      "    result = func(*bound_signature.args, **bound_signature.kwargs)\n",
      "  File \"/tmp/ipykernel_57/1245691075.py\", line 49, in hallucination_test\n",
      "    output_message = output[\"output\"][\"output\"]\n",
      "KeyError: 'output'\n",
      "\n",
      "The above exception was the direct cause of the following exception:\n",
      "\n",
      "RuntimeError: evaluator failed for example id 'RGF0YXNldEV4YW1wbGU6NTQ=', repetition 1\n",
      "\u001b[0m\n",
      "Retries exhausted after 1 attempts: Client error '422 Unprocessable Entity' for url 'http://192.168.1.122:6006/v1/experiment_evaluations'\n",
      "For more information check: https://developer.mozilla.org/en-US/docs/Web/HTTP/Status/422\n",
      "\u001b[91mTraceback (most recent call last):\n",
      "  File \"/opt/conda/lib/python3.10/site-packages/phoenix/experiments/functions.py\", line 503, in sync_evaluate_run\n",
      "    result = evaluator.evaluate(\n",
      "  File \"/opt/conda/lib/python3.10/site-packages/phoenix/experiments/evaluators/utils.py\", line 215, in evaluate\n",
      "    result = func(*bound_signature.args, **bound_signature.kwargs)\n",
      "  File \"/tmp/ipykernel_57/1245691075.py\", line 11, in exact_match\n",
      "    output_message = output[\"output\"][\"output\"]\n",
      "KeyError: 'output'\n",
      "\n",
      "The above exception was the direct cause of the following exception:\n",
      "\n",
      "RuntimeError: evaluator failed for example id 'RGF0YXNldEV4YW1wbGU6NTU=', repetition 1\n",
      "\u001b[0m\n",
      "Retries exhausted after 1 attempts: Client error '422 Unprocessable Entity' for url 'http://192.168.1.122:6006/v1/experiment_evaluations'\n",
      "For more information check: https://developer.mozilla.org/en-US/docs/Web/HTTP/Status/422\n",
      "{'input': '蒙娜麗莎是誰畫的？ '}\n",
      "蒙娜麗莎是誰畫的？ \n",
      "\u001b[91mTraceback (most recent call last):\n",
      "  File \"/opt/conda/lib/python3.10/site-packages/phoenix/experiments/functions.py\", line 503, in sync_evaluate_run\n",
      "    result = evaluator.evaluate(\n",
      "  File \"/opt/conda/lib/python3.10/site-packages/phoenix/experiments/evaluators/utils.py\", line 215, in evaluate\n",
      "    result = func(*bound_signature.args, **bound_signature.kwargs)\n",
      "  File \"/tmp/ipykernel_57/1245691075.py\", line 49, in hallucination_test\n",
      "    output_message = output[\"output\"][\"output\"]\n",
      "KeyError: 'output'\n",
      "\n",
      "The above exception was the direct cause of the following exception:\n",
      "\n",
      "RuntimeError: evaluator failed for example id 'RGF0YXNldEV4YW1wbGU6NTU=', repetition 1\n",
      "\u001b[0m\n",
      "Retries exhausted after 1 attempts: Client error '422 Unprocessable Entity' for url 'http://192.168.1.122:6006/v1/experiment_evaluations'\n",
      "For more information check: https://developer.mozilla.org/en-US/docs/Web/HTTP/Status/422\n",
      "\u001b[91mTraceback (most recent call last):\n",
      "  File \"/opt/conda/lib/python3.10/site-packages/phoenix/experiments/functions.py\", line 503, in sync_evaluate_run\n",
      "    result = evaluator.evaluate(\n",
      "  File \"/opt/conda/lib/python3.10/site-packages/phoenix/experiments/evaluators/utils.py\", line 215, in evaluate\n",
      "    result = func(*bound_signature.args, **bound_signature.kwargs)\n",
      "  File \"/tmp/ipykernel_57/1245691075.py\", line 11, in exact_match\n",
      "    output_message = output[\"output\"][\"output\"]\n",
      "KeyError: 'output'\n",
      "\n",
      "The above exception was the direct cause of the following exception:\n",
      "\n",
      "RuntimeError: evaluator failed for example id 'RGF0YXNldEV4YW1wbGU6NTY=', repetition 1\n",
      "\u001b[0m\n",
      "Retries exhausted after 1 attempts: Client error '422 Unprocessable Entity' for url 'http://192.168.1.122:6006/v1/experiment_evaluations'\n",
      "For more information check: https://developer.mozilla.org/en-US/docs/Web/HTTP/Status/422\n",
      "{'input': '人體有幾塊骨頭？ '}\n",
      "人體有幾塊骨頭？ \n",
      "\u001b[91mTraceback (most recent call last):\n",
      "  File \"/opt/conda/lib/python3.10/site-packages/phoenix/experiments/functions.py\", line 503, in sync_evaluate_run\n",
      "    result = evaluator.evaluate(\n",
      "  File \"/opt/conda/lib/python3.10/site-packages/phoenix/experiments/evaluators/utils.py\", line 215, in evaluate\n",
      "    result = func(*bound_signature.args, **bound_signature.kwargs)\n",
      "  File \"/tmp/ipykernel_57/1245691075.py\", line 49, in hallucination_test\n",
      "    output_message = output[\"output\"][\"output\"]\n",
      "KeyError: 'output'\n",
      "\n",
      "The above exception was the direct cause of the following exception:\n",
      "\n",
      "RuntimeError: evaluator failed for example id 'RGF0YXNldEV4YW1wbGU6NTY=', repetition 1\n",
      "\u001b[0m\n",
      "Retries exhausted after 1 attempts: Client error '422 Unprocessable Entity' for url 'http://192.168.1.122:6006/v1/experiment_evaluations'\n",
      "For more information check: https://developer.mozilla.org/en-US/docs/Web/HTTP/Status/422\n",
      "\u001b[91mTraceback (most recent call last):\n",
      "  File \"/opt/conda/lib/python3.10/site-packages/phoenix/experiments/functions.py\", line 503, in sync_evaluate_run\n",
      "    result = evaluator.evaluate(\n",
      "  File \"/opt/conda/lib/python3.10/site-packages/phoenix/experiments/evaluators/utils.py\", line 215, in evaluate\n",
      "    result = func(*bound_signature.args, **bound_signature.kwargs)\n",
      "  File \"/tmp/ipykernel_57/1245691075.py\", line 11, in exact_match\n",
      "    output_message = output[\"output\"][\"output\"]\n",
      "KeyError: 'output'\n",
      "\n",
      "The above exception was the direct cause of the following exception:\n",
      "\n",
      "RuntimeError: evaluator failed for example id 'RGF0YXNldEV4YW1wbGU6NTc=', repetition 1\n",
      "\u001b[0m\n",
      "Retries exhausted after 1 attempts: Client error '422 Unprocessable Entity' for url 'http://192.168.1.122:6006/v1/experiment_evaluations'\n",
      "For more information check: https://developer.mozilla.org/en-US/docs/Web/HTTP/Status/422\n",
      "{'input': '太陽系中最大的行星是哪一顆？ '}\n",
      "太陽系中最大的行星是哪一顆？ \n",
      "\u001b[91mTraceback (most recent call last):\n",
      "  File \"/opt/conda/lib/python3.10/site-packages/phoenix/experiments/functions.py\", line 503, in sync_evaluate_run\n",
      "    result = evaluator.evaluate(\n",
      "  File \"/opt/conda/lib/python3.10/site-packages/phoenix/experiments/evaluators/utils.py\", line 215, in evaluate\n",
      "    result = func(*bound_signature.args, **bound_signature.kwargs)\n",
      "  File \"/tmp/ipykernel_57/1245691075.py\", line 49, in hallucination_test\n",
      "    output_message = output[\"output\"][\"output\"]\n",
      "KeyError: 'output'\n",
      "\n",
      "The above exception was the direct cause of the following exception:\n",
      "\n",
      "RuntimeError: evaluator failed for example id 'RGF0YXNldEV4YW1wbGU6NTc=', repetition 1\n",
      "\u001b[0m\n",
      "Retries exhausted after 1 attempts: Client error '422 Unprocessable Entity' for url 'http://192.168.1.122:6006/v1/experiment_evaluations'\n",
      "For more information check: https://developer.mozilla.org/en-US/docs/Web/HTTP/Status/422\n",
      "\u001b[91mTraceback (most recent call last):\n",
      "  File \"/opt/conda/lib/python3.10/site-packages/phoenix/experiments/functions.py\", line 503, in sync_evaluate_run\n",
      "    result = evaluator.evaluate(\n",
      "  File \"/opt/conda/lib/python3.10/site-packages/phoenix/experiments/evaluators/utils.py\", line 215, in evaluate\n",
      "    result = func(*bound_signature.args, **bound_signature.kwargs)\n",
      "  File \"/tmp/ipykernel_57/1245691075.py\", line 11, in exact_match\n",
      "    output_message = output[\"output\"][\"output\"]\n",
      "KeyError: 'output'\n",
      "\n",
      "The above exception was the direct cause of the following exception:\n",
      "\n",
      "RuntimeError: evaluator failed for example id 'RGF0YXNldEV4YW1wbGU6NTg=', repetition 1\n",
      "\u001b[0m\n",
      "Retries exhausted after 1 attempts: Client error '422 Unprocessable Entity' for url 'http://192.168.1.122:6006/v1/experiment_evaluations'\n",
      "For more information check: https://developer.mozilla.org/en-US/docs/Web/HTTP/Status/422\n",
      "{'input': '《羅密歐與茱麗葉》是誰寫的？ '}\n",
      "《羅密歐與茱麗葉》是誰寫的？ \n",
      "\u001b[91mTraceback (most recent call last):\n",
      "  File \"/opt/conda/lib/python3.10/site-packages/phoenix/experiments/functions.py\", line 503, in sync_evaluate_run\n",
      "    result = evaluator.evaluate(\n",
      "  File \"/opt/conda/lib/python3.10/site-packages/phoenix/experiments/evaluators/utils.py\", line 215, in evaluate\n",
      "    result = func(*bound_signature.args, **bound_signature.kwargs)\n",
      "  File \"/tmp/ipykernel_57/1245691075.py\", line 49, in hallucination_test\n",
      "    output_message = output[\"output\"][\"output\"]\n",
      "KeyError: 'output'\n",
      "\n",
      "The above exception was the direct cause of the following exception:\n",
      "\n",
      "RuntimeError: evaluator failed for example id 'RGF0YXNldEV4YW1wbGU6NTg=', repetition 1\n",
      "\u001b[0m\n",
      "Retries exhausted after 1 attempts: Client error '422 Unprocessable Entity' for url 'http://192.168.1.122:6006/v1/experiment_evaluations'\n",
      "For more information check: https://developer.mozilla.org/en-US/docs/Web/HTTP/Status/422\n",
      "\u001b[91mTraceback (most recent call last):\n",
      "  File \"/opt/conda/lib/python3.10/site-packages/phoenix/experiments/functions.py\", line 503, in sync_evaluate_run\n",
      "    result = evaluator.evaluate(\n",
      "  File \"/opt/conda/lib/python3.10/site-packages/phoenix/experiments/evaluators/utils.py\", line 215, in evaluate\n",
      "    result = func(*bound_signature.args, **bound_signature.kwargs)\n",
      "  File \"/tmp/ipykernel_57/1245691075.py\", line 11, in exact_match\n",
      "    output_message = output[\"output\"][\"output\"]\n",
      "KeyError: 'output'\n",
      "\n",
      "The above exception was the direct cause of the following exception:\n",
      "\n",
      "RuntimeError: evaluator failed for example id 'RGF0YXNldEV4YW1wbGU6NTk=', repetition 1\n",
      "\u001b[0m\n",
      "Retries exhausted after 1 attempts: Client error '422 Unprocessable Entity' for url 'http://192.168.1.122:6006/v1/experiment_evaluations'\n",
      "For more information check: https://developer.mozilla.org/en-US/docs/Web/HTTP/Status/422\n",
      "{'input': '第一次登月是什麼時候發生的？ '}\n",
      "第一次登月是什麼時候發生的？ \n",
      "\u001b[91mTraceback (most recent call last):\n",
      "  File \"/opt/conda/lib/python3.10/site-packages/phoenix/experiments/functions.py\", line 503, in sync_evaluate_run\n",
      "    result = evaluator.evaluate(\n",
      "  File \"/opt/conda/lib/python3.10/site-packages/phoenix/experiments/evaluators/utils.py\", line 215, in evaluate\n",
      "    result = func(*bound_signature.args, **bound_signature.kwargs)\n",
      "  File \"/tmp/ipykernel_57/1245691075.py\", line 49, in hallucination_test\n",
      "    output_message = output[\"output\"][\"output\"]\n",
      "KeyError: 'output'\n",
      "\n",
      "The above exception was the direct cause of the following exception:\n",
      "\n",
      "RuntimeError: evaluator failed for example id 'RGF0YXNldEV4YW1wbGU6NTk=', repetition 1\n",
      "\u001b[0m\n",
      "Retries exhausted after 1 attempts: Client error '422 Unprocessable Entity' for url 'http://192.168.1.122:6006/v1/experiment_evaluations'\n",
      "For more information check: https://developer.mozilla.org/en-US/docs/Web/HTTP/Status/422\n",
      "\n",
      "🔗 View this experiment: http://192.168.1.122:6006/datasets/RGF0YXNldDo3/compare?experimentId=RXhwZXJpbWVudDozMQ==\n",
      "\n",
      "Experiment Summary (04/27/25 04:35 PM +0000)\n",
      "--------------------------------------------\n",
      "            evaluator   n\n",
      "0         exact_match  10\n",
      "1  hallucination_test  10\n",
      "\n",
      "Tasks Summary (04/27/25 04:35 PM +0000)\n",
      "---------------------------------------\n",
      "   n_examples  n_runs  n_errors\n",
      "0          10      10         0\n"
     ]
    }
   ],
   "source": [
    "# Run an experiment\n",
    "from phoenix.experiments import run_experiment\n",
    "\n",
    "experiment = run_experiment(dataset, my_task, evaluators=evaluators)"
   ]
  },
  {
   "cell_type": "code",
   "execution_count": null,
   "id": "6b97cf16-168e-4bf2-a69e-d892f2de6962",
   "metadata": {},
   "outputs": [],
   "source": []
  },
  {
   "cell_type": "code",
   "execution_count": null,
   "id": "b2d63046-b114-40e8-bb00-94d7f618d8d7",
   "metadata": {},
   "outputs": [],
   "source": []
  },
  {
   "cell_type": "code",
   "execution_count": null,
   "id": "40eb6f3d-49a7-478d-a9af-76db6e321ac8",
   "metadata": {},
   "outputs": [],
   "source": []
  },
  {
   "cell_type": "code",
   "execution_count": null,
   "id": "198d60d5-98c0-424b-abd0-c486489b98dd",
   "metadata": {},
   "outputs": [],
   "source": []
  },
  {
   "cell_type": "code",
   "execution_count": null,
   "id": "405c2a3b-4908-4a7c-829f-4cababcf124f",
   "metadata": {},
   "outputs": [],
   "source": []
  },
  {
   "cell_type": "code",
   "execution_count": null,
   "id": "cfda6aa0-c528-40ca-9c3f-cf4539cd38b4",
   "metadata": {},
   "outputs": [],
   "source": []
  },
  {
   "cell_type": "code",
   "execution_count": null,
   "id": "4e40de38-4a2f-4919-b5fa-4db00b755717",
   "metadata": {},
   "outputs": [],
   "source": []
  },
  {
   "cell_type": "code",
   "execution_count": null,
   "id": "c67cbbd5-f070-4b6a-b626-4513d5555484",
   "metadata": {},
   "outputs": [],
   "source": []
  },
  {
   "cell_type": "code",
   "execution_count": null,
   "id": "ea3409dd-7f4b-4909-aafa-0f723edc2e89",
   "metadata": {},
   "outputs": [],
   "source": []
  },
  {
   "cell_type": "code",
   "execution_count": null,
   "id": "2b72426e-cfbe-4346-8f6d-faff978b5da4",
   "metadata": {},
   "outputs": [],
   "source": []
  },
  {
   "cell_type": "code",
   "execution_count": null,
   "id": "36f41a99-e76a-45f5-99ab-3c7663e6b17c",
   "metadata": {},
   "outputs": [],
   "source": []
  },
  {
   "cell_type": "code",
   "execution_count": null,
   "id": "2dc620c2-1ea7-47b9-a5dd-2951f7544ed4",
   "metadata": {},
   "outputs": [],
   "source": []
  },
  {
   "cell_type": "code",
   "execution_count": null,
   "id": "6faa9728-a475-4286-8928-bf2d04abc538",
   "metadata": {},
   "outputs": [],
   "source": []
  },
  {
   "cell_type": "code",
   "execution_count": null,
   "id": "769d4578-ca44-4ae6-82f6-d7a3ff28321d",
   "metadata": {},
   "outputs": [],
   "source": []
  }
 ],
 "metadata": {
  "kernelspec": {
   "display_name": "Python 3 (ipykernel)",
   "language": "python",
   "name": "python3"
  },
  "language_info": {
   "codemirror_mode": {
    "name": "ipython",
    "version": 3
   },
   "file_extension": ".py",
   "mimetype": "text/x-python",
   "name": "python",
   "nbconvert_exporter": "python",
   "pygments_lexer": "ipython3",
   "version": "3.10.6"
  }
 },
 "nbformat": 4,
 "nbformat_minor": 5
}
