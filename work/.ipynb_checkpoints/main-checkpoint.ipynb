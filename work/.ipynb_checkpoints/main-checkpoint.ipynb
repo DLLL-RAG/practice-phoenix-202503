{
 "cells": [
  {
   "cell_type": "code",
   "execution_count": null,
   "id": "7b150d99-c3c2-4608-bba3-4db83bf32840",
   "metadata": {},
   "outputs": [],
   "source": [
    "print(\"Hello World.\")"
   ]
  },
  {
   "cell_type": "code",
   "execution_count": null,
   "id": "2fe05b8b-6b6b-4138-a0f5-51b1cf9e6898",
   "metadata": {},
   "outputs": [],
   "source": [
    "from phoenix.otel import register\n",
    "\n",
    "tracer_provider = register(\n",
    "  project_name=\"default\",\n",
    "  endpoint=\"http://phoenix:6006/v1/traces\",\n",
    "  # auto_instrument=True # Auto-instrument your app based on installed dependencie\n",
    ")"
   ]
  }
 ],
 "metadata": {
  "kernelspec": {
   "display_name": "Python 3 (ipykernel)",
   "language": "python",
   "name": "python3"
  },
  "language_info": {
   "codemirror_mode": {
    "name": "ipython",
    "version": 3
   },
   "file_extension": ".py",
   "mimetype": "text/x-python",
   "name": "python",
   "nbconvert_exporter": "python",
   "pygments_lexer": "ipython3",
   "version": "3.10.6"
  }
 },
 "nbformat": 4,
 "nbformat_minor": 5
}
