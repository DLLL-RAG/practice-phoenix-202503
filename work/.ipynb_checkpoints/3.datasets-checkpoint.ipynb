{
 "cells": [
  {
   "cell_type": "code",
   "execution_count": 3,
   "id": "fb268b7f-b3ee-46f3-a2c8-9d160cfe07c8",
   "metadata": {},
   "outputs": [
    {
     "name": "stderr",
     "output_type": "stream",
     "text": [
      "ERROR:    [Errno 99] error while attempting to bind on address ('192.168.240.4', 6006): cannot assign requested address\n",
      "Traceback (most recent call last):\n",
      "  File \"/opt/conda/lib/python3.10/site-packages/uvicorn/server.py\", line 163, in startup\n",
      "    server = await loop.create_server(\n",
      "  File \"/opt/conda/lib/python3.10/asyncio/base_events.py\", line 1505, in create_server\n",
      "    raise OSError(err.errno, 'error while attempting '\n",
      "OSError: [Errno 99] error while attempting to bind on address ('192.168.240.4', 6006): cannot assign requested address\n",
      "\n",
      "During handling of the above exception, another exception occurred:\n",
      "\n",
      "Traceback (most recent call last):\n",
      "  File \"/opt/conda/lib/python3.10/threading.py\", line 1016, in _bootstrap_inner\n",
      "    self.run()\n",
      "  File \"/opt/conda/lib/python3.10/threading.py\", line 953, in run\n",
      "    self._target(*self._args, **self._kwargs)\n",
      "  File \"/opt/conda/lib/python3.10/site-packages/uvicorn/server.py\", line 66, in run\n",
      "    return asyncio.run(self.serve(sockets=sockets))\n",
      "  File \"/opt/conda/lib/python3.10/asyncio/runners.py\", line 44, in run\n",
      "    return loop.run_until_complete(main)\n",
      "  File \"/opt/conda/lib/python3.10/asyncio/base_events.py\", line 633, in run_until_complete\n",
      "    self.run_forever()\n",
      "  File \"/opt/conda/lib/python3.10/asyncio/base_events.py\", line 600, in run_forever\n",
      "    self._run_once()\n",
      "  File \"/opt/conda/lib/python3.10/asyncio/base_events.py\", line 1896, in _run_once\n",
      "    handle._run()\n",
      "  File \"/opt/conda/lib/python3.10/asyncio/events.py\", line 80, in _run\n",
      "    self._context.run(self._callback, *self._args)\n",
      "  File \"/opt/conda/lib/python3.10/site-packages/uvicorn/server.py\", line 70, in serve\n",
      "    await self._serve(sockets)\n",
      "  File \"/opt/conda/lib/python3.10/site-packages/uvicorn/server.py\", line 85, in _serve\n",
      "    await self.startup(sockets=sockets)\n",
      "  File \"/opt/conda/lib/python3.10/site-packages/uvicorn/server.py\", line 173, in startup\n",
      "    sys.exit(1)\n",
      "SystemExit: 1\n",
      "💥 Phoenix failed to start. Please try again (making sure that port 6006 is not occupied by another process) or file an issue with us at https://github.com/Arize-ai/phoenix\n"
     ]
    },
    {
     "name": "stdout",
     "output_type": "stream",
     "text": [
      "📤 Uploading dataset...\n",
      "💾 Examples uploaded: http://phoenix:6006/datasets/RGF0YXNldDoz/examples\n",
      "🗄️ Dataset version ID: RGF0YXNldFZlcnNpb246Mw==\n"
     ]
    }
   ],
   "source": [
    "import pandas as pd\n",
    "import phoenix as px\n",
    "\n",
    "queries = [\n",
    "    \"What are the 9 planets in the solar system?\",\n",
    "    \"How many generations of fundamental particles have we observed?\",\n",
    "    \"Is Aluminum a superconductor?\",\n",
    "]\n",
    "responses = [\n",
    "    \"There are 8 planets in the solar system.\",\n",
    "    \"We have observed 3 generations of fundamental particles.\",\n",
    "    \"Yes, Aluminum becomes a superconductor at 1.2 degrees Kelvin.\",\n",
    "]\n",
    "\n",
    "dataset_df = pd.DataFrame(data={\"query\": queries, \"responses\": responses})\n",
    "\n",
    "# px.launch_app()\n",
    "client = px.Client(endpoint=\"http://phoenix:6006\")\n",
    "dataset = client.upload_dataset(\n",
    "    dataframe=dataset_df,\n",
    "    dataset_name=\"physics-questions\",\n",
    "    input_keys=[\"query\"],\n",
    "    output_keys=[\"responses\"],\n",
    ")\n"
   ]
  }
 ],
 "metadata": {
  "kernelspec": {
   "display_name": "Python 3 (ipykernel)",
   "language": "python",
   "name": "python3"
  },
  "language_info": {
   "codemirror_mode": {
    "name": "ipython",
    "version": 3
   },
   "file_extension": ".py",
   "mimetype": "text/x-python",
   "name": "python",
   "nbconvert_exporter": "python",
   "pygments_lexer": "ipython3",
   "version": "3.10.6"
  }
 },
 "nbformat": 4,
 "nbformat_minor": 5
}
