{
 "cells": [
  {
   "cell_type": "code",
   "execution_count": null,
   "id": "8e4d6d37-02de-4fc8-9805-5cc9657fc00e",
   "metadata": {},
   "outputs": [],
   "source": [
    "import openai\n",
    "openai.api_key=(\"app-BBQQObljD1Un33PpgygGrbmZ\")"
   ]
  }
 ],
 "metadata": {
  "kernelspec": {
   "display_name": "Python 3 (ipykernel)",
   "language": "python",
   "name": "python3"
  },
  "language_info": {
   "codemirror_mode": {
    "name": "ipython",
    "version": 3
   },
   "file_extension": ".py",
   "mimetype": "text/x-python",
   "name": "python",
   "nbconvert_exporter": "python",
   "pygments_lexer": "ipython3",
   "version": "3.10.6"
  }
 },
 "nbformat": 4,
 "nbformat_minor": 5
}
