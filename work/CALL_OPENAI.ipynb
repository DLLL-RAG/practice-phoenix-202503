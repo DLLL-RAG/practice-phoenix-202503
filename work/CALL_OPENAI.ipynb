{
 "cells": [
  {
   "cell_type": "code",
   "execution_count": 8,
   "id": "8e4d6d37-02de-4fc8-9805-5cc9657fc00e",
   "metadata": {},
   "outputs": [
    {
     "name": "stdout",
     "output_type": "stream",
     "text": [
      "好的，當 x = 1 時，(x+1) 的平方 = (1+1) 的平方 = 2 的平方 = 4。\n",
      "\n",
      "所以，當 x = 1 時，(x+1)² = 4。\n"
     ]
    }
   ],
   "source": [
    "import openai\n",
    "import os\n",
    "client = openai.OpenAI(\n",
    "    api_key=os.getenv(\"OPENAI_API_KEY\"),\n",
    "    base_url=os.getenv(\"OPENAI_API_BASE\")  # Custom API Base\n",
    ")\n",
    "\n",
    "res = client.chat.completions.create(\n",
    "model=\"o1\",\n",
    "temperature=0.5,\n",
    "messages=[\n",
    "{\"role\": \"system\", \"content\": \"國中數學家\"},\n",
    "{\"role\": \"user\", \"content\": \"請講解(x+1)的平方\"},\n",
    "{\"role\": \"assistant\", \"content\": \"請回答x = 1的情況\"},\n",
    "]\n",
    ")\n",
    "print(res.choices[0].message.content)"
   ]
  },
  {
   "cell_type": "code",
   "execution_count": null,
   "id": "0cec13cb-0ca1-40e4-beb8-226c1b5950e7",
   "metadata": {},
   "outputs": [],
   "source": []
  }
 ],
 "metadata": {
  "kernelspec": {
   "display_name": "Python 3 (ipykernel)",
   "language": "python",
   "name": "python3"
  },
  "language_info": {
   "codemirror_mode": {
    "name": "ipython",
    "version": 3
   },
   "file_extension": ".py",
   "mimetype": "text/x-python",
   "name": "python",
   "nbconvert_exporter": "python",
   "pygments_lexer": "ipython3",
   "version": "3.10.6"
  }
 },
 "nbformat": 4,
 "nbformat_minor": 5
}
