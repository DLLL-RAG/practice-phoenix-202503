{
 "cells": [
  {
   "cell_type": "code",
   "execution_count": 9,
   "id": "6dbf121b-d955-4ad5-b126-e0975260054f",
   "metadata": {},
   "outputs": [],
   "source": [
    "import pandas as pd\n",
    "\n",
    "# 假設我們想要針對一些「產生的文章」或「對話」做星級評分\n",
    "df = pd.DataFrame({\n",
    "    \"input\": [\n",
    "        \"This is a short text. It's not very detailed.\",\n",
    "        \"An elaborate and well-structured paragraph with lots of information.\",\n",
    "        \"Some random text that doesn't make much sense.\"\n",
    "    ]\n",
    "})\n"
   ]
  },
  {
   "cell_type": "code",
   "execution_count": 10,
   "id": "75043e4a-bad4-4b0e-94bd-165ec7528422",
   "metadata": {},
   "outputs": [],
   "source": [
    "rails = [\"1 star\", \"2 stars\", \"3 stars\"]\n",
    "template = \"\"\"\n",
    "You are a helpful assistant. Please respond with exactly one of the following strings:\n",
    "\"1 star\", \"2 stars\", or \"3 stars\".\n",
    "\n",
    "Text:\n",
    "{input}\n",
    "\"\"\"\n"
   ]
  },
  {
   "cell_type": "code",
   "execution_count": 11,
   "id": "7dfb4dd4-dbfa-4476-9c22-a4c442d330b3",
   "metadata": {},
   "outputs": [
    {
     "name": "stderr",
     "output_type": "stream",
     "text": [
      "/tmp/ipykernel_9491/1818941528.py:14: DeprecationWarning: `dataframe` argument is deprecated; use `data` instead\n",
      "  eval_results = llm_classify(\n",
      "🐌!! If running inside a notebook, patching the event loop with nest_asyncio will allow asynchronous eval submission, and is significantly faster. To patch the event loop, run `nest_asyncio.apply()`.\n"
     ]
    },
    {
     "data": {
      "application/vnd.jupyter.widget-view+json": {
       "model_id": "2457611ad6cb4aa385ce3cfd6f991951",
       "version_major": 2,
       "version_minor": 0
      },
      "text/plain": [
       "llm_classify |          | 0/3 (0.0%) | ⏳ 00:00<? | ?it/s"
      ]
     },
     "metadata": {},
     "output_type": "display_data"
    },
    {
     "name": "stdout",
     "output_type": "stream",
     "text": [
      "          label                                        explanation exceptions  \\\n",
      "0  NOT_PARSABLE  2 stars.\\n\\nExplanation: The text is functiona...         []   \n",
      "1  NOT_PARSABLE  3 stars.\\n\\nExplanation: The text *describes* ...         []   \n",
      "2  NOT_PARSABLE  1 star.\\n\\nExplanation: The text is explicitly...         []   \n",
      "\n",
      "  execution_status  execution_seconds  \n",
      "0        COMPLETED           4.675423  \n",
      "1        COMPLETED           4.507164  \n",
      "2        COMPLETED           2.328335  \n"
     ]
    }
   ],
   "source": [
    "from phoenix.evals import llm_classify, OpenAIModel\n",
    "import os\n",
    "\n",
    "eval_model = OpenAIModel(\n",
    "    model=\"o1\",\n",
    "    api_key=os.getenv(\"OPENAI_API_KEY\"),     # 讀取 API 金鑰\n",
    "    base_url=os.getenv(\"OPENAI_API_BASE\")    # 讀取自訂的 API 位址\n",
    ")\n",
    "\n",
    "# rails 參數指定可用的分類標籤\n",
    "rails = [\"1 star\", \"2 stars\", \"3 stars\"]\n",
    "\n",
    "# 執行分類\n",
    "eval_results = llm_classify(\n",
    "    dataframe=df,\n",
    "    model=eval_model,\n",
    "    template=star_rating_template,\n",
    "    rails=rails,\n",
    "    concurrency=1,             # 可根據需求調整\n",
    "    provide_explanation=True    # 要求 LLM 回傳原因\n",
    ")\n",
    "\n",
    "# 查看結果\n",
    "print(eval_results)\n"
   ]
  },
  {
   "cell_type": "code",
   "execution_count": null,
   "id": "800ed045-97e0-4edc-80e3-5ab670792350",
   "metadata": {},
   "outputs": [],
   "source": []
  }
 ],
 "metadata": {
  "kernelspec": {
   "display_name": "Python 3 (ipykernel)",
   "language": "python",
   "name": "python3"
  },
  "language_info": {
   "codemirror_mode": {
    "name": "ipython",
    "version": 3
   },
   "file_extension": ".py",
   "mimetype": "text/x-python",
   "name": "python",
   "nbconvert_exporter": "python",
   "pygments_lexer": "ipython3",
   "version": "3.10.6"
  }
 },
 "nbformat": 4,
 "nbformat_minor": 5
}
