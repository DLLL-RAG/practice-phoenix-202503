{
 "cells": [
  {
   "cell_type": "code",
   "execution_count": 4,
   "id": "178472fd-42e4-487a-b66b-7ef87980714d",
   "metadata": {},
   "outputs": [
    {
     "name": "stdout",
     "output_type": "stream",
     "text": [
      "        question                               respond  \\\n",
      "0    艾菲爾鐵塔位於哪裡？                          艾菲爾鐵塔位於法國巴黎。    \n",
      "1  世界上最長的河流是什麼？   尼羅河全長 6,650 公里（4,132 英里），是世界上最長的河流。    \n",
      "2      人體有幾塊骨頭？                    成年人的身體通常有 256 塊骨頭。    \n",
      "\n",
      "                                           reference  \n",
      "0       艾菲爾鐵塔位於法國巴黎。它建於 1889 年，作為 1889 年世界博覽會的入口拱門。   \n",
      "1  尼羅河是世界上最長的河流。它向北流經非洲東北部，從布隆迪最遠的源頭流入地中海，全長約 6,6...  \n",
      "2                 人體有206塊骨頭。這些骨骼提供結構、保護器官、固定肌肉並儲存鈣。   \n"
     ]
    }
   ],
   "source": [
    "import pandas as pd\n",
    "\n",
    "df = pd.read_excel(\n",
    "    \"only3.ods\", \n",
    "    engine=\"odf\",   # 讀取 ODS 檔案需要指定 engine='odf'\n",
    "    header=0        # 假設第一列就是欄位名稱\n",
    ")\n",
    "\n",
    "print(df.head())"
   ]
  },
  {
   "cell_type": "code",
   "execution_count": 5,
   "id": "6af2d76d-6b99-4ed3-a618-ee0ae4432c3e",
   "metadata": {},
   "outputs": [],
   "source": [
    "df.rename(columns={\n",
    "    \"原本問題欄位\": \"question\",\n",
    "    \"原本回答欄位\": \"respond\",\n",
    "    \"原本正確答案欄位\": \"reference\"\n",
    "}, inplace=True)\n"
   ]
  },
  {
   "cell_type": "code",
   "execution_count": 6,
   "id": "ec5f92bb-70b3-4ece-b58e-3a40f7c46378",
   "metadata": {},
   "outputs": [
    {
     "name": "stdout",
     "output_type": "stream",
     "text": [
      "Requirement already satisfied: arize-phoenix in /opt/conda/lib/python3.10/site-packages (10.12.0)\n",
      "Requirement already satisfied: openinference-semantic-conventions>=0.1.17 in /opt/conda/lib/python3.10/site-packages (from arize-phoenix) (0.1.21)\n",
      "Requirement already satisfied: openinference-instrumentation>=0.1.32 in /opt/conda/lib/python3.10/site-packages (from arize-phoenix) (0.1.33)\n",
      "Requirement already satisfied: uvicorn in /opt/conda/lib/python3.10/site-packages (from arize-phoenix) (0.34.3)\n",
      "Requirement already satisfied: email-validator in /opt/conda/lib/python3.10/site-packages (from arize-phoenix) (2.2.0)\n",
      "Requirement already satisfied: pyarrow in /opt/conda/lib/python3.10/site-packages (from arize-phoenix) (20.0.0)\n",
      "Requirement already satisfied: scipy in /opt/conda/lib/python3.10/site-packages (from arize-phoenix) (1.9.1)\n",
      "Requirement already satisfied: tqdm in /opt/conda/lib/python3.10/site-packages (from arize-phoenix) (4.67.1)\n",
      "Requirement already satisfied: python-multipart in /opt/conda/lib/python3.10/site-packages (from arize-phoenix) (0.0.20)\n",
      "Requirement already satisfied: typing-extensions>=4.6 in /opt/conda/lib/python3.10/site-packages (from arize-phoenix) (4.14.0)\n",
      "Requirement already satisfied: pydantic>=2.1.0 in /opt/conda/lib/python3.10/site-packages (from arize-phoenix) (2.11.7)\n",
      "Requirement already satisfied: jinja2 in /opt/conda/lib/python3.10/site-packages (from arize-phoenix) (3.1.2)\n",
      "Requirement already satisfied: arize-phoenix-evals>=0.20.6 in /opt/conda/lib/python3.10/site-packages (from arize-phoenix) (0.20.8)\n",
      "Requirement already satisfied: strawberry-graphql==0.270.1 in /opt/conda/lib/python3.10/site-packages (from arize-phoenix) (0.270.1)\n",
      "Requirement already satisfied: arize-phoenix-client in /opt/conda/lib/python3.10/site-packages (from arize-phoenix) (1.10.0)\n",
      "Requirement already satisfied: starlette in /opt/conda/lib/python3.10/site-packages (from arize-phoenix) (0.46.2)\n",
      "Requirement already satisfied: cachetools in /opt/conda/lib/python3.10/site-packages (from arize-phoenix) (6.0.0)\n",
      "Requirement already satisfied: sqlalchemy[asyncio]<3,>=2.0.4 in /opt/conda/lib/python3.10/site-packages (from arize-phoenix) (2.0.41)\n",
      "Requirement already satisfied: aioitertools in /opt/conda/lib/python3.10/site-packages (from arize-phoenix) (0.12.0)\n",
      "Requirement already satisfied: grpc-interceptor in /opt/conda/lib/python3.10/site-packages (from arize-phoenix) (0.15.4)\n",
      "Requirement already satisfied: wrapt>=1.17.2 in /opt/conda/lib/python3.10/site-packages (from arize-phoenix) (1.17.2)\n",
      "Requirement already satisfied: numpy!=2.0.0 in /opt/conda/lib/python3.10/site-packages (from arize-phoenix) (1.23.3)\n",
      "Requirement already satisfied: sqlean-py>=3.45.1 in /opt/conda/lib/python3.10/site-packages (from arize-phoenix) (3.49.1)\n",
      "Requirement already satisfied: opentelemetry-sdk in /opt/conda/lib/python3.10/site-packages (from arize-phoenix) (1.34.1)\n",
      "Requirement already satisfied: scikit-learn in /opt/conda/lib/python3.10/site-packages (from arize-phoenix) (1.1.2)\n",
      "Requirement already satisfied: fastapi in /opt/conda/lib/python3.10/site-packages (from arize-phoenix) (0.115.12)\n",
      "Requirement already satisfied: arize-phoenix-otel>=0.10.3 in /opt/conda/lib/python3.10/site-packages (from arize-phoenix) (0.10.3)\n",
      "Requirement already satisfied: httpx in /opt/conda/lib/python3.10/site-packages (from arize-phoenix) (0.27.2)\n",
      "Requirement already satisfied: opentelemetry-exporter-otlp in /opt/conda/lib/python3.10/site-packages (from arize-phoenix) (1.34.1)\n",
      "Requirement already satisfied: opentelemetry-proto>=1.12.0 in /opt/conda/lib/python3.10/site-packages (from arize-phoenix) (1.34.1)\n",
      "Requirement already satisfied: psutil in /opt/conda/lib/python3.10/site-packages (from arize-phoenix) (5.9.2)\n",
      "Requirement already satisfied: aiosqlite in /opt/conda/lib/python3.10/site-packages (from arize-phoenix) (0.21.0)\n",
      "Requirement already satisfied: pandas>=1.0 in /opt/conda/lib/python3.10/site-packages (from arize-phoenix) (1.5.0)\n",
      "Requirement already satisfied: opentelemetry-semantic-conventions in /opt/conda/lib/python3.10/site-packages (from arize-phoenix) (0.55b1)\n",
      "Requirement already satisfied: protobuf<6.0,>=3.20.2 in /opt/conda/lib/python3.10/site-packages (from arize-phoenix) (5.29.5)\n",
      "Requirement already satisfied: authlib in /opt/conda/lib/python3.10/site-packages (from arize-phoenix) (1.6.0)\n",
      "Requirement already satisfied: alembic<2,>=1.3.0 in /opt/conda/lib/python3.10/site-packages (from arize-phoenix) (1.8.1)\n",
      "Requirement already satisfied: grpcio in /opt/conda/lib/python3.10/site-packages (from arize-phoenix) (1.73.0)\n",
      "Requirement already satisfied: graphql-core<3.4.0,>=3.2.0 in /opt/conda/lib/python3.10/site-packages (from strawberry-graphql==0.270.1->arize-phoenix) (3.2.6)\n",
      "Requirement already satisfied: packaging>=23 in /opt/conda/lib/python3.10/site-packages (from strawberry-graphql==0.270.1->arize-phoenix) (25.0)\n",
      "Requirement already satisfied: python-dateutil<3.0.0,>=2.7.0 in /opt/conda/lib/python3.10/site-packages (from strawberry-graphql==0.270.1->arize-phoenix) (2.8.2)\n",
      "Requirement already satisfied: Mako in /opt/conda/lib/python3.10/site-packages (from alembic<2,>=1.3.0->arize-phoenix) (1.2.3)\n",
      "Requirement already satisfied: opentelemetry-api in /opt/conda/lib/python3.10/site-packages (from openinference-instrumentation>=0.1.32->arize-phoenix) (1.34.1)\n",
      "Requirement already satisfied: pytz>=2020.1 in /opt/conda/lib/python3.10/site-packages (from pandas>=1.0->arize-phoenix) (2022.4)\n",
      "Requirement already satisfied: annotated-types>=0.6.0 in /opt/conda/lib/python3.10/site-packages (from pydantic>=2.1.0->arize-phoenix) (0.7.0)\n",
      "Requirement already satisfied: typing-inspection>=0.4.0 in /opt/conda/lib/python3.10/site-packages (from pydantic>=2.1.0->arize-phoenix) (0.4.1)\n",
      "Requirement already satisfied: pydantic-core==2.33.2 in /opt/conda/lib/python3.10/site-packages (from pydantic>=2.1.0->arize-phoenix) (2.33.2)\n",
      "Requirement already satisfied: greenlet>=1 in /opt/conda/lib/python3.10/site-packages (from sqlalchemy[asyncio]<3,>=2.0.4->arize-phoenix) (1.1.3)\n",
      "Requirement already satisfied: cryptography in /opt/conda/lib/python3.10/site-packages (from authlib->arize-phoenix) (38.0.1)\n",
      "Requirement already satisfied: idna>=2.0.0 in /opt/conda/lib/python3.10/site-packages (from email-validator->arize-phoenix) (3.4)\n",
      "Requirement already satisfied: dnspython>=2.0.0 in /opt/conda/lib/python3.10/site-packages (from email-validator->arize-phoenix) (2.7.0)\n",
      "Requirement already satisfied: anyio<5,>=3.6.2 in /opt/conda/lib/python3.10/site-packages (from starlette->arize-phoenix) (4.9.0)\n",
      "Requirement already satisfied: certifi in /opt/conda/lib/python3.10/site-packages (from httpx->arize-phoenix) (2022.9.24)\n",
      "Requirement already satisfied: httpcore==1.* in /opt/conda/lib/python3.10/site-packages (from httpx->arize-phoenix) (1.0.9)\n",
      "Requirement already satisfied: sniffio in /opt/conda/lib/python3.10/site-packages (from httpx->arize-phoenix) (1.3.0)\n",
      "Requirement already satisfied: h11>=0.16 in /opt/conda/lib/python3.10/site-packages (from httpcore==1.*->httpx->arize-phoenix) (0.16.0)\n",
      "Requirement already satisfied: MarkupSafe>=2.0 in /opt/conda/lib/python3.10/site-packages (from jinja2->arize-phoenix) (2.1.1)\n",
      "Requirement already satisfied: opentelemetry-exporter-otlp-proto-grpc==1.34.1 in /opt/conda/lib/python3.10/site-packages (from opentelemetry-exporter-otlp->arize-phoenix) (1.34.1)\n",
      "Requirement already satisfied: opentelemetry-exporter-otlp-proto-http==1.34.1 in /opt/conda/lib/python3.10/site-packages (from opentelemetry-exporter-otlp->arize-phoenix) (1.34.1)\n",
      "Requirement already satisfied: opentelemetry-exporter-otlp-proto-common==1.34.1 in /opt/conda/lib/python3.10/site-packages (from opentelemetry-exporter-otlp-proto-grpc==1.34.1->opentelemetry-exporter-otlp->arize-phoenix) (1.34.1)\n",
      "Requirement already satisfied: googleapis-common-protos~=1.52 in /opt/conda/lib/python3.10/site-packages (from opentelemetry-exporter-otlp-proto-grpc==1.34.1->opentelemetry-exporter-otlp->arize-phoenix) (1.70.0)\n",
      "Requirement already satisfied: requests~=2.7 in /opt/conda/lib/python3.10/site-packages (from opentelemetry-exporter-otlp-proto-http==1.34.1->opentelemetry-exporter-otlp->arize-phoenix) (2.32.4)\n",
      "Requirement already satisfied: importlib-metadata<8.8.0,>=6.0 in /opt/conda/lib/python3.10/site-packages (from opentelemetry-api->openinference-instrumentation>=0.1.32->arize-phoenix) (8.7.0)\n",
      "Requirement already satisfied: joblib>=1.0.0 in /opt/conda/lib/python3.10/site-packages (from scikit-learn->arize-phoenix) (1.2.0)\n",
      "Requirement already satisfied: threadpoolctl>=2.0.0 in /opt/conda/lib/python3.10/site-packages (from scikit-learn->arize-phoenix) (3.1.0)\n",
      "Requirement already satisfied: click>=7.0 in /opt/conda/lib/python3.10/site-packages (from uvicorn->arize-phoenix) (8.1.3)\n",
      "Requirement already satisfied: exceptiongroup>=1.0.2 in /opt/conda/lib/python3.10/site-packages (from anyio<5,>=3.6.2->starlette->arize-phoenix) (1.3.0)\n",
      "Requirement already satisfied: six>=1.5 in /opt/conda/lib/python3.10/site-packages (from python-dateutil<3.0.0,>=2.7.0->strawberry-graphql==0.270.1->arize-phoenix) (1.16.0)\n",
      "Requirement already satisfied: cffi>=1.12 in /opt/conda/lib/python3.10/site-packages (from cryptography->authlib->arize-phoenix) (1.15.1)\n",
      "Requirement already satisfied: pycparser in /opt/conda/lib/python3.10/site-packages (from cffi>=1.12->cryptography->authlib->arize-phoenix) (2.21)\n",
      "Requirement already satisfied: zipp>=3.20 in /opt/conda/lib/python3.10/site-packages (from importlib-metadata<8.8.0,>=6.0->opentelemetry-api->openinference-instrumentation>=0.1.32->arize-phoenix) (3.23.0)\n",
      "Requirement already satisfied: charset_normalizer<4,>=2 in /opt/conda/lib/python3.10/site-packages (from requests~=2.7->opentelemetry-exporter-otlp-proto-http==1.34.1->opentelemetry-exporter-otlp->arize-phoenix) (2.1.1)\n",
      "Requirement already satisfied: urllib3<3,>=1.21.1 in /opt/conda/lib/python3.10/site-packages (from requests~=2.7->opentelemetry-exporter-otlp-proto-http==1.34.1->opentelemetry-exporter-otlp->arize-phoenix) (1.26.11)\n"
     ]
    }
   ],
   "source": [
    "!pip install --upgrade arize-phoenix"
   ]
  },
  {
   "cell_type": "code",
   "execution_count": 7,
   "id": "15822961-34e1-4cd4-ad4c-5d0370a090e1",
   "metadata": {},
   "outputs": [],
   "source": [
    "# 假設 ODS 的三欄分別是 A, B, C\n",
    "df.rename(columns={\n",
    "    \"A\": \"question\", \n",
    "    \"B\": \"respond\", \n",
    "    \"C\": \"reference\"\n",
    "}, inplace=True)\n"
   ]
  },
  {
   "cell_type": "code",
   "execution_count": 8,
   "id": "71331911-eee6-42bd-917d-04aa674e9b3b",
   "metadata": {},
   "outputs": [
    {
     "name": "stdout",
     "output_type": "stream",
     "text": [
      "📤 Uploading dataset...\n",
      "💾 Examples uploaded: http://phoenix:6006/datasets/RGF0YXNldDoy/examples\n",
      "🗄️ Dataset version ID: RGF0YXNldFZlcnNpb246Mg==\n"
     ]
    },
    {
     "name": "stderr",
     "output_type": "stream",
     "text": [
      "/opt/conda/lib/python3.10/site-packages/phoenix/utilities/client.py:60: UserWarning: The Phoenix server (10.11.0) and client (10.12.0) versions are mismatched and may have compatibility issues.\n",
      "  warnings.warn(\n"
     ]
    }
   ],
   "source": [
    "import phoenix as px\n",
    "\n",
    "client = px.Client(endpoint=\"http://phoenix:6006\")\n",
    "dataset = client.upload_dataset(\n",
    "    dataframe=df,\n",
    "    dataset_name=\"only3-dataset\",\n",
    "    input_keys=[\"question\"],\n",
    "    output_keys=[\"respond\"],\n",
    "    metadata_keys=[\"reference\"]  # 將 reference 欄位視為 metadata\n",
    ")\n"
   ]
  },
  {
   "cell_type": "code",
   "execution_count": null,
   "id": "a67cf170-d8f5-4cbe-9b10-5b3315b0bab5",
   "metadata": {},
   "outputs": [],
   "source": []
  }
 ],
 "metadata": {
  "kernelspec": {
   "display_name": "Python 3 (ipykernel)",
   "language": "python",
   "name": "python3"
  },
  "language_info": {
   "codemirror_mode": {
    "name": "ipython",
    "version": 3
   },
   "file_extension": ".py",
   "mimetype": "text/x-python",
   "name": "python",
   "nbconvert_exporter": "python",
   "pygments_lexer": "ipython3",
   "version": "3.10.6"
  }
 },
 "nbformat": 4,
 "nbformat_minor": 5
}
